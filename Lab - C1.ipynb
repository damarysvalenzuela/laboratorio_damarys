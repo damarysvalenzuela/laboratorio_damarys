{
 "cells": [
  {
   "cell_type": "markdown",
   "id": "c191c972-2c85-4284-a555-7db618ba5b26",
   "metadata": {},
   "source": [
    "# Laboratorio de regresión logística"
   ]
  },
  {
   "cell_type": "markdown",
   "id": "e11c177c-1848-44b0-8c6b-b35537b5ae2f",
   "metadata": {},
   "source": [
    "|                |   |\n",
    ":----------------|---|\n",
    "| **Nombre**     |   |\n",
    "| **Fecha**      |   |\n",
    "| **Expediente** |   | "
   ]
  },
  {
   "cell_type": "markdown",
   "id": "c4f75ddf-058d-4e10-8a53-bf1b4874e1fa",
   "metadata": {},
   "source": [
    "La regresión logística es una herramienta utilizada para predecir respuestas cualitativas. Al igual que la regresión lineal, es un método sencillo que sirve como un punto de partida para técnicas más avanzadas. Por ejemplo, lo que se conoce como *redes neuronales* o *red de perceptrones multicapa* no es más que una estructura de regresiones logísticas que se alimentan entre sí."
   ]
  },
  {
   "cell_type": "markdown",
   "id": "7aca8491-9d65-4f36-86c5-60b58282c56b",
   "metadata": {},
   "source": [
    "1. Descarga el archivo de créditos y carga los datos (Default.csv). Utiliza `pandas`."
   ]
  },
  {
   "cell_type": "code",
   "execution_count": null,
   "id": "cf337cda-782d-41e3-9a27-15abe95121ad",
   "metadata": {},
   "outputs": [],
   "source": []
  },
  {
   "cell_type": "code",
   "execution_count": null,
   "id": "f9771c6b-1fcc-4413-9c75-f41fdd2cf892",
   "metadata": {},
   "outputs": [],
   "source": []
  },
  {
   "cell_type": "code",
   "execution_count": null,
   "id": "582dd548-3fd2-4421-b147-3c251dd5a201",
   "metadata": {},
   "outputs": [],
   "source": []
  },
  {
   "cell_type": "markdown",
   "id": "65b9bbd4-2e26-44b3-8842-a992c7da7374",
   "metadata": {},
   "source": [
    "2. Utiliza el comando `obj.head()`, donde `obj` es el nombre que le diste a los datos del archivo."
   ]
  },
  {
   "cell_type": "code",
   "execution_count": null,
   "id": "523807f3-b35f-45f8-bf81-a1dd5f63e7a6",
   "metadata": {},
   "outputs": [],
   "source": []
  },
  {
   "cell_type": "code",
   "execution_count": null,
   "id": "b09c3f99-5e86-422a-a363-64d334cf94c2",
   "metadata": {},
   "outputs": [],
   "source": []
  },
  {
   "cell_type": "code",
   "execution_count": null,
   "id": "b9bf0fce-f20b-438c-aecd-6ce10bdbdf07",
   "metadata": {},
   "outputs": [],
   "source": []
  },
  {
   "cell_type": "markdown",
   "id": "15c04d29-f53e-4abc-be36-84fcd4ec5f0d",
   "metadata": {},
   "source": [
    "El comando head arroja los primeras *n* líneas (por defecto 5) de los datos que están en el DataFrame.\n",
    "\n",
    "3. Utiliza el comando `obj.describe()`."
   ]
  },
  {
   "cell_type": "code",
   "execution_count": null,
   "id": "d9500b33-6d04-4322-bebe-08fa02305429",
   "metadata": {},
   "outputs": [],
   "source": []
  },
  {
   "cell_type": "code",
   "execution_count": null,
   "id": "643e5d7b-4a56-442b-9706-1732bf3e99a0",
   "metadata": {},
   "outputs": [],
   "source": []
  },
  {
   "cell_type": "code",
   "execution_count": null,
   "id": "060c28af-fec5-4cff-929a-8a9586aabf0d",
   "metadata": {},
   "outputs": [],
   "source": []
  },
  {
   "cell_type": "markdown",
   "id": "d0bddd85-1291-4b86-ac54-08579009eaad",
   "metadata": {},
   "source": [
    "El comando describe toma las columnas que tienen datos numéricos y saca datos estadísticos comunes:\n",
    "- *n*\n",
    "- media\n",
    "- desviación estándar\n",
    "- valor mínimo\n",
    "- primer cuartil\n",
    "- mediana\n",
    "- tercer cuartil\n",
    "- valor máximo\n",
    "\n",
    "3. Vistos estos datos, ¿qué columnas existen en el DataFrame? ¿Qué tipo de datos contienen?"
   ]
  },
  {
   "cell_type": "markdown",
   "id": "be36451d-c633-4ff5-8973-5aabb455e467",
   "metadata": {},
   "source": []
  },
  {
   "cell_type": "markdown",
   "id": "815fb698-119d-4d30-b1a7-83a6f9a5c00a",
   "metadata": {},
   "source": []
  },
  {
   "cell_type": "markdown",
   "id": "250e1819-a2b8-4ae9-86c6-533ae4c2aa36",
   "metadata": {},
   "source": []
  },
  {
   "cell_type": "markdown",
   "id": "d647ca4b-012f-4b9e-a062-6484f2fdb2c8",
   "metadata": {},
   "source": [
    "4. Configura el tipo de dato de las columnas `default` y `student` para cambiarlos a variables categóricas.\n",
    "\n",
    "`data[columna] = data[columna].astype(\"category\")`"
   ]
  },
  {
   "cell_type": "code",
   "execution_count": null,
   "id": "1ca68e38-8821-4a7b-96de-20f4209a2c84",
   "metadata": {},
   "outputs": [],
   "source": []
  },
  {
   "cell_type": "code",
   "execution_count": null,
   "id": "079e5d10-4a2a-470d-97b1-5b06f6b060ad",
   "metadata": {},
   "outputs": [],
   "source": []
  },
  {
   "cell_type": "code",
   "execution_count": null,
   "id": "3f5c9895-5023-4379-9999-d2218a64ff56",
   "metadata": {},
   "outputs": [],
   "source": []
  },
  {
   "cell_type": "markdown",
   "id": "ab653f15-e6c1-418f-8b78-4e4cb34c8380",
   "metadata": {},
   "source": [
    "Imagina que trabajas en un banco y que se te entregan estos datos. Tu objetivo es crear un modelo que ayude a predecir si una persona que solicita un crédito lo va a pagar. Exploremos los datos un poco más antes de crear un modelo.\n",
    "\n",
    "Veamos primero cómo es la distribución de los valores cuando una persona dejó de pagar y cuando siguió pagando. `Default` es el término utilizado para cuando una persona dejó de pagar.\n",
    "\n",
    "5. Crea una gráfica de caja para las columnas `income` y `balance`, con los datos agrupados con la columna `default`. Utiliza el comando `obj.boxplot(column=____, by=_____)`"
   ]
  },
  {
   "cell_type": "code",
   "execution_count": null,
   "id": "546de528-d1b8-442b-9aec-e6be74bdbfbf",
   "metadata": {},
   "outputs": [],
   "source": []
  },
  {
   "cell_type": "code",
   "execution_count": null,
   "id": "4388e93e-be93-4db7-b0ce-1cd946432a07",
   "metadata": {},
   "outputs": [],
   "source": []
  },
  {
   "cell_type": "code",
   "execution_count": null,
   "id": "3149fb97-f0db-44c5-9927-971161dd3751",
   "metadata": {},
   "outputs": [],
   "source": []
  },
  {
   "cell_type": "markdown",
   "id": "ebb61978-5302-4b07-b20a-603b429f874b",
   "metadata": {},
   "source": [
    "6. Crea una gráfica de dispersión donde el eje *x* sea la columna `balance` y el eje *y* la columna `income`. Utiliza el comando `obj.plot.scatter(x, y, c=\"default\", colormap=\"PiYG_r\", alpha=0.5)`."
   ]
  },
  {
   "cell_type": "code",
   "execution_count": null,
   "id": "1008ae54-6a73-442d-9598-2a2dfdb807a5",
   "metadata": {},
   "outputs": [],
   "source": []
  },
  {
   "cell_type": "code",
   "execution_count": null,
   "id": "ea5d596a-5dea-46d3-aa10-fb3e47a34a28",
   "metadata": {},
   "outputs": [],
   "source": []
  },
  {
   "cell_type": "code",
   "execution_count": null,
   "id": "ca72041b-1f94-46e0-bea9-c6b3a571728b",
   "metadata": {},
   "outputs": [],
   "source": []
  },
  {
   "cell_type": "markdown",
   "id": "49f3bb3e-5ba5-405f-9cfd-08a944f3a142",
   "metadata": {},
   "source": [
    "La regresión (lineal o logística) se usa para encontrar una línea que ajuste los datos para tomar una decisión. La línea que buscamos en regresión logística es aquella que nos ayude a separar las diferentes categorías. \n",
    "\n",
    "<img style=\"float: left; \" src=\"https://www.baeldung.com/wp-content/uploads/sites/4/2023/10/decision_boundary_curve.jpg\" width=\"400px\" />\n"
   ]
  },
  {
   "cell_type": "markdown",
   "id": "d04c4af0-ccb8-4174-b388-6260f4f206ed",
   "metadata": {},
   "source": [
    "## Regresión logística simple"
   ]
  },
  {
   "cell_type": "markdown",
   "id": "8479721f-877b-4c4f-abc1-1da69b8520eb",
   "metadata": {},
   "source": [
    "Creemos un modelo simple donde sólo utilizamos una de los factores para predecir una respuesta. Quiero conocer la probabilidad de que una persona deje de pagar su crédito dado el balance que tiene en su cuenta.\n",
    "\n",
    "$$ P(\\text{default}=\\text{Yes}|\\text{balance}) $$"
   ]
  },
  {
   "cell_type": "markdown",
   "id": "3cb24746-3fc3-444b-b7f4-0427a79eafc4",
   "metadata": {},
   "source": [
    "Por el momento la columna default no contiene valores numéricos, por lo que hay que transformar los datos. Como default es nuestra variable de respuesta (lo que queremos predecir) podemos nombrarla *y*.\n",
    "\n",
    "Ejecuta el código `y = obj[\"default\"] == \"Yes\"`. Extrae el factor `balance` en una variable *x*."
   ]
  },
  {
   "cell_type": "code",
   "execution_count": null,
   "id": "c5f7d3df-a374-433a-bcf7-4c2e59cf2491",
   "metadata": {},
   "outputs": [],
   "source": []
  },
  {
   "cell_type": "code",
   "execution_count": null,
   "id": "65959f38-4f3c-462a-a5c3-211306b3a035",
   "metadata": {},
   "outputs": [],
   "source": []
  },
  {
   "cell_type": "code",
   "execution_count": null,
   "id": "0e99db8a-e858-4a03-b806-f411473209a4",
   "metadata": {},
   "outputs": [],
   "source": []
  },
  {
   "cell_type": "markdown",
   "id": "979a233e-fb64-4051-8a1f-aa9143c2ad1e",
   "metadata": {},
   "source": [
    "Crea un gráfico de dispersión donde el eje *x* sea `balance` y el eje *y* sea `default` transformado."
   ]
  },
  {
   "cell_type": "code",
   "execution_count": null,
   "id": "38601930-985f-41b8-95c0-64e269fdd4fd",
   "metadata": {},
   "outputs": [],
   "source": []
  },
  {
   "cell_type": "code",
   "execution_count": null,
   "id": "2ce5350c-96c8-499c-9d4e-0e48f34b3198",
   "metadata": {},
   "outputs": [],
   "source": []
  },
  {
   "cell_type": "code",
   "execution_count": null,
   "id": "45d807f5-d835-4b87-a95d-0fe236df5116",
   "metadata": {},
   "outputs": [],
   "source": []
  },
  {
   "cell_type": "markdown",
   "id": "4d2f52fe-f647-420a-bc8d-98854ce647eb",
   "metadata": {},
   "source": [
    "La línea que utilizaremos para predecir la probabilidad es:\n",
    "\n",
    "$$ p(x) = \\frac{1}{1 + e^{-(\\beta_0 + \\beta_1 x)}} $$\n",
    "\n",
    "Para nuestro ejemplo de pagos y balance:\n",
    "\n",
    "$$ P(\\text{default}=1|\\text{balance}) = \\frac{1}{1 + e^{-(\\beta_0 + \\beta_1  \\text{balance})}} $$"
   ]
  },
  {
   "cell_type": "markdown",
   "id": "867bbcf8-3287-4f69-b396-1bc891e3d4b4",
   "metadata": {},
   "source": [
    "Buscamos maximizar la probabilidad de que el modelo tome decisiones correctas. Es decir, que cuando `default` fue verdadero, que la predicción sea 100%, y que cuando `default` fue falso que la predicción sea 0%.\n",
    "\n",
    "$$ \\Pi_{i:y_i=1} p(x_i) \\Pi_{i':y_{i'}} (1-p(x_{i'})) $$"
   ]
  },
  {
   "cell_type": "markdown",
   "id": "2548f26c-4608-45f6-974c-76dd9ff9ce10",
   "metadata": {},
   "source": [
    "La función de costo ya simplificada es la siguiente:\n",
    "\n",
    "$$ J(\\vec{\\beta}) = -  \\sum_{i=1}^n{[y_i \\ln{(\\hat{p}(x_i))} + (1-y_i)\\ln{(1 - \\hat{p}(x_i))}]}$$"
   ]
  },
  {
   "cell_type": "markdown",
   "id": "cd13da5a-745c-42c9-b54d-eb0201038089",
   "metadata": {},
   "source": [
    "Utiliza la clase `LogisticRegression` del módulo `linear_model` de la librería `sklearn` para estimar los parámetros del modelo."
   ]
  },
  {
   "cell_type": "code",
   "execution_count": null,
   "id": "1e27ce77-d143-40a8-8a85-7596ceb7ec07",
   "metadata": {},
   "outputs": [],
   "source": []
  },
  {
   "cell_type": "code",
   "execution_count": null,
   "id": "21c9b941-2563-474e-8944-0847ce7278fb",
   "metadata": {},
   "outputs": [],
   "source": []
  },
  {
   "cell_type": "code",
   "execution_count": null,
   "id": "981dc02b-0c44-4981-b24d-82d9083e09d4",
   "metadata": {},
   "outputs": [],
   "source": []
  },
  {
   "cell_type": "markdown",
   "id": "1df9414b-2a8e-42bd-a84b-633ba221dc12",
   "metadata": {},
   "source": [
    "Muchos aspectos de la regresión logística son similares a la regresión lineal. Podemos medir la precisión de nuestros estimados calculando sus errores estándar. El objetivo de calcular estos errores es asegurar que hay una relación estadísticamente significativa entre el factor y la variable de respuesta.\n",
    "\n",
    "Los errores estándar se obtienen con el siguiente procedimiento:\n",
    "\n",
    "1. Calcula las predicciones utilizando los $\\beta_0$ y $\\beta_1$ encontrados."
   ]
  },
  {
   "cell_type": "code",
   "execution_count": null,
   "id": "3a41f402-bf4f-4dd9-9f41-b47aaa2ff7f7",
   "metadata": {},
   "outputs": [],
   "source": []
  },
  {
   "cell_type": "code",
   "execution_count": null,
   "id": "566c9c2e-4476-4ab7-a5c1-a72a27d46a6e",
   "metadata": {},
   "outputs": [],
   "source": []
  },
  {
   "cell_type": "code",
   "execution_count": null,
   "id": "83ec9306-da93-4a39-aa54-da07f1a71db0",
   "metadata": {},
   "outputs": [],
   "source": []
  },
  {
   "cell_type": "markdown",
   "id": "7c9fd491-1e87-4b54-ad24-ae972ff499cb",
   "metadata": {},
   "source": [
    "2. Idealmente la probabilidad debería ser 100% o 0%. Si alguna predicción no fue absoluta significa que hay incertidumbre. Calcula $p(1-p)$ para todas tus predicciones."
   ]
  },
  {
   "cell_type": "code",
   "execution_count": null,
   "id": "2ec63991-e6cd-48b9-afe1-0e6f2c25578b",
   "metadata": {},
   "outputs": [],
   "source": []
  },
  {
   "cell_type": "code",
   "execution_count": null,
   "id": "e897d7b6-97d2-4536-a46d-12e19d083b4f",
   "metadata": {},
   "outputs": [],
   "source": []
  },
  {
   "cell_type": "code",
   "execution_count": null,
   "id": "ee34beed-72ae-440b-859e-bb376fda4b81",
   "metadata": {},
   "outputs": [],
   "source": []
  },
  {
   "cell_type": "markdown",
   "id": "f3897eae-d856-4cc9-9224-4988784a2531",
   "metadata": {},
   "source": [
    "3. Crea una matriz vacía y llena la diagonal con las probabilidades encontradas.\n",
    "\n",
    "`V = np.diagflat(*p(1-p)*)`"
   ]
  },
  {
   "cell_type": "code",
   "execution_count": null,
   "id": "b0414d6b-f881-4ee7-b406-9be9972aa4d5",
   "metadata": {},
   "outputs": [],
   "source": []
  },
  {
   "cell_type": "code",
   "execution_count": null,
   "id": "e0ce76fe-4da1-49e0-83f3-aafadc4c9a66",
   "metadata": {},
   "outputs": [],
   "source": []
  },
  {
   "cell_type": "code",
   "execution_count": null,
   "id": "2154bbbf-3f09-4143-b854-9bac0c3009ca",
   "metadata": {},
   "outputs": [],
   "source": []
  },
  {
   "cell_type": "markdown",
   "id": "f8e905e4-9d02-4077-aa3e-e8f2da17491c",
   "metadata": {},
   "source": [
    "4. Calcula la matriz de covarianza. (Dado que X es la matriz que contiene todos los factores)\n",
    "\n",
    "`cov = np.linalg.inv(X.T @ V @ X)`"
   ]
  },
  {
   "cell_type": "code",
   "execution_count": null,
   "id": "6eb4d973-362b-470c-8f50-6ea4a5fb2c71",
   "metadata": {},
   "outputs": [],
   "source": []
  },
  {
   "cell_type": "code",
   "execution_count": null,
   "id": "0779af66-573e-4340-88e7-521b8e15f765",
   "metadata": {},
   "outputs": [],
   "source": []
  },
  {
   "cell_type": "code",
   "execution_count": null,
   "id": "f58130d4-d334-4034-81bc-2734910a658c",
   "metadata": {},
   "outputs": [],
   "source": []
  },
  {
   "cell_type": "markdown",
   "id": "8a0ebe10-5f57-4f33-98d0-cc62259273ac",
   "metadata": {},
   "source": [
    "5. Los valores en la diagonal de la matriz de covarianza corresponden a la varianza de los factores. Utiliza los valores de la diagonal para calcular el error estándar.\n",
    "\n",
    "`se = np.sqrt(np.diag(cov))`"
   ]
  },
  {
   "cell_type": "code",
   "execution_count": null,
   "id": "99119840-b3b2-4d99-8250-ff777b67cf19",
   "metadata": {},
   "outputs": [],
   "source": []
  },
  {
   "cell_type": "code",
   "execution_count": null,
   "id": "160ee260-2e7d-4f47-a9d6-b37c285e39d8",
   "metadata": {},
   "outputs": [],
   "source": []
  },
  {
   "cell_type": "code",
   "execution_count": null,
   "id": "84d52f3d-dba8-4e77-8cbd-3b7dd7c4d920",
   "metadata": {},
   "outputs": [],
   "source": []
  },
  {
   "cell_type": "markdown",
   "id": "850e3bf5-a888-4985-936c-6655f0109b02",
   "metadata": {},
   "source": [
    "Ahora, revisemos si los estimados de nuestros coeficientes demuestran que hay una relación significativa entre los factores y la respuesta.\n",
    "\n",
    "Calculamos el estadístico *z*\n",
    "\n",
    "$$ z_j = \\frac{\\hat{\\beta_j}}{\\text{SE}(\\hat{\\beta_j})} $$"
   ]
  },
  {
   "cell_type": "code",
   "execution_count": null,
   "id": "a49cdb9a-6ad8-4ccf-a408-c13c024d4096",
   "metadata": {},
   "outputs": [],
   "source": []
  },
  {
   "cell_type": "code",
   "execution_count": null,
   "id": "1779d07a-583b-4124-b920-7d5b2c0dc089",
   "metadata": {},
   "outputs": [],
   "source": []
  },
  {
   "cell_type": "code",
   "execution_count": null,
   "id": "1b545b22-e264-47ba-8846-107983ff7f23",
   "metadata": {},
   "outputs": [],
   "source": []
  },
  {
   "cell_type": "markdown",
   "id": "d4b57cc6-6a33-4554-ba5f-1d1570986f00",
   "metadata": {},
   "source": [
    "Utilizamos el estadístico *z* para encontrar el *p-value*.\n",
    "\n",
    "`from scipy.stats import norm`\n",
    "\n",
    "`p_value = 2 * (1 - norm.cdf(abs(z_statistic)))`"
   ]
  },
  {
   "cell_type": "code",
   "execution_count": null,
   "id": "b95028ec-9c4b-48d3-95bb-7210202d9902",
   "metadata": {},
   "outputs": [],
   "source": []
  },
  {
   "cell_type": "code",
   "execution_count": null,
   "id": "7a38b128-87a1-4ffd-b9f1-d35f72743cb2",
   "metadata": {},
   "outputs": [],
   "source": []
  },
  {
   "cell_type": "code",
   "execution_count": null,
   "id": "660692fa-a954-4b49-8962-aaccc04b7d0d",
   "metadata": {},
   "outputs": [],
   "source": []
  },
  {
   "cell_type": "markdown",
   "id": "a465d7b1-1f78-4ae9-84a6-2b766c737e86",
   "metadata": {},
   "source": [
    "¿Es significativa la relación de los factores con la variable de respuesta?"
   ]
  },
  {
   "cell_type": "markdown",
   "id": "24252820-f896-4cda-9ff9-14b1c4e73cc1",
   "metadata": {
    "jp-MarkdownHeadingCollapsed": true
   },
   "source": []
  },
  {
   "cell_type": "markdown",
   "id": "a35fcf79-f150-4d91-a3ba-dd0c0005b379",
   "metadata": {},
   "source": []
  },
  {
   "cell_type": "markdown",
   "id": "255eee0a-7073-4595-ac4b-5e8275448eec",
   "metadata": {},
   "source": []
  },
  {
   "cell_type": "markdown",
   "id": "d436f218-93ab-4319-98b7-f9b2ea222efd",
   "metadata": {},
   "source": [
    "Repite el procedimiento con el factor `student`. \n",
    "1. Transforma el factor de {\"Yes\", \"No\"} a {1, 0}.\n",
    "2. Estima los coeficientes. \n",
    "3. Calcula el error estándar de tus estimaciones.\n",
    "   1. Usa tu modelo para encontrar $\\hat{p}(X)$\n",
    "   2. Calcula el error $p(1-p)$\n",
    "   3. Calcula la matriz de covarianza\n",
    "   4. Extrae el error estándar\n",
    "5. Argumenta si los factores son significativos utilizando el *p-value*.\n",
    "   1. Utiliza el error estándar para calcular el estadístico *z*\n",
    "   2. Calcula el *p-value*\n",
    "   3. ¿Son significativos?\n"
   ]
  },
  {
   "cell_type": "code",
   "execution_count": null,
   "id": "73a2c768-6032-4c63-8d41-611c11e1fed5",
   "metadata": {},
   "outputs": [],
   "source": []
  },
  {
   "cell_type": "code",
   "execution_count": null,
   "id": "ef7cd598-ac3f-464b-91e3-f43d54040933",
   "metadata": {},
   "outputs": [],
   "source": []
  },
  {
   "cell_type": "code",
   "execution_count": null,
   "id": "22862547-7f77-4aaa-82a8-e2474f22461b",
   "metadata": {},
   "outputs": [],
   "source": []
  },
  {
   "cell_type": "markdown",
   "id": "78e212e9-c505-4db4-8e7a-e533f11d1286",
   "metadata": {},
   "source": [
    "## Regresión logística múltiple"
   ]
  },
  {
   "cell_type": "markdown",
   "id": "9ac8c6c2-5e15-4684-9bd9-c31854d75fe1",
   "metadata": {},
   "source": [
    "Considera ahora el caso de múltiples factores. Intentemos predecir si la persona dejará de pagar su crédito utilizando toda la información que tenemos disponible. I.e.\n",
    "\n",
    "$$ P(\\text{default}=1|\\text{balance}, \\text{income}, \\text{student}) = \\frac{1}{1 + e^{-(\\beta_0 + \\beta_1  \\text{balance} + \\beta_2 \\text{income} + \\beta_3 \\text{student})}} $$"
   ]
  },
  {
   "cell_type": "markdown",
   "id": "9ae17c0f-e754-4287-bc34-f04396100460",
   "metadata": {},
   "source": [
    "1. Utiliza `LogisticRegression` para estimar los coeficientes.\n",
    "2. Calcula el error estándar de tus estimaciones.\n",
    "3. Argumenta si los factores son significativos utilizando el *p-value*. "
   ]
  },
  {
   "cell_type": "code",
   "execution_count": null,
   "id": "e7e36334-79c4-43c8-9006-da1ddf534dd6",
   "metadata": {},
   "outputs": [],
   "source": []
  },
  {
   "cell_type": "code",
   "execution_count": null,
   "id": "f6a299ea-0986-4c6a-8522-86247552b77f",
   "metadata": {},
   "outputs": [],
   "source": []
  },
  {
   "cell_type": "code",
   "execution_count": null,
   "id": "d49d4ed6-3732-4630-8445-8ae48f4135e1",
   "metadata": {},
   "outputs": [],
   "source": []
  },
  {
   "cell_type": "markdown",
   "id": "c251eb97-5c7e-470b-b95b-c04a6f8831ff",
   "metadata": {},
   "source": [
    "¿Cómo sabemos qué tan bueno es el modelo? Hay cuatro posibles casos para un problema de clasificación simple:\n",
    "- Era sí y se predijo sí. (Verdadero positivo **TP**)\n",
    "- Era sí y se predijo no. (Falso negativo **FN**)\n",
    "- Era no y se predijo sí. (Falso positivo **FP**)\n",
    "- Era no y se predijo no. (Verdadero negativo **TN**)\n",
    "\n",
    "De esos cuatro casos hay dos donde el modelo es correcto y dos donde el modelo no es correcto."
   ]
  },
  {
   "cell_type": "markdown",
   "id": "c30ff1dd-5ed3-4ec2-8f21-1b11b34db645",
   "metadata": {},
   "source": [
    "![](https://miro.medium.com/v2/resize:fit:720/format:webp/1*IuymDnZpRlkat0qejE26Nw.png)"
   ]
  },
  {
   "cell_type": "markdown",
   "id": "6510780d-6b24-41dc-a755-41daf62396ac",
   "metadata": {},
   "source": [
    "1. Menciona dos ejemplos donde consideres que un falso positivo sea un peor resultado que un falso negativo."
   ]
  },
  {
   "cell_type": "markdown",
   "id": "db97be2c-cd7d-4c44-9459-28286d261904",
   "metadata": {},
   "source": []
  },
  {
   "cell_type": "markdown",
   "id": "9f870dc7-ae32-464f-a22d-d3b073c894ec",
   "metadata": {},
   "source": []
  },
  {
   "cell_type": "markdown",
   "id": "a709cdbb-6de3-4117-ba06-59feaab58865",
   "metadata": {},
   "source": []
  },
  {
   "cell_type": "markdown",
   "id": "994601c2-a7ff-4406-9235-d9b6bb5054bd",
   "metadata": {},
   "source": [
    "2. Menciona dos ejemplos donde consideres que un falso negativo sea un peor resultado que un falso positivo."
   ]
  },
  {
   "cell_type": "markdown",
   "id": "91e4ec0d-9d8e-4aba-a590-14f02cf68a47",
   "metadata": {},
   "source": []
  },
  {
   "cell_type": "markdown",
   "id": "15db3797-05d5-4cce-87d9-42c5ecbd3c3e",
   "metadata": {},
   "source": []
  },
  {
   "cell_type": "markdown",
   "id": "3202b95e-cb0d-4891-b07e-5981e67eab3f",
   "metadata": {},
   "source": []
  },
  {
   "cell_type": "markdown",
   "id": "ea6276ff-dad9-4caf-a6ed-a23a60ac7ada",
   "metadata": {},
   "source": [
    "## Referencia\n",
    "\n",
    "James, G., Witten, D., Hastie, T., Tibshirani, R.,, Taylor, J. (2023). An Introduction to Statistical Learning with Applications in Python. Cham: Springer. ISBN: 978-3-031-38746-3"
   ]
  }
 ],
 "metadata": {
  "kernelspec": {
   "display_name": "Python 3 (ipykernel)",
   "language": "python",
   "name": "python3"
  },
  "language_info": {
   "codemirror_mode": {
    "name": "ipython",
    "version": 3
   },
   "file_extension": ".py",
   "mimetype": "text/x-python",
   "name": "python",
   "nbconvert_exporter": "python",
   "pygments_lexer": "ipython3",
   "version": "3.12.7"
  }
 },
 "nbformat": 4,
 "nbformat_minor": 5
}
