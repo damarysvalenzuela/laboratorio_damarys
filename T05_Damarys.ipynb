{
  "nbformat": 4,
  "nbformat_minor": 0,
  "metadata": {
    "colab": {
      "provenance": []
    },
    "kernelspec": {
      "name": "python3",
      "display_name": "Python 3"
    },
    "language_info": {
      "name": "python"
    }
  },
  "cells": [
    {
      "cell_type": "markdown",
      "source": [
        "# T05- Motor Trend Car Road Test"
      ],
      "metadata": {
        "id": "gS49yluRZKEo"
      }
    },
    {
      "cell_type": "markdown",
      "source": [
        "1.1 Realiza una regresión tomando 'mpg' como salida y eliminando la columna 'model'. Considera todos los demás factores como numéricos/ordinales.\n",
        "\n",
        "Calcula el R2 e interpreta los signos de los betas.\n",
        "Realiza un train-test-split donde se use el 40% de los datos para entrenar. Calcula el R2 de entrenamiento y de prueba.\n",
        "Añade regularización L2 con un hiperparámetro lambda decidido por ti. Cambia este valor y compara con varios distintos los R2 de entrenamiento y de prueba."
      ],
      "metadata": {
        "id": "WNXo2vIGZbUn"
      }
    },
    {
      "cell_type": "code",
      "execution_count": 1,
      "metadata": {
        "id": "_p0JJXxIZJNB"
      },
      "outputs": [],
      "source": [
        "import pandas as pd\n",
        "import numpy as np\n",
        "from sklearn.model_selection import train_test_split\n",
        "from sklearn.preprocessing import StandardScaler\n",
        "from sklearn.linear_model import LinearRegression, Ridge, Lasso\n",
        "from sklearn.metrics import r2_score\n",
        "import statsmodels.api as sm\n",
        "from sklearn.metrics import mean_squared_error"
      ]
    },
    {
      "cell_type": "code",
      "source": [
        "df = pd.read_excel(\"Motor Trend Car Road Tests.xlsx\")\n",
        "df= df.drop(columns=\"model\")"
      ],
      "metadata": {
        "id": "YdqOA58WZmmY"
      },
      "execution_count": 21,
      "outputs": []
    },
    {
      "cell_type": "code",
      "source": [
        "x=df.drop(columns=\"mpg\")\n",
        "y=df[\"mpg\"]"
      ],
      "metadata": {
        "id": "NxAUkQ8kbLZ_"
      },
      "execution_count": null,
      "outputs": []
    },
    {
      "cell_type": "markdown",
      "source": [
        "1.1"
      ],
      "metadata": {
        "id": "AW176Q_MbFoB"
      }
    },
    {
      "cell_type": "code",
      "source": [
        "modelo=LinearRegression()\n",
        "modelo.fit(x,y)\n",
        "y_pred=modelo.predict(x)\n",
        "r2=r2_score(y,y_pred)\n",
        "print(r2,modelo.coef_,modelo.intercept_)"
      ],
      "metadata": {
        "colab": {
          "base_uri": "https://localhost:8080/"
        },
        "id": "yT6BBk0hZuK2",
        "outputId": "404b9d61-766e-44cf-eaf4-2e517bba8161"
      },
      "execution_count": 4,
      "outputs": [
        {
          "output_type": "stream",
          "name": "stdout",
          "text": [
            "0.8690157644777647 [-0.11144048  0.01333524 -0.02148212  0.78711097 -3.71530393  0.82104075\n",
            "  0.31776281  2.52022689  0.65541302 -0.19941925] 12.30337415599622\n"
          ]
        }
      ]
    },
    {
      "cell_type": "markdown",
      "source": [
        "*   El modelo explica casi el 87% de la variabilidad.\n",
        "cyl (-0.111) → más cilindros reducen ligeramente el mpg (coherente: motores con más cilindros consumen más).\n",
        "\n",
        "disp (+0.013) → mayor desplazamiento aumenta levemente el mpg, lo cual es contraintuitivo; seguramente se debe a multicolinealidad con cyl y hp.\n",
        "\n",
        "hp (-0.021) → más caballos de fuerza reducen el mpg (esperado: motores más potentes gastan más).\n",
        "\n",
        "drat (+0.787) → una relación del diferencial más alta se asocia con mayor mpg (coherente con transmisiones más eficientes).\n",
        "\n",
        "wt (-3.715) → el peso tiene un fuerte efecto negativo: autos más pesados consumen más.\n",
        "\n",
        "qsec (+0.821) → un mayor tiempo en el cuarto de milla (autos más lentos) se relaciona con más mpg (tiene sentido: autos menos deportivos son más eficientes).\n",
        "\n",
        "vs (+0.318) → motores en línea tienden a consumir menos que los motores en V.\n",
        "\n",
        "am (+2.520) → transmisión manual se asocia con más mpg frente a automática (en esta época los manuales eran más eficientes).\n",
        "\n",
        "gear (+0.655) → más marchas aumentan el mpg (mejor aprovechamiento del motor).\n",
        "\n",
        "carb (-0.199) → más carburadores reducen el mpg (esperado: motores con más carburadores son más tragones).\n",
        "\n",
        "\n"
      ],
      "metadata": {
        "id": "atpxHiQMbiS8"
      }
    },
    {
      "cell_type": "code",
      "source": [
        "Xtrain, Xtest, ytrain, ytest = train_test_split(x, y, train_size=0.4,random_state=137)\n",
        "modelo = LinearRegression()\n",
        "modelo.fit(Xtrain, ytrain)\n",
        "y_train_pred = modelo.predict(Xtrain)\n",
        "y_test_pred = modelo.predict(Xtest)\n",
        "r2_score(ytest, y_test_pred), r2_score(ytrain, y_train_pred)"
      ],
      "metadata": {
        "colab": {
          "base_uri": "https://localhost:8080/"
        },
        "id": "CS1EdunIa2OE",
        "outputId": "105599eb-c838-41ca-866b-901ced13bb64"
      },
      "execution_count": 41,
      "outputs": [
        {
          "output_type": "execute_result",
          "data": {
            "text/plain": [
              "(-54.0717852041882, 0.9900805114414539)"
            ]
          },
          "metadata": {},
          "execution_count": 41
        }
      ]
    },
    {
      "cell_type": "markdown",
      "source": [
        "Podemos observar que es un muy mal modelo."
      ],
      "metadata": {
        "id": "Ih5c3B3MdIc2"
      }
    },
    {
      "cell_type": "markdown",
      "source": [
        "# L2\n",
        "LAMBDA = 1"
      ],
      "metadata": {
        "id": "uE5AU_kiehyP"
      }
    },
    {
      "cell_type": "code",
      "source": [
        "ridge = Ridge(alpha=1.0)\n",
        "ridge.fit(Xtrain, ytrain)\n",
        "y_train_ridge = ridge.predict(Xtrain)\n",
        "y_test_ridge = ridge.predict(Xtest)\n",
        "r2_score(ytest, y_test_ridge), r2_score(ytrain, y_train_ridge)"
      ],
      "metadata": {
        "colab": {
          "base_uri": "https://localhost:8080/"
        },
        "id": "NF7lXyN0cp1y",
        "outputId": "ec2fc11c-79ce-4271-f2aa-4a044652fc43"
      },
      "execution_count": 32,
      "outputs": [
        {
          "output_type": "execute_result",
          "data": {
            "text/plain": [
              "(0.4670324098673717, 0.941180972889592)"
            ]
          },
          "metadata": {},
          "execution_count": 32
        }
      ]
    },
    {
      "cell_type": "markdown",
      "source": [
        "LAMBDA = 0.5"
      ],
      "metadata": {
        "id": "8PNG9truepXs"
      }
    },
    {
      "cell_type": "code",
      "source": [
        "ridge = Ridge(alpha=0.5)\n",
        "ridge.fit(Xtrain, ytrain)\n",
        "y_train_ridge = ridge.predict(Xtrain)\n",
        "y_test_ridge = ridge.predict(Xtest)\n",
        "r2_score(ytest, y_test_ridge), r2_score(ytrain, y_train_ridge)"
      ],
      "metadata": {
        "colab": {
          "base_uri": "https://localhost:8080/"
        },
        "id": "YpgeQ5YQefog",
        "outputId": "404860ec-c91e-4566-d442-cbeb82549f83"
      },
      "execution_count": 15,
      "outputs": [
        {
          "output_type": "execute_result",
          "data": {
            "text/plain": [
              "(0.3551117645277456, 0.9600121477839029)"
            ]
          },
          "metadata": {},
          "execution_count": 15
        }
      ]
    },
    {
      "cell_type": "markdown",
      "source": [
        "LAMBDA = 2"
      ],
      "metadata": {
        "id": "QY1VL4OpexWH"
      }
    },
    {
      "cell_type": "code",
      "source": [
        "ridge = Ridge(alpha=2.0)\n",
        "ridge.fit(Xtrain, ytrain)\n",
        "y_train_ridge = ridge.predict(Xtrain)\n",
        "y_test_ridge = ridge.predict(Xtest)\n",
        "r2_score(ytest, y_test_ridge), r2_score(ytrain, y_train_ridge)"
      ],
      "metadata": {
        "colab": {
          "base_uri": "https://localhost:8080/"
        },
        "id": "Rtd16KcFevlw",
        "outputId": "255ab38e-1f0c-41e1-f421-a0b2ee37ee7d"
      },
      "execution_count": 16,
      "outputs": [
        {
          "output_type": "execute_result",
          "data": {
            "text/plain": [
              "(0.5642163057473744, 0.918051015715246)"
            ]
          },
          "metadata": {},
          "execution_count": 16
        }
      ]
    },
    {
      "cell_type": "markdown",
      "source": [
        "LAMBDA = 3"
      ],
      "metadata": {
        "id": "DmzT2B2ve3d7"
      }
    },
    {
      "cell_type": "code",
      "source": [
        "ridge = Ridge(alpha=3.0)\n",
        "ridge.fit(Xtrain, ytrain)\n",
        "y_train_ridge = ridge.predict(Xtrain)\n",
        "y_test_ridge = ridge.predict(Xtest)\n",
        "r2_score(ytest, y_test_ridge), r2_score(ytrain, y_train_ridge)"
      ],
      "metadata": {
        "colab": {
          "base_uri": "https://localhost:8080/"
        },
        "id": "sHerMJJHe15A",
        "outputId": "f626568d-2451-41fd-eecb-796bbd84d5ff"
      },
      "execution_count": 17,
      "outputs": [
        {
          "output_type": "execute_result",
          "data": {
            "text/plain": [
              "(0.6109958814256091, 0.9027420336912753)"
            ]
          },
          "metadata": {},
          "execution_count": 17
        }
      ]
    },
    {
      "cell_type": "markdown",
      "source": [
        "Con un lambda grande nos da un mejor R2 test."
      ],
      "metadata": {
        "id": "WVHranz9e8Vy"
      }
    },
    {
      "cell_type": "markdown",
      "source": [
        "# 1.2"
      ],
      "metadata": {
        "id": "hxLdXNTmfH-i"
      }
    },
    {
      "cell_type": "code",
      "source": [
        "x1=df.drop(columns=\"qsec\")\n",
        "y1=df[\"qsec\"]"
      ],
      "metadata": {
        "id": "GmwgWGFse64m"
      },
      "execution_count": 30,
      "outputs": []
    },
    {
      "cell_type": "code",
      "source": [
        "modelo1=LinearRegression()\n",
        "modelo1.fit(x1,y1)\n",
        "y_pred1=modelo1.predict(x1)\n",
        "r2_1=r2_score(y1,y_pred1)\n",
        "print(r2_1,modelo1.coef_,modelo1.intercept_)"
      ],
      "metadata": {
        "colab": {
          "base_uri": "https://localhost:8080/"
        },
        "id": "0iGV5ofGf1mR",
        "outputId": "f84bb867-f061-4e6b-fd1c-b703c413991d"
      },
      "execution_count": 24,
      "outputs": [
        {
          "output_type": "stream",
          "name": "stdout",
          "text": [
            "0.8746925777094 [ 0.06904768 -0.36267823 -0.00750084 -0.00156255 -0.1310636   1.49633224\n",
            "  0.97003474 -0.90118641 -0.20128511 -0.27359751] 17.77617692970135\n"
          ]
        }
      ]
    },
    {
      "cell_type": "markdown",
      "source": [
        "*   El modelo explica 87.5% de la variabilidad.\n",
        "\n",
        "mpg (+0.069) → a mayor eficiencia de combustible, el auto tiende a tardar más en el ¼ de milla. Tiene sentido: autos “económicos” suelen ser menos deportivos y por lo tanto más lentos.\n",
        "\n",
        "cyl (−0.363) → más cilindros reducen el tiempo en el ¼ de milla. Autos con más cilindros suelen tener más potencia y aceleran más rápido.\n",
        "\n",
        "disp (−0.0075) → mayor desplazamiento también reduce el tiempo, coherente con motores más grandes y rápidos.\n",
        "\n",
        "hp (−0.0016) → más caballos de fuerza reducen el tiempo, lo esperado (más potencia = mayor aceleración).\n",
        "\n",
        "drat (−0.131) → una relación de diferencial mayor se asocia con tiempos más bajos; puede estar reflejando que ciertas configuraciones de transmisión permiten acelerar más rápido.\n",
        "\n",
        "wt (+1.496) → autos más pesados tardan bastante más en el ¼ de milla; este es uno de los efectos más fuertes y tiene mucho sentido: más masa = menos aceleración.\n",
        "\n",
        "vs (+0.970) → motores en línea (vs=1) se asocian con un tiempo mayor que motores en V; los V suelen ser más deportivos.\n",
        "\n",
        "am (−0.901) → transmisión manual reduce el tiempo en el ¼ de milla, es decir, los autos manuales son más rápidos en aceleración que los automáticos en este dataset.\n",
        "\n",
        "gear (−0.201) → más marchas reducen un poco el tiempo, lo que encaja con transmisiones optimizadas para performance.\n",
        "\n",
        "carb (−0.274) → más carburadores reducen el tiempo, consistente con motores más potentes y deportivos.\n",
        "\n"
      ],
      "metadata": {
        "id": "-qy2oyfIf-mX"
      }
    },
    {
      "cell_type": "code",
      "source": [
        "Xtrain1, Xtest1, ytrain1, ytest1 = train_test_split(x1, y1, train_size=0.4,random_state=137)\n",
        "modelo1 = LinearRegression()\n",
        "modelo1.fit(Xtrain1, ytrain1)\n",
        "y_train_pred1 = modelo1.predict(Xtrain1)\n",
        "y_test_pred1 = modelo1.predict(Xtest1)\n",
        "r2_score(ytest1, y_test_pred1), r2_score(ytrain1, y_train_pred1)"
      ],
      "metadata": {
        "colab": {
          "base_uri": "https://localhost:8080/"
        },
        "id": "NDD4JWZwf57j",
        "outputId": "745c3d64-a07e-476e-9d0c-def5f2604d08"
      },
      "execution_count": 31,
      "outputs": [
        {
          "output_type": "execute_result",
          "data": {
            "text/plain": [
              "(0.37610389620056905, 0.978762192523052)"
            ]
          },
          "metadata": {},
          "execution_count": 31
        }
      ]
    },
    {
      "cell_type": "markdown",
      "source": [
        "No esta taan mal como con mpg"
      ],
      "metadata": {
        "id": "mdSdrlyGiVgs"
      }
    },
    {
      "cell_type": "markdown",
      "source": [
        "#L2 para qsec"
      ],
      "metadata": {
        "id": "mzVkvOhziaRj"
      }
    },
    {
      "cell_type": "markdown",
      "source": [
        "LAMBDA= 1"
      ],
      "metadata": {
        "id": "0oep_61Qin3r"
      }
    },
    {
      "cell_type": "code",
      "source": [
        "ridge1 = Ridge(alpha=1.0)\n",
        "ridge1.fit(Xtrain1, ytrain1)\n",
        "y_train_ridge1 = ridge1.predict(Xtrain1)\n",
        "y_test_ridge1 = ridge1.predict(Xtest1)\n",
        "r2_score(ytest1, y_test_ridge1), r2_score(ytrain1, y_train_ridge1)"
      ],
      "metadata": {
        "colab": {
          "base_uri": "https://localhost:8080/"
        },
        "id": "rHBA3oGSiUXJ",
        "outputId": "0599b27e-d2e5-4e04-d1b9-ff914c3214fa"
      },
      "execution_count": 33,
      "outputs": [
        {
          "output_type": "execute_result",
          "data": {
            "text/plain": [
              "(0.6402616634038238, 0.9540964477531885)"
            ]
          },
          "metadata": {},
          "execution_count": 33
        }
      ]
    },
    {
      "cell_type": "markdown",
      "source": [
        "LAMBDA=0.5"
      ],
      "metadata": {
        "id": "T0g63-rmi0oU"
      }
    },
    {
      "cell_type": "code",
      "source": [
        "ridge1 = Ridge(alpha=0.5)\n",
        "ridge1.fit(Xtrain1, ytrain1)\n",
        "y_train_ridge1 = ridge1.predict(Xtrain1)\n",
        "y_test_ridge1 = ridge1.predict(Xtest1)\n",
        "r2_score(ytest1, y_test_ridge1), r2_score(ytrain1, y_train_ridge1)"
      ],
      "metadata": {
        "colab": {
          "base_uri": "https://localhost:8080/"
        },
        "id": "-Sbg2GI6iyvM",
        "outputId": "6b66eacb-df4e-4cb9-df95-ef1825bc083d"
      },
      "execution_count": 36,
      "outputs": [
        {
          "output_type": "execute_result",
          "data": {
            "text/plain": [
              "(0.6495157923372141, 0.9658674829994368)"
            ]
          },
          "metadata": {},
          "execution_count": 36
        }
      ]
    },
    {
      "cell_type": "markdown",
      "source": [
        "LAMBDA=2"
      ],
      "metadata": {
        "id": "DcCmlhCyi5WO"
      }
    },
    {
      "cell_type": "code",
      "source": [
        "ridge1 = Ridge(alpha=2.0)\n",
        "ridge1.fit(Xtrain1, ytrain1)\n",
        "y_train_ridge1 = ridge1.predict(Xtrain1)\n",
        "y_test_ridge1 = ridge1.predict(Xtest1)\n",
        "r2_score(ytest1, y_test_ridge1), r2_score(ytrain1, y_train_ridge1)"
      ],
      "metadata": {
        "colab": {
          "base_uri": "https://localhost:8080/"
        },
        "id": "7g2N608di3i9",
        "outputId": "2d118c71-7f1b-4198-c352-62303a3de39f"
      },
      "execution_count": 37,
      "outputs": [
        {
          "output_type": "execute_result",
          "data": {
            "text/plain": [
              "(0.6077481441244973, 0.933021737052848)"
            ]
          },
          "metadata": {},
          "execution_count": 37
        }
      ]
    },
    {
      "cell_type": "markdown",
      "source": [
        "Aquí no paso lo mismo con un lambda más grande no dio necesariamente un r2 para test mejor."
      ],
      "metadata": {
        "id": "brF4m9lki_z_"
      }
    },
    {
      "cell_type": "markdown",
      "source": [
        "# 2.1"
      ],
      "metadata": {
        "id": "KBMO0M36kAp7"
      }
    },
    {
      "cell_type": "code",
      "source": [
        "x_dummies = pd.get_dummies(x, columns=[\"cyl\", \"gear\", \"carb\"], drop_first=True)\n",
        "modelo=LinearRegression()\n",
        "modelo.fit(x_dummies,y)\n",
        "y_pred=modelo.predict(x_dummies)\n",
        "r2=r2_score(y,y_pred)\n",
        "print(r2,modelo.coef_,modelo.intercept_)"
      ],
      "metadata": {
        "colab": {
          "base_uri": "https://localhost:8080/"
        },
        "id": "5Lg0asVDi-Wq",
        "outputId": "65e2e3a7-f9f4-4daf-e83e-aeefba17b617"
      },
      "execution_count": 39,
      "outputs": [
        {
          "output_type": "stream",
          "name": "stdout",
          "text": [
            "0.8930749320864843 [ 0.03554632 -0.07050683  1.18283018 -4.52977584  0.36784482  1.93085054\n",
            "  1.2121157  -2.64869528 -0.33616298  1.11435494  2.52839599 -0.97935432\n",
            "  2.99963875  1.09142288  4.47756921  7.25041126] 23.87913244333949\n"
          ]
        }
      ]
    },
    {
      "cell_type": "markdown",
      "source": [
        "*   El modelo explica casi 89.3% de la variabilidad en mpg.\n",
        "disp (0.0355) → más desplazamiento se asocia con un leve aumento de mpg (posiblemente efecto de correlación con otras variables).\n",
        "\n",
        "hp (−0.0705) → más potencia reduce el mpg, lo esperado.\n",
        "\n",
        "drat (+1.1828) → relaciones de diferencial más altas mejoran la eficiencia.\n",
        "\n",
        "wt (−4.5298) → el peso reduce fuertemente el mpg (autos más pesados consumen más).\n",
        "\n",
        "qsec (+0.3678) → autos con mayor tiempo en ¼ de milla (más lentos) tienden a tener más mpg (coherente: menos deportivos = más eficientes).\n",
        "\n",
        "vs (+1.9309) → motores en línea consumen menos que los motores en V.\n",
        "\n",
        "am (+1.2121) → transmisión manual mejora el mpg respecto a automática.\n",
        "\n",
        "dummies de cyl (ej. −2.6487, −0.3362, etc.) → comparadas con la categoría base (p. ej. 4 cilindros), los autos de 6 u 8 cilindros presentan menor mpg (lo esperado).\n",
        "\n",
        "dummies de gear (ej. +1.1144, +2.5284, etc.) → comparados con la categoría base (p. ej. 3 marchas), más marchas suelen asociarse a mayor mpg (lógico: mejor aprovechamiento de motor).\n",
        "\n",
        "dummies de carb (ej. −0.9794, +2.9996, +1.0914, +4.4776, +7.2504) → según el número de carburadores respecto a la categoría base, algunos aumentan y otros disminuyen mpg. En general, más carburadores suelen reducir la eficiencia, pero aquí aparecen coeficientes positivos por multicolinealidad y lo pequeño del dataset.\n",
        "\n"
      ],
      "metadata": {
        "id": "kNIKAEsgmIoD"
      }
    },
    {
      "cell_type": "code",
      "source": [
        "Xtrain_dummies, Xtest_dummies, ytrain_dummies, ytest_dummies = train_test_split(x_dummies, y, train_size=0.4,random_state=137)\n",
        "modelo_dummies = LinearRegression()\n",
        "modelo_dummies.fit(Xtrain_dummies, ytrain_dummies)\n",
        "y_train_pred_dummies = modelo_dummies.predict(Xtrain_dummies)\n",
        "y_test_pred_dummies = modelo_dummies.predict(Xtest_dummies)\n",
        "r2_score(ytest_dummies, y_test_pred_dummies), r2_score(ytrain_dummies, y_train_pred_dummies)"
      ],
      "metadata": {
        "colab": {
          "base_uri": "https://localhost:8080/"
        },
        "id": "0c4GR54jl-SS",
        "outputId": "61194a7e-7754-4301-a9c9-8de82ac066bd"
      },
      "execution_count": 42,
      "outputs": [
        {
          "output_type": "execute_result",
          "data": {
            "text/plain": [
              "(-0.03244324027529921, 1.0)"
            ]
          },
          "metadata": {},
          "execution_count": 42
        }
      ]
    },
    {
      "cell_type": "markdown",
      "source": [
        "Nuevamente obtuvimos un terrible modelo."
      ],
      "metadata": {
        "id": "yV60jvofnLyR"
      }
    },
    {
      "cell_type": "markdown",
      "source": [
        "#2.2"
      ],
      "metadata": {
        "id": "9p3nI9GXnVnv"
      }
    },
    {
      "cell_type": "code",
      "source": [
        "x1_dummies = pd.get_dummies(x1, columns=[\"cyl\", \"gear\", \"carb\"], drop_first=True)\n",
        "modelo=LinearRegression()\n",
        "modelo.fit(x1_dummies,y1)\n",
        "y_pred1_dummies=modelo.predict(x1_dummies)\n",
        "r2=r2_score(y1,y_pred1_dummies)\n",
        "print(r2,modelo.coef_,modelo.intercept_)"
      ],
      "metadata": {
        "colab": {
          "base_uri": "https://localhost:8080/"
        },
        "id": "q4mvvprOnJeZ",
        "outputId": "20bc2785-5d48-460c-d362-9f122b30d86f"
      },
      "execution_count": 44,
      "outputs": [
        {
          "output_type": "stream",
          "name": "stdout",
          "text": [
            "0.9082689440167556 [ 2.77413839e-02  3.53115688e-03 -2.06618843e-03  1.07865814e-01\n",
            "  8.10472140e-01  2.65732208e-01 -1.69429351e+00 -1.10434255e+00\n",
            " -2.96690068e+00  1.33228234e+00  1.82317492e-01 -8.34412978e-01\n",
            " -2.29304367e-01 -1.94703381e+00 -1.56524104e+00 -1.33231717e+00] 16.349137498224888\n"
          ]
        }
      ]
    },
    {
      "cell_type": "markdown",
      "source": [
        "mpg (+0.028): autos más eficientes (más mpg) tienden a tardar más en el ¼ de milla → menos deportivos.\n",
        "\n",
        "disp (+0.0035): motores con más desplazamiento aumentan un poco el tiempo; contraintuitivo, puede ser efecto de colinealidad.\n",
        "\n",
        "hp (−0.0021): más caballos reducen el tiempo (coherente: más potencia = más aceleración).\n",
        "\n",
        "drat (+0.108): diferencial más alto se asocia con tiempos mayores (posible efecto de correlación con marchas/transmisión).\n",
        "\n",
        "wt (+0.810): autos más pesados tardan más (muy lógico).\n",
        "\n",
        "vs (+0.266): motores en línea tardan más que motores en V (los V suelen ser más deportivos).\n",
        "\n",
        "am (−1.694): transmisión manual reduce el tiempo (manuales aceleran mejor que automáticos en este dataset).\n",
        "\n",
        "cyl_6 (−1.104), cyl_8 (−2.967): comparados con 4 cilindros (categoría base), los autos de 6 y 8 cilindros son más rápidos (menos tiempo en ¼ milla).\n",
        "\n",
        "gear_4 (+1.332), gear_5 (+0.182): comparados con 3 marchas (categoría base), los autos con 4 o 5 marchas tardan más, lo cual sorprende (podría reflejar la composición del dataset más que una ley general).\n",
        "\n",
        "carb_2 (−0.834), carb_3 (−0.229), carb_4 (−1.947), carb_6 (−1.565), carb_8 (−1.332): frente a 1 carburador (categoría base), tener más carburadores reduce el tiempo (los autos con más carburadores suelen ser deportivos y aceleran más rápido)."
      ],
      "metadata": {
        "id": "s_mBUk_Loyhh"
      }
    },
    {
      "cell_type": "code",
      "source": [
        "Xtrain_dummies1, Xtest_dummies1, ytrain_dummies1, ytest_dummies1 = train_test_split(\n",
        "    x1_dummies, y1, train_size=0.4, random_state=137)\n",
        "\n",
        "modelo_dummies1 = LinearRegression()\n",
        "modelo_dummies1.fit(Xtrain_dummies1, ytrain_dummies1)\n",
        "y_train_pred_dummies1 = modelo_dummies1.predict(Xtrain_dummies1)\n",
        "y_test_pred_dummies1 = modelo_dummies1.predict(Xtest_dummies1)\n",
        "r2_score(ytest_dummies1, y_test_pred_dummies1),r2_score(ytrain_dummies1, y_train_pred_dummies1)\n"
      ],
      "metadata": {
        "colab": {
          "base_uri": "https://localhost:8080/"
        },
        "id": "3dJjJmUyompg",
        "outputId": "820cb8c1-32f1-44bd-ce95-853d89bbc42a"
      },
      "execution_count": 48,
      "outputs": [
        {
          "output_type": "execute_result",
          "data": {
            "text/plain": [
              "(-2.1319559728357165, 1.0)"
            ]
          },
          "metadata": {},
          "execution_count": 48
        }
      ]
    },
    {
      "cell_type": "markdown",
      "source": [
        "SOBREAJUSTE EXTREMO SOS"
      ],
      "metadata": {
        "id": "zx83wlg2p4kp"
      }
    },
    {
      "cell_type": "markdown",
      "source": [
        "# 3.1\n",
        "Ejercicio 1.1:\n",
        "\n",
        "R² (todo el dataset) ≈ 0.869.\n",
        "\n",
        "Train/Test split → Train = 0.99, Test = −54.07 (clarísimo sobreajuste por pocos datos).\n",
        "\n",
        "Con Ridge (L2, λ entre 0.5 y 2), el R² de test mejoró a valores positivos (0.35–0.56), mostrando que la regularización ayuda.\n",
        "\n",
        "Ejercicio 2.1 (con dummies en cyl, gear, carb):\n",
        "\n",
        "R² (todo el dataset) ≈ 0.893, ligeramente mejor que 1.1.\n",
        "\n",
        "Train/Test split → Train = 1.0, Test = −0.03 → sobreajuste fuerte, porque el número de predictores aumenta mucho con los dummies.\n",
        "\n",
        "Con los dummies mejora el ajuste de R2, el modelo 1.1 es mejor combinado con la regularización L2."
      ],
      "metadata": {
        "id": "lDCGfT17qfX6"
      }
    },
    {
      "cell_type": "markdown",
      "source": [
        "# 3.2\n",
        "(y = qsec)\n",
        "\n",
        "Ejercicio 1.2:\n",
        "\n",
        "R² (todo el dataset) ≈ 0.875.\n",
        "\n",
        "Train/Test split → Train = 0.979, Test = 0.376.\n",
        "\n",
        "Con Ridge (L2), el R² test mejoró hasta 0.64–0.65.\n",
        "\n",
        "Ejercicio 2.2 (con dummies):\n",
        "\n",
        "R² (todo el dataset) ≈ 0.908, mejor que 1.2.\n",
        "\n",
        "Train/Test split → Train = 1.0, Test = −2.13 → sobreajuste severo (pocos datos frente a muchos predictores).\n",
        "\n",
        "El modelo con dummies 2.2 logra un R2 más alto en todo el dataset, pero no generaliza nada bien. El modelo 1.2 tiene un R2 un poco menor, pero da mejores resultados en test, especialmente en L2."
      ],
      "metadata": {
        "id": "U5zwNg1NsZmB"
      }
    },
    {
      "cell_type": "code",
      "source": [],
      "metadata": {
        "id": "Fi4YvIZMsdMi"
      },
      "execution_count": null,
      "outputs": []
    }
  ]
}