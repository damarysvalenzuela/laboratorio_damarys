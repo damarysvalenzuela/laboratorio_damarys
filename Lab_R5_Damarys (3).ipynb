{
  "cells": [
    {
      "cell_type": "markdown",
      "id": "70086771-ad90-497d-9b51-22626c9cce63",
      "metadata": {
        "id": "70086771-ad90-497d-9b51-22626c9cce63"
      },
      "source": [
        "# Laboratorio de regresión - 5"
      ]
    },
    {
      "cell_type": "markdown",
      "id": "9f666e0e-9e63-49f4-96e1-053c5b1738c3",
      "metadata": {
        "id": "9f666e0e-9e63-49f4-96e1-053c5b1738c3"
      },
      "source": [
        "|                |   |\n",
        ":----------------|---|\n",
        "| **Nombre**     | Damarys Valenzuela Santos  |\n",
        "| **Fecha**      | 15/09/2025  |\n",
        "| **Expediente** |  744494 |"
      ]
    },
    {
      "cell_type": "markdown",
      "id": "19f352dc-5863-4685-af3c-25f8fcf60841",
      "metadata": {
        "id": "19f352dc-5863-4685-af3c-25f8fcf60841"
      },
      "source": [
        "## Validación"
      ]
    },
    {
      "cell_type": "markdown",
      "id": "b73fccec-9651-4f74-9d56-a3c2b2097e19",
      "metadata": {
        "id": "b73fccec-9651-4f74-9d56-a3c2b2097e19"
      },
      "source": [
        "Hemos estado usando `train_test_split` en nuestros modelos anteriores.\n",
        "\n",
        "¿Por qué?"
      ]
    },
    {
      "cell_type": "markdown",
      "id": "84fe97ab-a033-4d0f-ab73-0cdabe591655",
      "metadata": {
        "id": "84fe97ab-a033-4d0f-ab73-0cdabe591655"
      },
      "source": [
        "Ya que necesitamos dividir los datos en entrenamiento y prueba para evaluar si el modelo realmente generaliza a datos nuevos; entrenar y evaluar con los mismos datos puede llevar a un sobreajuste (el modelo “memoriza” en lugar de aprender). Con esta separación podemos medir su rendimiento real, ajustar mejor los hiperparámetros y simular cómo se comportará en escenarios reales, asegurándonos de que no solo funcione bien con los datos de entrenamiento, sino también con información desconocida."
      ]
    },
    {
      "cell_type": "markdown",
      "id": "20b452d0-e0b5-4d92-bd1a-288fa14a2ed9",
      "metadata": {
        "id": "20b452d0-e0b5-4d92-bd1a-288fa14a2ed9"
      },
      "source": []
    },
    {
      "cell_type": "markdown",
      "id": "0a60a028-ed60-4a5c-9308-dee4862e2bac",
      "metadata": {
        "id": "0a60a028-ed60-4a5c-9308-dee4862e2bac"
      },
      "source": [
        "Si la muestra es un subset de la población y queremos generalizar sobre la población, ¿no sería mejor utilizar todos los datos al entrenar un modelo?"
      ]
    },
    {
      "cell_type": "markdown",
      "id": "50989a32-59e7-4bef-9b60-89f543d8ca81",
      "metadata": {
        "id": "50989a32-59e7-4bef-9b60-89f543d8ca81"
      },
      "source": [
        "Necesitamos reservar una parte como conjunto de prueba paa estimar la capacidad de generalización del modelo; si entrenamos con el 100% de los datos, no podríamos saber cómo se comportará ante información nueva.  "
      ]
    },
    {
      "cell_type": "markdown",
      "id": "ed8b1ad0-3c68-4f6a-b16b-c0b1353d7dd2",
      "metadata": {
        "id": "ed8b1ad0-3c68-4f6a-b16b-c0b1353d7dd2"
      },
      "source": []
    },
    {
      "cell_type": "markdown",
      "id": "b98d96f3-7370-4161-aa67-75f10e5817cd",
      "metadata": {
        "id": "b98d96f3-7370-4161-aa67-75f10e5817cd"
      },
      "source": [
        "El propósito de volver a muestrear dentro de nuestro dataset es tener una idea de qué tan buena podría ser la generalización de nuestro modelo. Imagina un dataset ya separado en dos mitades. Utilizas la primera mitad para entrenar el modelo y pruebas en la segunda mitad; la segunda mitad eran datos invisibles para el modelo al momento de entrenar. Esto nos lleva a tres escenario típicos:\n",
        "\n",
        "1. Si el modelo hace buenas predicciones en la segunda mitad, significa que la primera mitad era \"suficiente\" para generalizar.\n",
        "2. Si el modelo no hace buenas predicciones en la segunda mitad, pero sí en la primera mitad, podría ser que había información importante en la segunda mitad que debió haber sido tomada en cuenta al entrenar, o un problema de overfitting.\n",
        "3. Si el modelo no hace buenas predicciones en la segunda mitad, y tampoco en la primera mitad, se tendrían que revisar los factores y/o el modelo seleccionado.\n",
        "\n",
        "El caso ideal sería el 1, pero por estadística los errores y varianzas tienen como entrada el número de muestas, por lo que tenemos menos seguridad de nuestros resutados al usar menos muestras. Si vemos que el modelo generaliza bien podemos unir de nuevo el dataset y entrenar sobre el dataset completo.\n",
        "\n",
        "En el caso 2 está el problema de que no podemos saber qué información es necesaria para el entrenamiento apropiado del modelo; esto nos lleva a pensar que debemos usar el dataset completo para entrenar, pero esto nos lleva al mismo problema de no saber si el modelo puede generalizar.\n",
        "\n",
        "El problema sólo incrementa si se tienen hiperparámetros en el modelo (e.g. $\\lambda$ en regularización)."
      ]
    },
    {
      "cell_type": "markdown",
      "id": "a16176ad-41fc-4f3c-b865-2eb4219152e2",
      "metadata": {
        "id": "a16176ad-41fc-4f3c-b865-2eb4219152e2"
      },
      "source": [
        "## Leave-One-Out Cross Validation"
      ]
    },
    {
      "cell_type": "markdown",
      "id": "e1f7165d-5b5d-4e92-ae7f-7edb12eea745",
      "metadata": {
        "id": "e1f7165d-5b5d-4e92-ae7f-7edb12eea745"
      },
      "source": [
        "Este método de validación es una colección de $n$ `train-test-split`. Teniendo un dataset de $n$ muestras, la lógica es:\n",
        "1. Saca una muestra del dataset.\n",
        "2. Entrena tu modelo con las $n-1$ muestras.\n",
        "3. Evalúa tu modelo en la muestra que quedó fuera con el métrico que más se ajuste a la aplicación.\n",
        "4. Regresa la muestra al dataset.\n",
        "5. Repite 1-4 con muestras diferentes hasta haber hecho el procedimiento $n$ veces para $n$ muestras.\n",
        "6. Calcula la media y desviación estándar de los métricos guardados."
      ]
    },
    {
      "cell_type": "markdown",
      "id": "21340b80-8fa4-4cdf-8fe4-85e4a35febcd",
      "metadata": {
        "id": "21340b80-8fa4-4cdf-8fe4-85e4a35febcd"
      },
      "source": [
        "Con los resultados del proceso de validación podemos saber qué tan bueno podría ser el modelo seleccionado con los datos (con/sin transformaciones)."
      ]
    },
    {
      "cell_type": "markdown",
      "id": "0983bf1c-a6a2-42e4-a522-92bba6b450ab",
      "metadata": {
        "id": "0983bf1c-a6a2-42e4-a522-92bba6b450ab"
      },
      "source": [
        "### Ejercicio 1"
      ]
    },
    {
      "cell_type": "markdown",
      "id": "21e5f076-bc52-482c-9560-ecd0c125efa7",
      "metadata": {
        "id": "21e5f076-bc52-482c-9560-ecd0c125efa7"
      },
      "source": [
        "Utiliza el dataset `Motor Trend Car Road Tests`. Elimina la columna `model` y entrena 32 modelos diferentes utilizando Leave-One-Out Cross Validation con target `mpg`. Utiliza MSE como métrico."
      ]
    },
    {
      "cell_type": "code",
      "execution_count": null,
      "id": "b7199ca1-32f0-463b-925f-76613d608a72",
      "metadata": {
        "id": "b7199ca1-32f0-463b-925f-76613d608a72"
      },
      "outputs": [],
      "source": [
        "import pandas as pd\n",
        "import numpy as np\n",
        "from sklearn.model_selection import train_test_split\n",
        "from sklearn.preprocessing import StandardScaler\n",
        "from sklearn.linear_model import LinearRegression, Ridge, Lasso\n",
        "from sklearn.metrics import r2_score\n",
        "import statsmodels.api as sm\n",
        "from sklearn.metrics import mean_squared_error"
      ]
    },
    {
      "cell_type": "code",
      "execution_count": null,
      "id": "40ad85dc-3106-4430-9ed2-b6354e00d87f",
      "metadata": {
        "id": "40ad85dc-3106-4430-9ed2-b6354e00d87f"
      },
      "outputs": [],
      "source": [
        "df = pd.read_excel(\"Motor Trend Car Road Tests.xlsx\")"
      ]
    },
    {
      "cell_type": "code",
      "source": [
        "df= df.drop(columns=\"model\")"
      ],
      "metadata": {
        "id": "k32H0bJ5j7CG"
      },
      "id": "k32H0bJ5j7CG",
      "execution_count": null,
      "outputs": []
    },
    {
      "cell_type": "code",
      "source": [
        "x=df.drop(columns=\"mpg\")\n",
        "y=df[\"mpg\"]"
      ],
      "metadata": {
        "id": "1AxBigawkV0H"
      },
      "id": "1AxBigawkV0H",
      "execution_count": null,
      "outputs": []
    },
    {
      "cell_type": "code",
      "source": [
        "mses=[]\n",
        "for i in range(32):\n",
        "  x_train=x.drop(i)\n",
        "  y_train=y.drop(i)\n",
        "  x_test=x.iloc[[i]]\n",
        "  y_test=y.iloc[[i]]\n",
        "\n",
        "  modelo=LinearRegression()\n",
        "  modelo.fit(x_train,y_train)\n",
        "\n",
        "  y_train_pred=modelo.predict(x_train)\n",
        "  y_test_pred=modelo.predict(x_test)\n",
        "\n",
        "  error = mean_squared_error(y_test,y_test_pred)\n",
        "  mses.append(error)"
      ],
      "metadata": {
        "id": "-TtNbsDrktss"
      },
      "id": "-TtNbsDrktss",
      "execution_count": null,
      "outputs": []
    },
    {
      "cell_type": "code",
      "source": [
        "np.mean(mses)"
      ],
      "metadata": {
        "colab": {
          "base_uri": "https://localhost:8080/"
        },
        "id": "C6_Pyc2HkuqQ",
        "outputId": "fc7eda11-c94a-4772-f3be-cbceb76375f1"
      },
      "id": "C6_Pyc2HkuqQ",
      "execution_count": null,
      "outputs": [
        {
          "output_type": "execute_result",
          "data": {
            "text/plain": [
              "np.float64(12.181558006901943)"
            ]
          },
          "metadata": {},
          "execution_count": 19
        }
      ]
    },
    {
      "cell_type": "code",
      "source": [
        "np.std(mses)"
      ],
      "metadata": {
        "colab": {
          "base_uri": "https://localhost:8080/"
        },
        "id": "DUaqRr0_kuQt",
        "outputId": "5e5f3cd9-6c57-4815-8179-606402fdc757"
      },
      "id": "DUaqRr0_kuQt",
      "execution_count": null,
      "outputs": [
        {
          "output_type": "execute_result",
          "data": {
            "text/plain": [
              "np.float64(17.067399871888522)"
            ]
          },
          "metadata": {},
          "execution_count": 20
        }
      ]
    },
    {
      "cell_type": "markdown",
      "id": "c8724bdb-e50b-4470-b53a-2d9843fae6ea",
      "metadata": {
        "id": "c8724bdb-e50b-4470-b53a-2d9843fae6ea"
      },
      "source": [
        "Interpreta."
      ]
    },
    {
      "cell_type": "markdown",
      "id": "b19904df-1fe6-433a-b1bd-a7ce86ce0eef",
      "metadata": {
        "id": "b19904df-1fe6-433a-b1bd-a7ce86ce0eef"
      },
      "source": [
        "Con esto pudimos obtener una medida más robusta del rendimiento y podemos reducir el sesgo en la evaluación, aprovecha al máximo los datos de entrenamiento."
      ]
    },
    {
      "cell_type": "markdown",
      "id": "dc8ee166-b442-49f8-bf40-db9aaf9c3db8",
      "metadata": {
        "id": "dc8ee166-b442-49f8-bf40-db9aaf9c3db8"
      },
      "source": []
    },
    {
      "cell_type": "markdown",
      "id": "dbc61dd1-fa5f-43b0-969a-592f8e9fc56f",
      "metadata": {
        "id": "dbc61dd1-fa5f-43b0-969a-592f8e9fc56f"
      },
      "source": [
        "## K-Folds Cross-Validation"
      ]
    },
    {
      "cell_type": "markdown",
      "id": "2dbca526-2c69-4c70-b6b4-270fc51d825b",
      "metadata": {
        "id": "2dbca526-2c69-4c70-b6b4-270fc51d825b"
      },
      "source": [
        "El dataset `Motor Trend Car Road Tests` sólo tiene 32 muestras, y utilizar un modelo sencillo de regresión múltiple hace que usar LOOCV sea muy rápido. El dataset `California Housing` tiene $20640$ muestras para $9$ columnas, entonces realizar un ajuste sobre una transformación o sobre el modelo y luego calcular el impacto esperado podría tomar más tiempo."
      ]
    },
    {
      "cell_type": "markdown",
      "id": "8a437812-c00e-400f-ae7d-110b3afa5dc3",
      "metadata": {
        "id": "8a437812-c00e-400f-ae7d-110b3afa5dc3"
      },
      "source": [
        "La solución propuesta es dividir el dataset en *k* folds (partes iguales), ajustar en *k-1* folds y probar en el restante."
      ]
    },
    {
      "cell_type": "markdown",
      "id": "5bb82cc3-0d35-442a-a12b-f9c6fd131af2",
      "metadata": {
        "id": "5bb82cc3-0d35-442a-a12b-f9c6fd131af2"
      },
      "source": [
        "### Ejercicio 2\n",
        "Utiliza el dataset `California Housing` y haz K-folds Cross Validation con 10 folds. Utiliza el MSE como métrico."
      ]
    },
    {
      "cell_type": "code",
      "execution_count": null,
      "id": "ba50e361-edcd-4cdb-9609-68f20d6fca97",
      "metadata": {
        "id": "ba50e361-edcd-4cdb-9609-68f20d6fca97",
        "colab": {
          "base_uri": "https://localhost:8080/"
        },
        "outputId": "20e0ed29-07a4-4a53-fbbe-7d00955edf93"
      },
      "outputs": [
        {
          "output_type": "stream",
          "name": "stdout",
          "text": [
            "Dataset Shape: (20640, 8) (20640,)\n",
            "Dataset Features: ['MedInc', 'HouseAge', 'AveRooms', 'AveBedrms', 'Population', 'AveOccup', 'Latitude', 'Longitude']\n",
            "Dataset Target: ['MedHouseVal']\n"
          ]
        }
      ],
      "source": [
        "from sklearn.datasets import fetch_california_housing\n",
        "\n",
        "housing = fetch_california_housing()\n",
        "print(\"Dataset Shape:\", housing.data.shape, housing.target.shape)\n",
        "print(\"Dataset Features:\", housing.feature_names)\n",
        "print(\"Dataset Target:\", housing.target_names)\n",
        "X = housing.data\n",
        "y = housing.target"
      ]
    },
    {
      "cell_type": "code",
      "source": [
        "k = 10\n",
        "indices = np.arange(len(X))\n",
        "np.random.shuffle(indices)\n",
        "folds = np.array_split(indices, k)\n",
        "for i in range(k):\n",
        "    test_index = folds[i]\n",
        "    train_index = np.hstack([folds[j] for j in range(k) if j != i])\n",
        "    x_train = X[train_index]\n",
        "    y_train = y[train_index]\n",
        "    x_test = X[test_index]\n",
        "    y_test = y[test_index]\n",
        "\n",
        "    modelo = LinearRegression()\n",
        "    modelo.fit(x_train, y_train)\n",
        "\n",
        "    y_test_pred = modelo.predict(x_test)\n",
        "\n",
        "    error = mean_squared_error(y_test, y_test_pred)\n",
        "    mses.append(error)\n",
        "\n",
        "print(np.mean(mses))\n",
        "print(np.std(mses))"
      ],
      "metadata": {
        "colab": {
          "base_uri": "https://localhost:8080/"
        },
        "id": "0R6ERUfhUeGJ",
        "outputId": "138c3acf-8cbd-4a58-8c85-4fdf5ccceb89"
      },
      "id": "0R6ERUfhUeGJ",
      "execution_count": 30,
      "outputs": [
        {
          "output_type": "stream",
          "name": "stdout",
          "text": [
            "0.5298501855992767\n",
            "0.027647170869278107\n"
          ]
        }
      ]
    },
    {
      "cell_type": "code",
      "execution_count": null,
      "id": "54f44358-f47d-493b-93cf-10aa2314fa20",
      "metadata": {
        "id": "54f44358-f47d-493b-93cf-10aa2314fa20"
      },
      "outputs": [],
      "source": []
    },
    {
      "cell_type": "markdown",
      "id": "34f7098f-a1de-4508-b3ff-af1484561856",
      "metadata": {
        "id": "34f7098f-a1de-4508-b3ff-af1484561856"
      },
      "source": [
        "Interpreta."
      ]
    },
    {
      "cell_type": "markdown",
      "id": "b7fbaf4d-f62b-46d9-9a35-23fcdd50a8ca",
      "metadata": {
        "id": "b7fbaf4d-f62b-46d9-9a35-23fcdd50a8ca"
      },
      "source": [
        "En promedio, el error de predicción es relativamente bajo y además bastante estable entre los diferentes folds, que muestra que el modelo es estable y consistente en las diferentes particiones de validación cruzada."
      ]
    },
    {
      "cell_type": "markdown",
      "id": "333c8039-5b38-4835-a523-d4f6f7a7040b",
      "metadata": {
        "id": "333c8039-5b38-4835-a523-d4f6f7a7040b"
      },
      "source": []
    },
    {
      "cell_type": "markdown",
      "id": "da5792ac-6d38-4f02-bf10-aeaa0a040d17",
      "metadata": {
        "id": "da5792ac-6d38-4f02-bf10-aeaa0a040d17"
      },
      "source": [
        "## Referencia\n",
        "\n",
        "James, G., Witten, D., Hastie, T., Tibshirani, R.,, Taylor, J. (2023). An Introduction to Statistical Learning with Applications in Python. Cham: Springer. ISBN: 978-3-031-38746-3"
      ]
    },
    {
      "cell_type": "code",
      "source": [],
      "metadata": {
        "id": "JuU2s0O88Wve"
      },
      "id": "JuU2s0O88Wve",
      "execution_count": null,
      "outputs": []
    }
  ],
  "metadata": {
    "kernelspec": {
      "display_name": "Python 3 (ipykernel)",
      "language": "python",
      "name": "python3"
    },
    "language_info": {
      "codemirror_mode": {
        "name": "ipython",
        "version": 3
      },
      "file_extension": ".py",
      "mimetype": "text/x-python",
      "name": "python",
      "nbconvert_exporter": "python",
      "pygments_lexer": "ipython3",
      "version": "3.12.7"
    },
    "colab": {
      "provenance": []
    }
  },
  "nbformat": 4,
  "nbformat_minor": 5
}