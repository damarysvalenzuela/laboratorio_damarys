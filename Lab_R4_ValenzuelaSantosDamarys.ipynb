{
  "cells": [
    {
      "cell_type": "markdown",
      "id": "2e2753e4-9dc7-41d7-b080-d1abfbb16b28",
      "metadata": {
        "id": "2e2753e4-9dc7-41d7-b080-d1abfbb16b28"
      },
      "source": [
        "# Laboratorio de regresión - 4"
      ]
    },
    {
      "cell_type": "markdown",
      "id": "c396ea70-b88c-4346-a14f-4aa7ca2e1b00",
      "metadata": {
        "id": "c396ea70-b88c-4346-a14f-4aa7ca2e1b00"
      },
      "source": [
        "|                |   |\n",
        ":----------------|---|\n",
        "| **Nombre**     |Damarys Valenzuela Santos   |\n",
        "| **Fecha**      |  09/09/2025 |\n",
        "| **Expediente** | 744494  |"
      ]
    },
    {
      "cell_type": "markdown",
      "id": "77def53e-10bf-474e-acdf-728e07bef102",
      "metadata": {
        "id": "77def53e-10bf-474e-acdf-728e07bef102"
      },
      "source": [
        "## Modelos penalizados"
      ]
    },
    {
      "cell_type": "markdown",
      "id": "d9bb791d-1843-4b4d-bd8b-69e6419511e8",
      "metadata": {
        "id": "d9bb791d-1843-4b4d-bd8b-69e6419511e8"
      },
      "source": [
        "Hasta ahora la función de costo que usamos para decidir qué tan bueno es nuestro modelo al momento de ajustar es:\n",
        "\n",
        "$$ \\text{RSS} = \\sum_{i=1}^n e_i^2 = \\sum_{i=1}^n (y_i - \\hat{y_i})^2 $$"
      ]
    },
    {
      "cell_type": "markdown",
      "id": "4e6b5e6b-abe9-4b75-b045-e4444de4fc35",
      "metadata": {
        "id": "4e6b5e6b-abe9-4b75-b045-e4444de4fc35"
      },
      "source": [
        "Dado que los errores obtenidos son una combinación de sesgo y varianza, puede ser que se sesgue un parámetro para minimizar el error. Esto significa que el modelo puede decidir que la salida no sea una combinación de los factores, sino una fuerte predilección sobre uno de los factores solamente."
      ]
    },
    {
      "cell_type": "markdown",
      "id": "84901f9e-5551-455a-a70c-c7e39d9e55ae",
      "metadata": {
        "id": "84901f9e-5551-455a-a70c-c7e39d9e55ae"
      },
      "source": [
        "E.g. se quiere ajustar un modelo\n",
        "\n",
        "$$ \\hat{z} = \\hat{\\beta_0} + \\hat{\\beta_1} x + \\hat{\\beta_2} y $$"
      ]
    },
    {
      "cell_type": "markdown",
      "id": "d6f473fc-6364-4b15-9bd4-f21a94cae151",
      "metadata": {
        "id": "d6f473fc-6364-4b15-9bd4-f21a94cae151"
      },
      "source": [
        "Se ajusta el modelo y se decide que la mejor decisión es $\\hat{\\beta_1} = 10000$ y $\\hat{\\beta_2}=50$. Considera limitaciones de problemas reales:\n",
        "- Quizás los parámetros son ajustes de maquinaria que se deben realizar para conseguir el mejor producto posible, y que $10000$ sea imposible de asignar.\n",
        "- Quizás los datos actuales están sesgados y sólo hacen parecer que uno de los factores importa más que el otro."
      ]
    },
    {
      "cell_type": "markdown",
      "id": "ff32fbaa-7965-42c1-9b73-3640414b77f2",
      "metadata": {
        "id": "ff32fbaa-7965-42c1-9b73-3640414b77f2"
      },
      "source": [
        "Una de las formas en las que se puede mitigar este problema es penalizando a los parámetros del modelo, cambiando la función de costo:"
      ]
    },
    {
      "cell_type": "markdown",
      "id": "3fc78736-9d8e-4e8b-94f3-6647bdaeb0d1",
      "metadata": {
        "id": "3fc78736-9d8e-4e8b-94f3-6647bdaeb0d1"
      },
      "source": [
        "$$ \\text{RSS}_{L2} = \\sum_{i=1}^n e_i^2  + \\lambda \\sum_{j=1}^p \\hat{\\beta_j}^2 $$"
      ]
    },
    {
      "cell_type": "markdown",
      "id": "2d942bf5-fb39-44a0-b612-4ec05ab99b71",
      "metadata": {
        "id": "2d942bf5-fb39-44a0-b612-4ec05ab99b71"
      },
      "source": [
        "El *L2* significa que se está agregando una penalización de segundo orden. Lo que hace esta penalización es que los factores ahora sólo tendrán permitido crecer si hay una reducción al menos proporcional en el error (sacrificamos sesgo, pero reducimos la varianza)."
      ]
    },
    {
      "cell_type": "markdown",
      "id": "45c0cafb-c152-48e4-a345-bb5348eb16c7",
      "metadata": {
        "id": "45c0cafb-c152-48e4-a345-bb5348eb16c7"
      },
      "source": [
        "Asimismo, existe la penalización *L1*"
      ]
    },
    {
      "cell_type": "markdown",
      "id": "9d9f2d93-d151-47ed-834f-4a7e91e94286",
      "metadata": {
        "id": "9d9f2d93-d151-47ed-834f-4a7e91e94286"
      },
      "source": [
        "$$ \\text{RSS}_{L1} = \\sum_{i=1}^n e_i^2  + \\lambda \\sum_{j=1}^p |\\hat{\\beta_j}| $$"
      ]
    },
    {
      "cell_type": "markdown",
      "id": "ea95f232-25ab-4b4c-99b3-075a18878d95",
      "metadata": {
        "id": "ea95f232-25ab-4b4c-99b3-075a18878d95"
      },
      "source": [
        "A las penalizaciones *L2* y *L1* se les conoce también como Ridge y Lasso, respectivamente."
      ]
    },
    {
      "cell_type": "markdown",
      "id": "e41dfafb-fd1f-475a-a718-dec1e3773326",
      "metadata": {
        "id": "e41dfafb-fd1f-475a-a718-dec1e3773326"
      },
      "source": [
        "Para realizar una regresión con penalización de Ridge o de Lasso usamos el objeto `Ridge(alpha=?)` o `Lasso(alpha=?)` en lugar de `LinearRegression()` de `sklearn`."
      ]
    },
    {
      "cell_type": "markdown",
      "id": "ce36cb41-005e-4cb0-b8ab-92e6ae6c4c19",
      "metadata": {
        "id": "ce36cb41-005e-4cb0-b8ab-92e6ae6c4c19"
      },
      "source": [
        "Utiliza el dataset de publicidad (Advertising.csv) y realiza 3 regresiones múltiples:\n",
        "\n",
        "$$ \\text{sales} = \\beta_0 + \\beta_1 (\\text{TV}) + \\beta_2 (\\text{radio}) + \\beta_3 (\\text{newspaper}) + \\epsilon $$"
      ]
    },
    {
      "cell_type": "markdown",
      "id": "d92e4008-ada1-4e82-9756-23fd357821d2",
      "metadata": {
        "id": "d92e4008-ada1-4e82-9756-23fd357821d2"
      },
      "source": [
        "1. Sin penalización\n",
        "2. Con penalización L2\n",
        "3. Con penalización L1\n",
        "\n",
        "Compara los resultados de los parámetros y sus *p-values*, y los $R^2$ resultantes."
      ]
    },
    {
      "cell_type": "code",
      "execution_count": 5,
      "id": "489b6c52-9025-4ca7-8e96-ca70c294cf7c",
      "metadata": {
        "id": "489b6c52-9025-4ca7-8e96-ca70c294cf7c"
      },
      "outputs": [],
      "source": [
        "import pandas as pd\n",
        "import numpy as np\n",
        "from sklearn.model_selection import train_test_split\n",
        "from sklearn.preprocessing import StandardScaler\n",
        "from sklearn.linear_model import LinearRegression, Ridge, Lasso\n",
        "from sklearn.metrics import r2_score\n",
        "import statsmodels.api as sm"
      ]
    },
    {
      "cell_type": "code",
      "execution_count": 6,
      "id": "6f859166-06cf-478e-89d7-e6e5c2cb5ff0",
      "metadata": {
        "id": "6f859166-06cf-478e-89d7-e6e5c2cb5ff0"
      },
      "outputs": [],
      "source": [
        "df = pd.read_csv(\"Advertising.csv\")\n",
        "X = df[[\"TV\", \"radio\", \"newspaper\"]].values\n",
        "y = df[\"sales\"].values"
      ]
    },
    {
      "cell_type": "code",
      "execution_count": 7,
      "id": "53efacc6-e600-4705-b180-3d297324a244",
      "metadata": {
        "id": "53efacc6-e600-4705-b180-3d297324a244"
      },
      "outputs": [],
      "source": [
        "Xtrain, Xtest, ytrain, ytest = train_test_split(X, y, train_size=0.4,random_state=137)"
      ]
    },
    {
      "cell_type": "code",
      "source": [
        "from sklearn.preprocessing import StandardScaler\n",
        "scaler = StandardScaler().fit(Xtrain)\n",
        "Xtrain_scaled = scaler.transform(Xtrain)\n",
        "Xtest_scaled = scaler.transform(Xtest)"
      ],
      "metadata": {
        "id": "RtAnhPimR3Ca"
      },
      "id": "RtAnhPimR3Ca",
      "execution_count": 11,
      "outputs": []
    },
    {
      "cell_type": "markdown",
      "source": [
        "# Regresión sin penalización"
      ],
      "metadata": {
        "id": "76xfFGweSVxg"
      },
      "id": "76xfFGweSVxg"
    },
    {
      "cell_type": "code",
      "source": [
        "modelo = LinearRegression()\n",
        "modelo.fit(Xtrain_scaled, ytrain)\n",
        "y_train_pred = modelo.predict(Xtrain_scaled)\n",
        "y_test_pred = modelo.predict(Xtest_scaled)"
      ],
      "metadata": {
        "id": "ke6Wimq3R5NG"
      },
      "id": "ke6Wimq3R5NG",
      "execution_count": 12,
      "outputs": []
    },
    {
      "cell_type": "code",
      "source": [
        "r2_score(ytest, y_test_pred), r2_score(ytrain, y_train_pred)"
      ],
      "metadata": {
        "colab": {
          "base_uri": "https://localhost:8080/"
        },
        "id": "12tlKq7eR8OY",
        "outputId": "055bb3fa-f9b1-4f7e-db7b-27df723b331f"
      },
      "id": "12tlKq7eR8OY",
      "execution_count": 13,
      "outputs": [
        {
          "output_type": "execute_result",
          "data": {
            "text/plain": [
              "(0.8655966025115787, 0.926929129172944)"
            ]
          },
          "metadata": {},
          "execution_count": 13
        }
      ]
    },
    {
      "cell_type": "code",
      "source": [
        "modelo.coef_,modelo.intercept_"
      ],
      "metadata": {
        "colab": {
          "base_uri": "https://localhost:8080/"
        },
        "id": "t-UFH0XhR-JB",
        "outputId": "e3d6e3cf-64e9-4c33-c470-3c5bb2f571d4"
      },
      "id": "t-UFH0XhR-JB",
      "execution_count": 14,
      "outputs": [
        {
          "output_type": "execute_result",
          "data": {
            "text/plain": [
              "(array([4.15454877, 2.91555436, 0.03329485]), np.float64(13.89375))"
            ]
          },
          "metadata": {},
          "execution_count": 14
        }
      ]
    },
    {
      "cell_type": "code",
      "source": [
        "X_with_const = sm.add_constant(Xtrain_scaled)\n",
        "modelo_sm = sm.OLS(ytrain, X_with_const).fit()\n",
        "\n",
        "print(modelo_sm.summary())"
      ],
      "metadata": {
        "colab": {
          "base_uri": "https://localhost:8080/"
        },
        "id": "EMb5LmicQz9H",
        "outputId": "eb32e60c-0762-4482-f205-269bd5afe548"
      },
      "id": "EMb5LmicQz9H",
      "execution_count": 15,
      "outputs": [
        {
          "output_type": "stream",
          "name": "stdout",
          "text": [
            "                            OLS Regression Results                            \n",
            "==============================================================================\n",
            "Dep. Variable:                      y   R-squared:                       0.927\n",
            "Model:                            OLS   Adj. R-squared:                  0.924\n",
            "Method:                 Least Squares   F-statistic:                     321.4\n",
            "Date:                Wed, 10 Sep 2025   Prob (F-statistic):           4.50e-43\n",
            "Time:                        15:34:18   Log-Likelihood:                -149.41\n",
            "No. Observations:                  80   AIC:                             306.8\n",
            "Df Residuals:                      76   BIC:                             316.4\n",
            "Df Model:                           3                                         \n",
            "Covariance Type:            nonrobust                                         \n",
            "==============================================================================\n",
            "                 coef    std err          t      P>|t|      [0.025      0.975]\n",
            "------------------------------------------------------------------------------\n",
            "const         13.8937      0.180     77.331      0.000      13.536      14.252\n",
            "x1             4.1545      0.187     22.209      0.000       3.782       4.527\n",
            "x2             2.9156      0.196     14.884      0.000       2.525       3.306\n",
            "x3             0.0333      0.197      0.169      0.866      -0.360       0.426\n",
            "==============================================================================\n",
            "Omnibus:                        5.767   Durbin-Watson:                   2.207\n",
            "Prob(Omnibus):                  0.056   Jarque-Bera (JB):                5.851\n",
            "Skew:                          -0.654   Prob(JB):                       0.0536\n",
            "Kurtosis:                       2.791   Cond. No.                         1.59\n",
            "==============================================================================\n",
            "\n",
            "Notes:\n",
            "[1] Standard Errors assume that the covariance matrix of the errors is correctly specified.\n"
          ]
        }
      ]
    },
    {
      "cell_type": "markdown",
      "source": [
        "# L2"
      ],
      "metadata": {
        "id": "nsvKZPkISQrC"
      },
      "id": "nsvKZPkISQrC"
    },
    {
      "cell_type": "code",
      "source": [
        "ridge = Ridge(alpha=1.0)\n",
        "ridge.fit(Xtrain_scaled, ytrain)\n",
        "y_train_ridge = ridge.predict(Xtrain_scaled)\n",
        "y_test_ridge = ridge.predict(Xtest_scaled)"
      ],
      "metadata": {
        "id": "qWihPL28SNUh"
      },
      "id": "qWihPL28SNUh",
      "execution_count": 16,
      "outputs": []
    },
    {
      "cell_type": "code",
      "source": [
        "ridge.coef_,ridge.intercept_"
      ],
      "metadata": {
        "colab": {
          "base_uri": "https://localhost:8080/"
        },
        "id": "ks5ZpXhbT_z5",
        "outputId": "8e9646ba-81be-49da-95d3-5c64ff19f4c2"
      },
      "id": "ks5ZpXhbT_z5",
      "execution_count": 17,
      "outputs": [
        {
          "output_type": "execute_result",
          "data": {
            "text/plain": [
              "(array([4.10467047, 2.881016  , 0.05783146]), np.float64(13.89375))"
            ]
          },
          "metadata": {},
          "execution_count": 17
        }
      ]
    },
    {
      "cell_type": "code",
      "source": [
        "r2_score(ytest, y_test_ridge), r2_score(ytrain, y_train_ridge)"
      ],
      "metadata": {
        "colab": {
          "base_uri": "https://localhost:8080/"
        },
        "id": "ov91YMdNUSyJ",
        "outputId": "a2f4021d-fe3f-46be-c272-d0bc9724cf7b"
      },
      "id": "ov91YMdNUSyJ",
      "execution_count": 18,
      "outputs": [
        {
          "output_type": "execute_result",
          "data": {
            "text/plain": [
              "(0.8654818952380672, 0.9268163840897949)"
            ]
          },
          "metadata": {},
          "execution_count": 18
        }
      ]
    },
    {
      "cell_type": "code",
      "source": [
        "n = Xtrain_scaled.shape[0]\n",
        "p = Xtrain_scaled.shape[1]\n",
        "resid = ytrain - y_train_ridge\n",
        "RSS = np.sum(resid**2)\n",
        "sigma2 = RSS / (n - p - 1)\n",
        "X_with_intercept = np.hstack([np.ones((n,1)), Xtrain_scaled])\n",
        "cov_matrix = sigma2 * np.linalg.inv(X_with_intercept.T @ X_with_intercept)\n",
        "SEs = np.sqrt(np.diag(cov_matrix))\n",
        "coefs = np.hstack([ridge.intercept_, ridge.coef_])\n",
        "t_stats = coefs / SEs\n",
        "p_values = 2 * (1 - stats.t.cdf(np.abs(t_stats), df=n-p-1))\n",
        "for i, name in enumerate([\"b0 (intercept)\", \"b1 TV\", \"b2 Radio\", \"b3 Newspaper\"]):\n",
        "    print(f\"{name} = {coefs[i]:.4f}, t = {t_stats[i]:.4f}, p-value = {p_values[i]:.4f}\")"
      ],
      "metadata": {
        "colab": {
          "base_uri": "https://localhost:8080/"
        },
        "id": "rzCl3QI4YgED",
        "outputId": "b36e7205-8ba7-401c-cf0f-26401db2999f"
      },
      "id": "rzCl3QI4YgED",
      "execution_count": 31,
      "outputs": [
        {
          "output_type": "stream",
          "name": "stdout",
          "text": [
            "b0 (intercept) = 13.8938, t = 77.2717, p-value = 0.0000\n",
            "b1 TV = 4.1047, t = 21.9253, p-value = 0.0000\n",
            "b2 Radio = 2.8810, t = 14.6965, p-value = 0.0000\n",
            "b3 Newspaper = 0.0578, t = 0.2929, p-value = 0.7704\n"
          ]
        }
      ]
    },
    {
      "cell_type": "markdown",
      "source": [
        "# L1"
      ],
      "metadata": {
        "id": "9db4cDqcU2pQ"
      },
      "id": "9db4cDqcU2pQ"
    },
    {
      "cell_type": "code",
      "source": [
        "lasso = Lasso(alpha=0.1)\n",
        "lasso.fit(Xtrain_scaled, ytrain)\n",
        "y_train_lasso = lasso.predict(Xtrain_scaled)\n",
        "y_test_lasso = lasso.predict(Xtest_scaled)"
      ],
      "metadata": {
        "id": "jov_OZhMUyij"
      },
      "id": "jov_OZhMUyij",
      "execution_count": 37,
      "outputs": []
    },
    {
      "cell_type": "code",
      "source": [
        "lasso.coef_,lasso.intercept_"
      ],
      "metadata": {
        "colab": {
          "base_uri": "https://localhost:8080/"
        },
        "id": "YJloCa_CVy2z",
        "outputId": "f7d427e7-82eb-405a-a88d-f2c76a2cece3"
      },
      "id": "YJloCa_CVy2z",
      "execution_count": 38,
      "outputs": [
        {
          "output_type": "execute_result",
          "data": {
            "text/plain": [
              "(array([4.07798137, 2.84462045, 0.        ]), np.float64(13.89375))"
            ]
          },
          "metadata": {},
          "execution_count": 38
        }
      ]
    },
    {
      "cell_type": "code",
      "source": [
        "r2_score(ytest, y_test_lasso), r2_score(ytrain, y_train_lasso)"
      ],
      "metadata": {
        "colab": {
          "base_uri": "https://localhost:8080/"
        },
        "id": "8cE2OWAnWACD",
        "outputId": "b06c1abb-6a3a-40d2-9883-791bc45fd08f"
      },
      "id": "8cE2OWAnWACD",
      "execution_count": 39,
      "outputs": [
        {
          "output_type": "execute_result",
          "data": {
            "text/plain": [
              "(0.8663284653669636, 0.9264116155676066)"
            ]
          },
          "metadata": {},
          "execution_count": 39
        }
      ]
    },
    {
      "cell_type": "code",
      "source": [
        "n = Xtrain_scaled.shape[0]\n",
        "p = Xtrain_scaled.shape[1]\n",
        "resid = ytrain - y_train_lasso\n",
        "RSS = np.sum(resid**2)\n",
        "sigma2 = RSS / (n - p - 1)\n",
        "X_with_intercept = np.hstack([np.ones((n,1)), Xtrain_scaled])\n",
        "cov_matrix = sigma2 * np.linalg.inv(X_with_intercept.T @ X_with_intercept)\n",
        "SEs = np.sqrt(np.diag(cov_matrix))\n",
        "coefs = np.hstack([lasso.intercept_, lasso.coef_])\n",
        "t_stats = coefs / SEs\n",
        "p_values = 2 * (1 - stats.t.cdf(np.abs(t_stats), df=n-p-1))\n",
        "for i, name in enumerate([\"b0 (intercept)\", \"b1 TV\", \"b2 Radio\", \"b3 Newspaper\"]):\n",
        "    print(f\"{name} = {coefs[i]:.4f}, t = {t_stats[i]:.4f}, p-value = {p_values[i]:.4f}\")"
      ],
      "metadata": {
        "colab": {
          "base_uri": "https://localhost:8080/"
        },
        "id": "Sr4QvhsOWGaw",
        "outputId": "94166a1b-7fde-46a6-f868-08fefdccf093"
      },
      "id": "Sr4QvhsOWGaw",
      "execution_count": 40,
      "outputs": [
        {
          "output_type": "stream",
          "name": "stdout",
          "text": [
            "b0 (intercept) = 13.8938, t = 77.0589, p-value = 0.0000\n",
            "b1 TV = 4.0780, t = 21.7227, p-value = 0.0000\n",
            "b2 Radio = 2.8446, t = 14.4709, p-value = 0.0000\n",
            "b3 Newspaper = 0.0000, t = 0.0000, p-value = 1.0000\n"
          ]
        }
      ]
    },
    {
      "cell_type": "markdown",
      "source": [],
      "metadata": {
        "id": "eHIHxM-JZ0DO"
      },
      "id": "eHIHxM-JZ0DO"
    },
    {
      "cell_type": "markdown",
      "source": [
        "Al comparar los modelos Lineal, Ridge y Lasso, todos obtuvieron resultados muy similares, con R² alrededor de 0.92 en train y 0.85 en test. Esto indica que los tres modelos ajustan bien los datos y no hay sobreajuste importante. Los coeficientes y p-values de LinearRegression también fueron similares a los de Ridge y Lasso, lo que muestra que la penalización ligera no cambió mucho los resultados. En general, las variables TV y radio son significativas mientras que periodico no.\n"
      ],
      "metadata": {
        "id": "NpG1r5a_aYkl"
      },
      "id": "NpG1r5a_aYkl"
    }
  ],
  "metadata": {
    "kernelspec": {
      "display_name": "Python 3 (ipykernel)",
      "language": "python",
      "name": "python3"
    },
    "language_info": {
      "codemirror_mode": {
        "name": "ipython",
        "version": 3
      },
      "file_extension": ".py",
      "mimetype": "text/x-python",
      "name": "python",
      "nbconvert_exporter": "python",
      "pygments_lexer": "ipython3",
      "version": "3.12.7"
    },
    "colab": {
      "provenance": []
    }
  },
  "nbformat": 4,
  "nbformat_minor": 5
}