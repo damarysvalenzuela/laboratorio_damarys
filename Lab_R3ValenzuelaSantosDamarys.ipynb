{
  "cells": [
    {
      "cell_type": "markdown",
      "id": "de16ac05-1760-49ad-b40c-327a96a8e846",
      "metadata": {
        "id": "de16ac05-1760-49ad-b40c-327a96a8e846"
      },
      "source": [
        "# Laboratorio de regresión - 3"
      ]
    },
    {
      "cell_type": "markdown",
      "id": "1db0fb70-ca43-47f7-bbfd-fd06ca0e25f2",
      "metadata": {
        "id": "1db0fb70-ca43-47f7-bbfd-fd06ca0e25f2"
      },
      "source": [
        "## Significancia de factores"
      ]
    },
    {
      "cell_type": "markdown",
      "id": "6043c593-39d1-405c-b92e-487314170cf6",
      "metadata": {
        "id": "6043c593-39d1-405c-b92e-487314170cf6"
      },
      "source": [
        "|                |   |\n",
        ":----------------|---|\n",
        "| **Nombre**     |Damarys Valenzuela Santos|\n",
        "| **Fecha**      |31/08/2025|\n",
        "| **Expediente** |744494|"
      ]
    },
    {
      "cell_type": "markdown",
      "id": "2cfabde4-866e-4f00-8a37-9d57f2bebbb6",
      "metadata": {
        "id": "2cfabde4-866e-4f00-8a37-9d57f2bebbb6"
      },
      "source": [
        "Descarga el archivo de publicidad y carga los datos (Advertising.csv)."
      ]
    },
    {
      "cell_type": "code",
      "execution_count": null,
      "id": "07527ab6-7c18-48b5-9779-d5e6e5da289b",
      "metadata": {
        "id": "07527ab6-7c18-48b5-9779-d5e6e5da289b"
      },
      "outputs": [],
      "source": [
        "import numpy as np\n",
        "from sklearn.linear_model import LinearRegression\n",
        "import matplotlib.pyplot as plt\n",
        "import pandas as pd\n",
        "from sklearn.metrics import r2_score"
      ]
    },
    {
      "cell_type": "code",
      "execution_count": null,
      "id": "f76bcb16-5b02-42aa-846f-fb890b34af26",
      "metadata": {
        "colab": {
          "base_uri": "https://localhost:8080/",
          "height": 206
        },
        "id": "f76bcb16-5b02-42aa-846f-fb890b34af26",
        "outputId": "bad5b765-0022-4430-be05-af1c43d23802"
      },
      "outputs": [
        {
          "output_type": "execute_result",
          "data": {
            "text/plain": [
              "   Unnamed: 0     TV  radio  newspaper  sales\n",
              "0           1  230.1   37.8       69.2   22.1\n",
              "1           2   44.5   39.3       45.1   10.4\n",
              "2           3   17.2   45.9       69.3    9.3\n",
              "3           4  151.5   41.3       58.5   18.5\n",
              "4           5  180.8   10.8       58.4   12.9"
            ],
            "text/html": [
              "\n",
              "  <div id=\"df-48859ffc-a1f4-4b07-883f-f75ae39e155c\" class=\"colab-df-container\">\n",
              "    <div>\n",
              "<style scoped>\n",
              "    .dataframe tbody tr th:only-of-type {\n",
              "        vertical-align: middle;\n",
              "    }\n",
              "\n",
              "    .dataframe tbody tr th {\n",
              "        vertical-align: top;\n",
              "    }\n",
              "\n",
              "    .dataframe thead th {\n",
              "        text-align: right;\n",
              "    }\n",
              "</style>\n",
              "<table border=\"1\" class=\"dataframe\">\n",
              "  <thead>\n",
              "    <tr style=\"text-align: right;\">\n",
              "      <th></th>\n",
              "      <th>Unnamed: 0</th>\n",
              "      <th>TV</th>\n",
              "      <th>radio</th>\n",
              "      <th>newspaper</th>\n",
              "      <th>sales</th>\n",
              "    </tr>\n",
              "  </thead>\n",
              "  <tbody>\n",
              "    <tr>\n",
              "      <th>0</th>\n",
              "      <td>1</td>\n",
              "      <td>230.1</td>\n",
              "      <td>37.8</td>\n",
              "      <td>69.2</td>\n",
              "      <td>22.1</td>\n",
              "    </tr>\n",
              "    <tr>\n",
              "      <th>1</th>\n",
              "      <td>2</td>\n",
              "      <td>44.5</td>\n",
              "      <td>39.3</td>\n",
              "      <td>45.1</td>\n",
              "      <td>10.4</td>\n",
              "    </tr>\n",
              "    <tr>\n",
              "      <th>2</th>\n",
              "      <td>3</td>\n",
              "      <td>17.2</td>\n",
              "      <td>45.9</td>\n",
              "      <td>69.3</td>\n",
              "      <td>9.3</td>\n",
              "    </tr>\n",
              "    <tr>\n",
              "      <th>3</th>\n",
              "      <td>4</td>\n",
              "      <td>151.5</td>\n",
              "      <td>41.3</td>\n",
              "      <td>58.5</td>\n",
              "      <td>18.5</td>\n",
              "    </tr>\n",
              "    <tr>\n",
              "      <th>4</th>\n",
              "      <td>5</td>\n",
              "      <td>180.8</td>\n",
              "      <td>10.8</td>\n",
              "      <td>58.4</td>\n",
              "      <td>12.9</td>\n",
              "    </tr>\n",
              "  </tbody>\n",
              "</table>\n",
              "</div>\n",
              "    <div class=\"colab-df-buttons\">\n",
              "\n",
              "  <div class=\"colab-df-container\">\n",
              "    <button class=\"colab-df-convert\" onclick=\"convertToInteractive('df-48859ffc-a1f4-4b07-883f-f75ae39e155c')\"\n",
              "            title=\"Convert this dataframe to an interactive table.\"\n",
              "            style=\"display:none;\">\n",
              "\n",
              "  <svg xmlns=\"http://www.w3.org/2000/svg\" height=\"24px\" viewBox=\"0 -960 960 960\">\n",
              "    <path d=\"M120-120v-720h720v720H120Zm60-500h600v-160H180v160Zm220 220h160v-160H400v160Zm0 220h160v-160H400v160ZM180-400h160v-160H180v160Zm440 0h160v-160H620v160ZM180-180h160v-160H180v160Zm440 0h160v-160H620v160Z\"/>\n",
              "  </svg>\n",
              "    </button>\n",
              "\n",
              "  <style>\n",
              "    .colab-df-container {\n",
              "      display:flex;\n",
              "      gap: 12px;\n",
              "    }\n",
              "\n",
              "    .colab-df-convert {\n",
              "      background-color: #E8F0FE;\n",
              "      border: none;\n",
              "      border-radius: 50%;\n",
              "      cursor: pointer;\n",
              "      display: none;\n",
              "      fill: #1967D2;\n",
              "      height: 32px;\n",
              "      padding: 0 0 0 0;\n",
              "      width: 32px;\n",
              "    }\n",
              "\n",
              "    .colab-df-convert:hover {\n",
              "      background-color: #E2EBFA;\n",
              "      box-shadow: 0px 1px 2px rgba(60, 64, 67, 0.3), 0px 1px 3px 1px rgba(60, 64, 67, 0.15);\n",
              "      fill: #174EA6;\n",
              "    }\n",
              "\n",
              "    .colab-df-buttons div {\n",
              "      margin-bottom: 4px;\n",
              "    }\n",
              "\n",
              "    [theme=dark] .colab-df-convert {\n",
              "      background-color: #3B4455;\n",
              "      fill: #D2E3FC;\n",
              "    }\n",
              "\n",
              "    [theme=dark] .colab-df-convert:hover {\n",
              "      background-color: #434B5C;\n",
              "      box-shadow: 0px 1px 3px 1px rgba(0, 0, 0, 0.15);\n",
              "      filter: drop-shadow(0px 1px 2px rgba(0, 0, 0, 0.3));\n",
              "      fill: #FFFFFF;\n",
              "    }\n",
              "  </style>\n",
              "\n",
              "    <script>\n",
              "      const buttonEl =\n",
              "        document.querySelector('#df-48859ffc-a1f4-4b07-883f-f75ae39e155c button.colab-df-convert');\n",
              "      buttonEl.style.display =\n",
              "        google.colab.kernel.accessAllowed ? 'block' : 'none';\n",
              "\n",
              "      async function convertToInteractive(key) {\n",
              "        const element = document.querySelector('#df-48859ffc-a1f4-4b07-883f-f75ae39e155c');\n",
              "        const dataTable =\n",
              "          await google.colab.kernel.invokeFunction('convertToInteractive',\n",
              "                                                    [key], {});\n",
              "        if (!dataTable) return;\n",
              "\n",
              "        const docLinkHtml = 'Like what you see? Visit the ' +\n",
              "          '<a target=\"_blank\" href=https://colab.research.google.com/notebooks/data_table.ipynb>data table notebook</a>'\n",
              "          + ' to learn more about interactive tables.';\n",
              "        element.innerHTML = '';\n",
              "        dataTable['output_type'] = 'display_data';\n",
              "        await google.colab.output.renderOutput(dataTable, element);\n",
              "        const docLink = document.createElement('div');\n",
              "        docLink.innerHTML = docLinkHtml;\n",
              "        element.appendChild(docLink);\n",
              "      }\n",
              "    </script>\n",
              "  </div>\n",
              "\n",
              "\n",
              "    <div id=\"df-6e15cf38-65a6-4b73-a549-6dcac53be8ae\">\n",
              "      <button class=\"colab-df-quickchart\" onclick=\"quickchart('df-6e15cf38-65a6-4b73-a549-6dcac53be8ae')\"\n",
              "                title=\"Suggest charts\"\n",
              "                style=\"display:none;\">\n",
              "\n",
              "<svg xmlns=\"http://www.w3.org/2000/svg\" height=\"24px\"viewBox=\"0 0 24 24\"\n",
              "     width=\"24px\">\n",
              "    <g>\n",
              "        <path d=\"M19 3H5c-1.1 0-2 .9-2 2v14c0 1.1.9 2 2 2h14c1.1 0 2-.9 2-2V5c0-1.1-.9-2-2-2zM9 17H7v-7h2v7zm4 0h-2V7h2v10zm4 0h-2v-4h2v4z\"/>\n",
              "    </g>\n",
              "</svg>\n",
              "      </button>\n",
              "\n",
              "<style>\n",
              "  .colab-df-quickchart {\n",
              "      --bg-color: #E8F0FE;\n",
              "      --fill-color: #1967D2;\n",
              "      --hover-bg-color: #E2EBFA;\n",
              "      --hover-fill-color: #174EA6;\n",
              "      --disabled-fill-color: #AAA;\n",
              "      --disabled-bg-color: #DDD;\n",
              "  }\n",
              "\n",
              "  [theme=dark] .colab-df-quickchart {\n",
              "      --bg-color: #3B4455;\n",
              "      --fill-color: #D2E3FC;\n",
              "      --hover-bg-color: #434B5C;\n",
              "      --hover-fill-color: #FFFFFF;\n",
              "      --disabled-bg-color: #3B4455;\n",
              "      --disabled-fill-color: #666;\n",
              "  }\n",
              "\n",
              "  .colab-df-quickchart {\n",
              "    background-color: var(--bg-color);\n",
              "    border: none;\n",
              "    border-radius: 50%;\n",
              "    cursor: pointer;\n",
              "    display: none;\n",
              "    fill: var(--fill-color);\n",
              "    height: 32px;\n",
              "    padding: 0;\n",
              "    width: 32px;\n",
              "  }\n",
              "\n",
              "  .colab-df-quickchart:hover {\n",
              "    background-color: var(--hover-bg-color);\n",
              "    box-shadow: 0 1px 2px rgba(60, 64, 67, 0.3), 0 1px 3px 1px rgba(60, 64, 67, 0.15);\n",
              "    fill: var(--button-hover-fill-color);\n",
              "  }\n",
              "\n",
              "  .colab-df-quickchart-complete:disabled,\n",
              "  .colab-df-quickchart-complete:disabled:hover {\n",
              "    background-color: var(--disabled-bg-color);\n",
              "    fill: var(--disabled-fill-color);\n",
              "    box-shadow: none;\n",
              "  }\n",
              "\n",
              "  .colab-df-spinner {\n",
              "    border: 2px solid var(--fill-color);\n",
              "    border-color: transparent;\n",
              "    border-bottom-color: var(--fill-color);\n",
              "    animation:\n",
              "      spin 1s steps(1) infinite;\n",
              "  }\n",
              "\n",
              "  @keyframes spin {\n",
              "    0% {\n",
              "      border-color: transparent;\n",
              "      border-bottom-color: var(--fill-color);\n",
              "      border-left-color: var(--fill-color);\n",
              "    }\n",
              "    20% {\n",
              "      border-color: transparent;\n",
              "      border-left-color: var(--fill-color);\n",
              "      border-top-color: var(--fill-color);\n",
              "    }\n",
              "    30% {\n",
              "      border-color: transparent;\n",
              "      border-left-color: var(--fill-color);\n",
              "      border-top-color: var(--fill-color);\n",
              "      border-right-color: var(--fill-color);\n",
              "    }\n",
              "    40% {\n",
              "      border-color: transparent;\n",
              "      border-right-color: var(--fill-color);\n",
              "      border-top-color: var(--fill-color);\n",
              "    }\n",
              "    60% {\n",
              "      border-color: transparent;\n",
              "      border-right-color: var(--fill-color);\n",
              "    }\n",
              "    80% {\n",
              "      border-color: transparent;\n",
              "      border-right-color: var(--fill-color);\n",
              "      border-bottom-color: var(--fill-color);\n",
              "    }\n",
              "    90% {\n",
              "      border-color: transparent;\n",
              "      border-bottom-color: var(--fill-color);\n",
              "    }\n",
              "  }\n",
              "</style>\n",
              "\n",
              "      <script>\n",
              "        async function quickchart(key) {\n",
              "          const quickchartButtonEl =\n",
              "            document.querySelector('#' + key + ' button');\n",
              "          quickchartButtonEl.disabled = true;  // To prevent multiple clicks.\n",
              "          quickchartButtonEl.classList.add('colab-df-spinner');\n",
              "          try {\n",
              "            const charts = await google.colab.kernel.invokeFunction(\n",
              "                'suggestCharts', [key], {});\n",
              "          } catch (error) {\n",
              "            console.error('Error during call to suggestCharts:', error);\n",
              "          }\n",
              "          quickchartButtonEl.classList.remove('colab-df-spinner');\n",
              "          quickchartButtonEl.classList.add('colab-df-quickchart-complete');\n",
              "        }\n",
              "        (() => {\n",
              "          let quickchartButtonEl =\n",
              "            document.querySelector('#df-6e15cf38-65a6-4b73-a549-6dcac53be8ae button');\n",
              "          quickchartButtonEl.style.display =\n",
              "            google.colab.kernel.accessAllowed ? 'block' : 'none';\n",
              "        })();\n",
              "      </script>\n",
              "    </div>\n",
              "\n",
              "    </div>\n",
              "  </div>\n"
            ],
            "application/vnd.google.colaboratory.intrinsic+json": {
              "type": "dataframe",
              "variable_name": "df",
              "summary": "{\n  \"name\": \"df\",\n  \"rows\": 200,\n  \"fields\": [\n    {\n      \"column\": \"Unnamed: 0\",\n      \"properties\": {\n        \"dtype\": \"number\",\n        \"std\": 57,\n        \"min\": 1,\n        \"max\": 200,\n        \"num_unique_values\": 200,\n        \"samples\": [\n          96,\n          16,\n          31\n        ],\n        \"semantic_type\": \"\",\n        \"description\": \"\"\n      }\n    },\n    {\n      \"column\": \"TV\",\n      \"properties\": {\n        \"dtype\": \"number\",\n        \"std\": 85.8542363149081,\n        \"min\": 0.7,\n        \"max\": 296.4,\n        \"num_unique_values\": 190,\n        \"samples\": [\n          287.6,\n          286.0,\n          78.2\n        ],\n        \"semantic_type\": \"\",\n        \"description\": \"\"\n      }\n    },\n    {\n      \"column\": \"radio\",\n      \"properties\": {\n        \"dtype\": \"number\",\n        \"std\": 14.846809176168723,\n        \"min\": 0.0,\n        \"max\": 49.6,\n        \"num_unique_values\": 167,\n        \"samples\": [\n          8.2,\n          36.9,\n          44.5\n        ],\n        \"semantic_type\": \"\",\n        \"description\": \"\"\n      }\n    },\n    {\n      \"column\": \"newspaper\",\n      \"properties\": {\n        \"dtype\": \"number\",\n        \"std\": 21.778620838522833,\n        \"min\": 0.3,\n        \"max\": 114.0,\n        \"num_unique_values\": 172,\n        \"samples\": [\n          22.3,\n          5.7,\n          17.0\n        ],\n        \"semantic_type\": \"\",\n        \"description\": \"\"\n      }\n    },\n    {\n      \"column\": \"sales\",\n      \"properties\": {\n        \"dtype\": \"number\",\n        \"std\": 5.217456565710477,\n        \"min\": 1.6,\n        \"max\": 27.0,\n        \"num_unique_values\": 121,\n        \"samples\": [\n          11.4,\n          21.2,\n          12.9\n        ],\n        \"semantic_type\": \"\",\n        \"description\": \"\"\n      }\n    }\n  ]\n}"
            }
          },
          "metadata": {},
          "execution_count": 4
        }
      ],
      "source": [
        "df = pd.read_csv(\"Advertising.csv\")\n",
        "df.head()"
      ]
    },
    {
      "cell_type": "markdown",
      "id": "f81535ac-87ca-490e-89e7-0564c31f73f0",
      "metadata": {
        "id": "f81535ac-87ca-490e-89e7-0564c31f73f0"
      },
      "source": [
        "**¿Hay alguna relación entre el presupuesto para publicidad y las ventas?**\n",
        "\n",
        "Nuestra primera meta debe ser determinar si hay evidencia en los datos de que haya una asociación entre estas variables.\n",
        "\n",
        "- ¿Por qué? ¿Qué resultaría si nos diéramos cuenta de la falta de relación entre el presupuesto de publicidad y las ventas?"
      ]
    },
    {
      "cell_type": "markdown",
      "id": "e5ed6dff-daa6-4680-ae46-1892fbe61743",
      "metadata": {
        "id": "e5ed6dff-daa6-4680-ae46-1892fbe61743"
      },
      "source": [
        "Si no existe una relación entre el presupuesto de publicidad y las ventas, no tendría sentido seguir destinando dinero a la publicidad, ya que no estaría generando resultados."
      ]
    },
    {
      "cell_type": "markdown",
      "id": "3ff47351-fa8b-4c19-93ce-d68dce869913",
      "metadata": {
        "id": "3ff47351-fa8b-4c19-93ce-d68dce869913"
      },
      "source": [
        "**¿Qué tan fuerte es esta relación?**\n",
        "Asumiendo que existe esta relación, ¿nos sirve conocer el impacto que tiene invertir en publicidad en las ventas?"
      ]
    },
    {
      "cell_type": "markdown",
      "id": "f4f729ab-b3c5-45f2-be4d-679b009f3d98",
      "metadata": {
        "id": "f4f729ab-b3c5-45f2-be4d-679b009f3d98"
      },
      "source": [
        "Esto nos permite evaluar si la inversión en publicidad realmente vale la pena, ya que podría tener un impacto, pero muy limitado."
      ]
    },
    {
      "cell_type": "markdown",
      "id": "d875c4b8-6203-4e12-947a-0a99f9832b2c",
      "metadata": {
        "id": "d875c4b8-6203-4e12-947a-0a99f9832b2c"
      },
      "source": []
    },
    {
      "cell_type": "markdown",
      "id": "4cd03e68-778f-49cc-9161-a2fff241af56",
      "metadata": {
        "id": "4cd03e68-778f-49cc-9161-a2fff241af56"
      },
      "source": [
        "**¿Cuáles medios están asociados con las ventas? ¿Qué tan grande es la asociación entre un medio específico y las ventas?**\n",
        "\n",
        "Hay 3 medios distintos en los datos. ¿Sirve invertir en los 3? ¿Conviene más invertir sólo en uno?\n",
        "\n",
        "**¿Qué tan seguros estamos de que podríamos predecir ventas futuras?**\n",
        "\n",
        "**¿La relación es lineal?**\n",
        "\n",
        "**¿Hay sinergia entre estos medios?**\n",
        "\n",
        "Puede ser que gastar \\\\$50,000 en publicidad y otros \\\\$50,000 en radio es mejor opción que gastar \\\\$100,000 en televisión. A esto le llamamos efecto de interacción.\n",
        "\n",
        "Podemos usar regresión lineal para responder todas estas preguntas."
      ]
    },
    {
      "cell_type": "markdown",
      "id": "cb3f1c79-027e-4af9-b61b-82e4a45df0bb",
      "metadata": {
        "id": "cb3f1c79-027e-4af9-b61b-82e4a45df0bb"
      },
      "source": [
        "Realiza una regresión lineal:\n",
        "\n",
        "$$ \\text{ventas} \\approx \\beta_0 + (\\beta_1)(\\text{TV})$$"
      ]
    },
    {
      "cell_type": "code",
      "execution_count": null,
      "id": "82dd5260-ff12-4261-b325-40f70c7e3783",
      "metadata": {
        "id": "82dd5260-ff12-4261-b325-40f70c7e3783"
      },
      "outputs": [],
      "source": [
        "x = df[[\"TV\"]].values\n",
        "y = df[[\"sales\"]].values\n",
        "X = x.reshape(-1, 1)"
      ]
    },
    {
      "cell_type": "code",
      "execution_count": null,
      "id": "5c5d518d-a3da-4b63-acd9-0481b231408d",
      "metadata": {
        "colab": {
          "base_uri": "https://localhost:8080/"
        },
        "id": "5c5d518d-a3da-4b63-acd9-0481b231408d",
        "outputId": "828ce997-fad7-4cc7-91b9-33742eaca568"
      },
      "outputs": [
        {
          "output_type": "stream",
          "name": "stdout",
          "text": [
            "[7.03259355] [[0.04753664]]\n"
          ]
        }
      ],
      "source": [
        "modelo = LinearRegression()\n",
        "modelo.fit(X, y)\n",
        "y_pred = modelo.predict(X)\n",
        "print(modelo.intercept_,modelo.coef_)"
      ]
    },
    {
      "cell_type": "code",
      "execution_count": null,
      "id": "b7f11512-1a7e-4cda-869d-c6eb6847564c",
      "metadata": {
        "id": "b7f11512-1a7e-4cda-869d-c6eb6847564c"
      },
      "outputs": [],
      "source": [
        "beta0_hat = modelo.intercept_\n",
        "beta1_hat = modelo.coef_"
      ]
    },
    {
      "cell_type": "markdown",
      "id": "a84ba655-7b09-482a-992f-02380dd54209",
      "metadata": {
        "id": "a84ba655-7b09-482a-992f-02380dd54209"
      },
      "source": [
        "### Verificando la precisión de nuestros coeficientes estimados"
      ]
    },
    {
      "cell_type": "markdown",
      "id": "30733e87-7be2-477f-84c2-d430ad1a2a5d",
      "metadata": {
        "id": "30733e87-7be2-477f-84c2-d430ad1a2a5d"
      },
      "source": [
        "Recuerda que en el mundo real hay ruidos y errores de medición. Siempre se asume que la verdadera relación entre $X$ y $Y$ es $$Y = \\beta_0 + \\beta_1 X + \\epsilon$$"
      ]
    },
    {
      "cell_type": "markdown",
      "id": "af33c415-790e-4e28-bcd5-8f94ac545822",
      "metadata": {
        "id": "af33c415-790e-4e28-bcd5-8f94ac545822"
      },
      "source": [
        "Se asume que el término de error es independiente de $X$ (el error siempre es el mismo sin importar el valor de $X$). Este modelo describe a la *línea de regresión de la población*, que es la mejor aproximación de la verdadera relación entre $X$ y $Y$. Cuando usamos mínimos cuadrados encontramos la *línea de mínimos cuadrados*."
      ]
    },
    {
      "cell_type": "markdown",
      "id": "86d80b2d-2c96-4fa7-8348-29e8215e4e2e",
      "metadata": {
        "id": "86d80b2d-2c96-4fa7-8348-29e8215e4e2e"
      },
      "source": [
        "¿Cuál es la diferencia entre población y muestra?"
      ]
    },
    {
      "cell_type": "markdown",
      "id": "ec345b97-255d-45a2-95ea-487212a02644",
      "metadata": {
        "id": "ec345b97-255d-45a2-95ea-487212a02644"
      },
      "source": [
        "Población es todo el grupo que nos interesa estudiar, y muestra es un subconjunto de la población."
      ]
    },
    {
      "cell_type": "markdown",
      "id": "51486e54-82e7-4794-bbde-b6f6ea10691c",
      "metadata": {
        "id": "51486e54-82e7-4794-bbde-b6f6ea10691c"
      },
      "source": []
    },
    {
      "cell_type": "markdown",
      "id": "ae665943-51b4-45e3-b83a-93d8915a1dcc",
      "metadata": {
        "id": "ae665943-51b4-45e3-b83a-93d8915a1dcc"
      },
      "source": []
    },
    {
      "cell_type": "markdown",
      "id": "ea74ba36-845f-44fe-89e4-442b66f44d9d",
      "metadata": {
        "id": "ea74ba36-845f-44fe-89e4-442b66f44d9d"
      },
      "source": [
        "¿Cuál crees que sea la diferencia entre hacer una regresión con todos los datos de la población y una muestra de ella?"
      ]
    },
    {
      "cell_type": "markdown",
      "id": "1563051a-01a3-4a4e-bff2-f12c7d113b15",
      "metadata": {
        "id": "1563051a-01a3-4a4e-bff2-f12c7d113b15"
      },
      "source": [
        "Si lo hacemos con toda la población, obtenemos los verdaderos coeficientes, y si solo usamos una muestra, los coeficientes que obtenemos son las aproximaciones."
      ]
    },
    {
      "cell_type": "markdown",
      "id": "cfea860e-24bb-4e94-b93a-a86c8c1dca8a",
      "metadata": {
        "id": "cfea860e-24bb-4e94-b93a-a86c8c1dca8a"
      },
      "source": []
    },
    {
      "cell_type": "markdown",
      "id": "e7e23b6a-3287-47f6-952c-472c6c712d91",
      "metadata": {
        "id": "e7e23b6a-3287-47f6-952c-472c6c712d91"
      },
      "source": []
    },
    {
      "cell_type": "markdown",
      "id": "c123335b-5299-4f2e-ac8e-4b1e40754221",
      "metadata": {
        "id": "c123335b-5299-4f2e-ac8e-4b1e40754221"
      },
      "source": [
        "La línea de regresión de la población no se puede observar. El concepto de comparar estas líneas es una extensión natural del acercamiento estadístico estándar de usar información de una muestra para estimar características de una población grande."
      ]
    },
    {
      "cell_type": "markdown",
      "id": "5b0d26b9-18de-4467-a836-3f75b228a363",
      "metadata": {
        "id": "5b0d26b9-18de-4467-a836-3f75b228a363"
      },
      "source": [
        "Imagina que quieres encontrar la altura promedio de un mexicano $\\mu$. Medir a todos y cada uno de los mexicanos en situaciones similares, con la misma regla, mismo operador, y otras incontables formas de minimizar la variación de la medida es una tarea imposible. Lo que podemos asumir es que $\\hat{\\mu} = \\bar{y}$. La media poblacional y la media muestral son diferentes, pero la media muestral es usualmente un buen estimado.\n",
        "\n",
        "De la misma manera, como no contamos con el 100% de la información para hacer una regresión, los coeficientes $\\beta_0$ y $\\beta_1$ son desconocidos. Podemos estimarlos usando mínimos cuadrados, encontrando $\\hat{\\beta_0}$ y $\\hat{\\beta_1}$. Puede que las muestras que tengamos en ese momento estén un poco por encima de la media, pero otras muestras en otro momento puede que estén debajo de la media. En general, esperamos que el promedio de las aproximaciones $\\hat{\\mu}$ aproxime a $\\mu$."
      ]
    },
    {
      "cell_type": "markdown",
      "id": "7fff6312-57a0-4c9f-aaa9-f22f6294c71c",
      "metadata": {
        "id": "7fff6312-57a0-4c9f-aaa9-f22f6294c71c"
      },
      "source": [
        "Esto lleva a la pregunta: ¿qué tan cercanos son nuestros coeficientes estimados a los verdaderos coeficientes? Utilizamos el concepto de error estándar para evaluar esto.\n",
        "\n",
        "$$ \\text{Var}(\\hat{\\mu})=\\text{SE}(\\hat{\\mu})^2 = \\frac{\\sigma^2}{n} $$\n",
        "\n",
        "Donde $\\sigma$ es la desviación estándar de cada una de las observaciones $y_i$ de $Y$. El error estándar nos dice la cantidad promedio que el estimado difiere del valor verdadero. Podemos ver en la fórmula que entre más observaciones tengamos el error se hace más pequeño. Las fórmulas para errores estándar de $\\hat{\\beta_0}$ y $\\hat{\\beta_1}$ son:\n",
        "\n",
        "$$ \\text{SE}(\\hat{\\beta_0})^2 = \\sigma^2 [\\frac{1}{n} + \\frac{\\bar{x}^2}{\\sum_{i=1}^n (x_i - \\bar{x})^2}]$$\n",
        "\n",
        "$$ \\text{SE}(\\hat{\\beta_1})^2 = \\frac{\\sigma^2}{\\sum_{i=1}^n (x_i - \\bar{x})^2}$$\n",
        "\n",
        "$$ \\sigma^2 = \\text{Var}(\\epsilon) = \\text{RSE}^2 = \\frac{\\text{RSS}}{n-p}$$"
      ]
    },
    {
      "cell_type": "markdown",
      "id": "661b6d7c-2274-462f-92ff-0e7be8ca742d",
      "metadata": {
        "id": "661b6d7c-2274-462f-92ff-0e7be8ca742d"
      },
      "source": [
        "Para que estas fórmulas sean validas asumimos que los errores $\\epsilon_i$ tienen varianza común $\\sigma^2$ y que no están correlacionados.\n",
        "\n",
        "Calcula los errores estándar de los coeficientes"
      ]
    },
    {
      "cell_type": "code",
      "source": [
        "resid = y - y_pred\n",
        "n = len(y)\n",
        "p = 2  # intercepto y pendiente\n",
        "RSS = np.sum(resid**2)\n",
        "sigma2 = RSS / (n - p)\n",
        "print(RSS,sigma2)\n"
      ],
      "metadata": {
        "colab": {
          "base_uri": "https://localhost:8080/"
        },
        "id": "jP0CCPD6H3n1",
        "outputId": "90f9a001-2542-4715-ff14-cb2e55af2235"
      },
      "id": "jP0CCPD6H3n1",
      "execution_count": null,
      "outputs": [
        {
          "output_type": "stream",
          "name": "stdout",
          "text": [
            "2102.5305831313512 10.618841328946218\n"
          ]
        }
      ]
    },
    {
      "cell_type": "code",
      "source": [
        "x_bar = x.mean()\n",
        "Sxx = np.sum((x - x_bar)**2)\n"
      ],
      "metadata": {
        "id": "_0CCP0gcH7Di"
      },
      "id": "_0CCP0gcH7Di",
      "execution_count": null,
      "outputs": []
    },
    {
      "cell_type": "code",
      "source": [
        "SE_beta1 = np.sqrt(sigma2 / Sxx)\n",
        "SE_beta0 = np.sqrt(sigma2 * (1/n + (x_bar**2)/Sxx))\n",
        "print(SE_beta0,SE_beta1)"
      ],
      "metadata": {
        "colab": {
          "base_uri": "https://localhost:8080/"
        },
        "id": "kn4hN0lLH71V",
        "outputId": "ef6d1327-1457-415e-ac7d-dc5360adb07f"
      },
      "id": "kn4hN0lLH71V",
      "execution_count": null,
      "outputs": [
        {
          "output_type": "stream",
          "name": "stdout",
          "text": [
            "0.4578429402734785 0.0026906071877968707\n"
          ]
        }
      ]
    },
    {
      "cell_type": "code",
      "source": [],
      "metadata": {
        "id": "-oafP2YfIWB9"
      },
      "id": "-oafP2YfIWB9",
      "execution_count": null,
      "outputs": []
    },
    {
      "cell_type": "code",
      "source": [],
      "metadata": {
        "id": "UShfWAs6IWOq"
      },
      "id": "UShfWAs6IWOq",
      "execution_count": null,
      "outputs": []
    },
    {
      "cell_type": "markdown",
      "id": "9c2711ec-2380-4bce-ac68-007378e7b76c",
      "metadata": {
        "id": "9c2711ec-2380-4bce-ac68-007378e7b76c"
      },
      "source": [
        "Estos errores se pueden usar para calcular intervalos de confianza. Un intervalo de confianza del $95\\%$ se define como un rango de valores en el cuál se encuentra el desconocido valor verdadero con un $95\\%$ de probabilidad.\n",
        "\n",
        "Otra forma de verlo es que si tomamos muestras repetidas y construimos un intervalo de confianza para cada una, el $95\\%$ de los intervalos creados van a contener el valor verdadero. Para la regresión el intervalo de confianza del $95\\%$ toma la forma:\n",
        "\n",
        "$$ \\hat{\\beta_j} \\pm 2\\text{SE}(\\hat{\\beta_j})$$"
      ]
    },
    {
      "cell_type": "markdown",
      "id": "a71aed31-b058-4217-8d45-9686b9611511",
      "metadata": {
        "id": "a71aed31-b058-4217-8d45-9686b9611511"
      },
      "source": [
        "Calcula los intervalos de confianza para los coeficientes estimados:"
      ]
    },
    {
      "cell_type": "code",
      "execution_count": null,
      "id": "8b725487-4e48-471d-9c5a-547e7e176334",
      "metadata": {
        "id": "8b725487-4e48-471d-9c5a-547e7e176334",
        "outputId": "76fcb3f3-08e3-4f5d-d20c-efa31ee01f16",
        "colab": {
          "base_uri": "https://localhost:8080/"
        }
      },
      "outputs": [
        {
          "output_type": "execute_result",
          "data": {
            "text/plain": [
              "array([7.94827943])"
            ]
          },
          "metadata": {},
          "execution_count": 12
        }
      ],
      "source": [
        "beta0_hat+2*SE_beta0"
      ]
    },
    {
      "cell_type": "code",
      "execution_count": null,
      "id": "4a6f5c10",
      "metadata": {
        "id": "4a6f5c10",
        "outputId": "cd4d2cef-bb76-481c-8ae9-cd8eabb60cd8",
        "colab": {
          "base_uri": "https://localhost:8080/"
        }
      },
      "outputs": [
        {
          "output_type": "execute_result",
          "data": {
            "text/plain": [
              "array([6.11690767])"
            ]
          },
          "metadata": {},
          "execution_count": 13
        }
      ],
      "source": [
        "beta0_hat-2*SE_beta0"
      ]
    },
    {
      "cell_type": "code",
      "execution_count": null,
      "id": "b8173bfb-0766-4888-8c4b-2367cafde0c9",
      "metadata": {
        "id": "b8173bfb-0766-4888-8c4b-2367cafde0c9",
        "outputId": "c3c1c12c-1982-4b80-eafb-a6b3a22ae9f6",
        "colab": {
          "base_uri": "https://localhost:8080/"
        }
      },
      "outputs": [
        {
          "output_type": "execute_result",
          "data": {
            "text/plain": [
              "array([[0.05291785]])"
            ]
          },
          "metadata": {},
          "execution_count": 14
        }
      ],
      "source": [
        "beta1_hat+2*SE_beta1"
      ]
    },
    {
      "cell_type": "code",
      "execution_count": null,
      "id": "e2681447-fa5c-4057-90c2-a32faa1d7277",
      "metadata": {
        "id": "e2681447-fa5c-4057-90c2-a32faa1d7277",
        "outputId": "adb537bd-d934-44dc-848d-2a57e7bfc2d1",
        "colab": {
          "base_uri": "https://localhost:8080/"
        }
      },
      "outputs": [
        {
          "output_type": "execute_result",
          "data": {
            "text/plain": [
              "array([[0.04215543]])"
            ]
          },
          "metadata": {},
          "execution_count": 15
        }
      ],
      "source": [
        "beta1_hat-2*SE_beta1"
      ]
    },
    {
      "cell_type": "markdown",
      "id": "da3b3100-fb87-42de-9e74-75c72464bb7b",
      "metadata": {
        "id": "da3b3100-fb87-42de-9e74-75c72464bb7b"
      },
      "source": [
        "Los errores estándar también se usan para realizar pruebas de hipótesis. La prueba de hipótesis más común es probar la hipótesis nula de:\n",
        "\n",
        "$$ H_0: \\text{No hay relación entre } X \\text{ y } Y \\ \\ \\ \\ (\\beta_1=0)$$"
      ]
    },
    {
      "cell_type": "markdown",
      "id": "a1ef288e-55fe-45fb-bb86-4bef282b5947",
      "metadata": {
        "id": "a1ef288e-55fe-45fb-bb86-4bef282b5947"
      },
      "source": [
        "contra la hipótesis alternativa:\n",
        "$$ H_0: \\text{Hay alguna relación entre } X \\text{ y } Y \\ \\ \\ (\\beta_1 \\neq 0)$$"
      ]
    },
    {
      "cell_type": "markdown",
      "id": "eaf0c27a-4a67-450c-b2ce-a65958938c25",
      "metadata": {
        "id": "eaf0c27a-4a67-450c-b2ce-a65958938c25"
      },
      "source": [
        "Explica con tus palabras el significado de la hipótesis nula y la hipótesis alternativa."
      ]
    },
    {
      "cell_type": "markdown",
      "id": "41f7cb88-88a5-462f-84ec-6019911ebb64",
      "metadata": {
        "id": "41f7cb88-88a5-462f-84ec-6019911ebb64"
      },
      "source": [
        "Podemos decirlo así de manera más clara:\n",
        "\n",
        "La hipótesis nula generalmente representa **la situación “sin efecto” o “sin cambio”**, que se asume como cierta hasta que los datos demuestren lo contrario. Por ejemplo, β1 = 0 significa que X no tiene impacto sobre Y. Si los datos muestran evidencia suficiente, podemos rechazar la hipótesis nula y aceptar la alternativa; si no, la hipótesis nula se mantiene.\n"
      ]
    },
    {
      "cell_type": "markdown",
      "id": "a2e36b97-9347-4b49-a7f2-e02448dfe25d",
      "metadata": {
        "id": "a2e36b97-9347-4b49-a7f2-e02448dfe25d"
      },
      "source": []
    },
    {
      "cell_type": "markdown",
      "id": "5d602628-5c24-4898-a743-d84fb854474d",
      "metadata": {
        "id": "5d602628-5c24-4898-a743-d84fb854474d"
      },
      "source": []
    },
    {
      "cell_type": "markdown",
      "id": "cc6404ea-89ae-45f0-9935-67dbd53b78c6",
      "metadata": {
        "id": "cc6404ea-89ae-45f0-9935-67dbd53b78c6"
      },
      "source": [
        "Para probal la hipótesis nula debemos determinar si nuestro estimado $\\hat{\\beta_1}$ de $\\beta_1$ está lo suficientemente alejado de cero para que podamos decir con confianza que este valor no es cero.\n",
        "\n",
        "¿Qué tan lejos? Depende de qué tanta confianza tengamos en el estimado encontrado. Si nuestro error estándar es pequeño y nuestro estimado está alejado de cero podríamos decir que hay muy poca probabilidad de que el valor verdadero sea 0. En cambio, si nuestro error estándar es grande y nuestro estimado está muy cerca de cero, entonces podrías ser que el valor verdadero sea cero y que no haya relación entre las variables."
      ]
    },
    {
      "cell_type": "markdown",
      "id": "96161b14-6a16-41ea-aec8-0394f729447d",
      "metadata": {
        "id": "96161b14-6a16-41ea-aec8-0394f729447d"
      },
      "source": [
        "Se calcula un *estadístico t* dado por\n",
        "$$ t = \\frac{\\hat{\\beta_j} - \\mu}{\\text{SE}(\\hat{\\beta_j})} $$"
      ]
    },
    {
      "cell_type": "markdown",
      "id": "4f04296d-854b-4fcb-9c79-6b23b516f2f3",
      "metadata": {
        "id": "4f04296d-854b-4fcb-9c79-6b23b516f2f3"
      },
      "source": [
        "donde $\\mu$ es el valor contra el que queremos probar.\n",
        "\n",
        "Calcula el estadístico t para tus coeficientes estimados, usando como referencia la prueba de hipótesis."
      ]
    },
    {
      "cell_type": "code",
      "execution_count": null,
      "id": "3b101c1c-0570-4b3b-bb87-eb7b53e6ec51",
      "metadata": {
        "id": "3b101c1c-0570-4b3b-bb87-eb7b53e6ec51",
        "outputId": "d68df38b-6d5c-402f-eb70-ab49dc5d90aa",
        "colab": {
          "base_uri": "https://localhost:8080/"
        }
      },
      "outputs": [
        {
          "output_type": "stream",
          "name": "stdout",
          "text": [
            "t= [15.36027517]\n",
            "t= [[17.6676256]]\n"
          ]
        }
      ],
      "source": [
        "from scipy import stats\n",
        "p=2\n",
        "t_beta1= beta1_hat/SE_beta1\n",
        "t_beta0= beta0_hat/SE_beta0\n",
        "df= n-p\n",
        "\n",
        "print(\"t=\",t_beta0)\n",
        "print(\"t=\",t_beta1)"
      ]
    },
    {
      "cell_type": "markdown",
      "id": "dd4e01f8",
      "metadata": {
        "id": "dd4e01f8"
      },
      "source": [
        "Hi: B =/ 0"
      ]
    },
    {
      "cell_type": "code",
      "execution_count": null,
      "id": "5f2b2a09",
      "metadata": {
        "id": "5f2b2a09",
        "colab": {
          "base_uri": "https://localhost:8080/"
        },
        "outputId": "cb830e81-bce7-4f4e-9c0b-1e4224a20ab9"
      },
      "outputs": [
        {
          "output_type": "stream",
          "name": "stdout",
          "text": [
            "beta0: t = [15.36027517]  p-value = [0.]  --> Rechazo H0\n",
            "beta1: t = [[17.6676256]]  p-value = [[0.]]  --> Rechazo H0\n"
          ]
        }
      ],
      "source": [
        "from scipy import stats\n",
        "\n",
        "# Grados de libertad\n",
        "df = n - p\n",
        "\n",
        "# Estadísticos t\n",
        "t_beta0 = beta0_hat / SE_beta0\n",
        "t_beta1 = beta1_hat / SE_beta1\n",
        "\n",
        "# p-values bilaterales\n",
        "p_beta0 = 2 * (1 - stats.t.cdf(abs(t_beta0), df=df))\n",
        "p_beta1 = 2 * (1 - stats.t.cdf(abs(t_beta1), df=df))\n",
        "\n",
        "\n",
        "print(\"beta0: t =\", t_beta0, \" p-value =\", p_beta0, \" -->\", \"Rechazo H0\" if p_beta0 < 0.05 else \"No rechazo H0\")\n",
        "print(\"beta1: t =\", t_beta1, \" p-value =\", p_beta1, \" -->\", \"Rechazo H0\" if p_beta1 < 0.05 else \"No rechazo H0\")\n"
      ]
    },
    {
      "cell_type": "markdown",
      "id": "7737b123-f4c5-403c-92f2-4800c79107d9",
      "metadata": {
        "id": "7737b123-f4c5-403c-92f2-4800c79107d9"
      },
      "source": [
        "La distribución t tiene forma de campana y se parece bastante a la distribución normal cuando $n > 30$. Ya sólo es cuestión de calcular la probabilidad de observar cualquier número tal que su valor absoluto sea igual o mayor que el valor absoluto del estadístico t calculado. En otras palabras:\n",
        "$$ P(|x| \\geq |t|) $$"
      ]
    },
    {
      "cell_type": "markdown",
      "id": "6bb2ccf1-b4b1-4c0c-a15b-d4fdd2f4552a",
      "metadata": {
        "id": "6bb2ccf1-b4b1-4c0c-a15b-d4fdd2f4552a"
      },
      "source": [
        "A esta probabilidad la llamamos *p-value*. Un *p-value* pequeño indica que es poco probable que exista por puro azar una relación significativa entre predictor y respuesta, en caso de que no haya una asociación real entre predictor y respuesta. En otras palabras, el *p-value* te dice la probabilidad de que parezca que hay relación cuando no la hay.\n",
        "\n",
        "Si el *p-value* es pequeño, inferimos que sí hay una asociación entre el predictor y la respuesta, y **rechazamos la hipótesis nula**.\n",
        "  "
      ]
    },
    {
      "cell_type": "markdown",
      "id": "c7f17065-a71d-4322-8782-3e805df65d29",
      "metadata": {
        "id": "c7f17065-a71d-4322-8782-3e805df65d29"
      },
      "source": [
        "¿Qué tan pequeño? Depende de la aplicación. Un valor muy común es del $5\\%$.\n",
        "\n",
        "Utiliza el siguiente código para calcular el *p-value* para tus coeficientes\n",
        "\n",
        "`from scipy import stats`\n",
        "\n",
        "`p_bj = 2*(1 - stats.t.cdf(np.abs(t_bj), n-p))`"
      ]
    },
    {
      "cell_type": "code",
      "execution_count": null,
      "id": "7a542d04-f9cb-4ea2-9af1-ca79d1539860",
      "metadata": {
        "id": "7a542d04-f9cb-4ea2-9af1-ca79d1539860",
        "colab": {
          "base_uri": "https://localhost:8080/"
        },
        "outputId": "6cf60c1f-6101-45d7-d7cc-725d4075b1b9"
      },
      "outputs": [
        {
          "output_type": "execute_result",
          "data": {
            "text/plain": [
              "array([0.])"
            ]
          },
          "metadata": {},
          "execution_count": 20
        }
      ],
      "source": [
        "from scipy import stats\n",
        "p_bj0 = 2*(1 - stats.t.cdf(np.abs(t_beta0), n-p))\n",
        "p_bj0"
      ]
    },
    {
      "cell_type": "code",
      "execution_count": null,
      "id": "18100af3-810f-4bce-8e9c-85e3aeda8b53",
      "metadata": {
        "id": "18100af3-810f-4bce-8e9c-85e3aeda8b53",
        "colab": {
          "base_uri": "https://localhost:8080/"
        },
        "outputId": "ccf63f77-ed55-4363-a8e2-a3cf85e4bd03"
      },
      "outputs": [
        {
          "output_type": "execute_result",
          "data": {
            "text/plain": [
              "array([[0.]])"
            ]
          },
          "metadata": {},
          "execution_count": 21
        }
      ],
      "source": [
        "p_bj1 = 2*(1 - stats.t.cdf(np.abs(t_beta1), n-p))\n",
        "p_bj1"
      ]
    },
    {
      "cell_type": "code",
      "execution_count": null,
      "id": "3f85649a-4e68-4902-bc28-90722b192c9f",
      "metadata": {
        "id": "3f85649a-4e68-4902-bc28-90722b192c9f"
      },
      "outputs": [],
      "source": []
    },
    {
      "cell_type": "markdown",
      "id": "2be9ad17-db40-405e-b88a-d0af8a05aacf",
      "metadata": {
        "id": "2be9ad17-db40-405e-b88a-d0af8a05aacf"
      },
      "source": [
        "¿Se rechaza la hipótesis nula? ¿Qué significa?"
      ]
    },
    {
      "cell_type": "markdown",
      "id": "261f861e-f191-47f8-9510-7444ab416756",
      "metadata": {
        "id": "261f861e-f191-47f8-9510-7444ab416756"
      },
      "source": [
        "Rechazar H0 significa que hay evidencia para decir que X que es TV sí afecta a Y."
      ]
    },
    {
      "cell_type": "markdown",
      "id": "2a1eaedd-7f9b-4627-89bf-bac8fe6b1c4f",
      "metadata": {
        "id": "2a1eaedd-7f9b-4627-89bf-bac8fe6b1c4f"
      },
      "source": []
    },
    {
      "cell_type": "markdown",
      "id": "c0f7f417-cfb7-4d4b-a0d1-6612904051a8",
      "metadata": {
        "id": "c0f7f417-cfb7-4d4b-a0d1-6612904051a8"
      },
      "source": []
    },
    {
      "cell_type": "markdown",
      "id": "3a994d1a-6187-491c-a518-7971cebe3c0a",
      "metadata": {
        "id": "3a994d1a-6187-491c-a518-7971cebe3c0a"
      },
      "source": [
        "Realiza otras dos regresiones. Ya tienes hecha la regresión de ventas dado el gasto en publicidad de TV. Realiza la regresión para gastos en radio y gastos en periódico. Organiza las respuestas para que debajo de esta celda se tenga:\n",
        "- Título de regresión\n",
        "- Coeficientes estimados\n",
        "- Errores estándar de los coeficientes\n",
        "- Intervalos de confianza\n",
        "- Estadísticos t\n",
        "- p-values\n",
        "- Observaciones"
      ]
    },
    {
      "cell_type": "markdown",
      "source": [
        "# Ventas y radio"
      ],
      "metadata": {
        "id": "aqtJodNoL9Jz"
      },
      "id": "aqtJodNoL9Jz"
    },
    {
      "cell_type": "code",
      "source": [
        "df = pd.read_csv(\"Advertising.csv\")\n",
        "df.head()"
      ],
      "metadata": {
        "colab": {
          "base_uri": "https://localhost:8080/",
          "height": 206
        },
        "id": "cIFPglR6Okje",
        "outputId": "747e8c86-e540-41d5-ffc2-46815730a50f"
      },
      "id": "cIFPglR6Okje",
      "execution_count": null,
      "outputs": [
        {
          "output_type": "execute_result",
          "data": {
            "text/plain": [
              "   Unnamed: 0     TV  radio  newspaper  sales\n",
              "0           1  230.1   37.8       69.2   22.1\n",
              "1           2   44.5   39.3       45.1   10.4\n",
              "2           3   17.2   45.9       69.3    9.3\n",
              "3           4  151.5   41.3       58.5   18.5\n",
              "4           5  180.8   10.8       58.4   12.9"
            ],
            "text/html": [
              "\n",
              "  <div id=\"df-920b2abc-3f1d-439c-8e3c-78be678be0c1\" class=\"colab-df-container\">\n",
              "    <div>\n",
              "<style scoped>\n",
              "    .dataframe tbody tr th:only-of-type {\n",
              "        vertical-align: middle;\n",
              "    }\n",
              "\n",
              "    .dataframe tbody tr th {\n",
              "        vertical-align: top;\n",
              "    }\n",
              "\n",
              "    .dataframe thead th {\n",
              "        text-align: right;\n",
              "    }\n",
              "</style>\n",
              "<table border=\"1\" class=\"dataframe\">\n",
              "  <thead>\n",
              "    <tr style=\"text-align: right;\">\n",
              "      <th></th>\n",
              "      <th>Unnamed: 0</th>\n",
              "      <th>TV</th>\n",
              "      <th>radio</th>\n",
              "      <th>newspaper</th>\n",
              "      <th>sales</th>\n",
              "    </tr>\n",
              "  </thead>\n",
              "  <tbody>\n",
              "    <tr>\n",
              "      <th>0</th>\n",
              "      <td>1</td>\n",
              "      <td>230.1</td>\n",
              "      <td>37.8</td>\n",
              "      <td>69.2</td>\n",
              "      <td>22.1</td>\n",
              "    </tr>\n",
              "    <tr>\n",
              "      <th>1</th>\n",
              "      <td>2</td>\n",
              "      <td>44.5</td>\n",
              "      <td>39.3</td>\n",
              "      <td>45.1</td>\n",
              "      <td>10.4</td>\n",
              "    </tr>\n",
              "    <tr>\n",
              "      <th>2</th>\n",
              "      <td>3</td>\n",
              "      <td>17.2</td>\n",
              "      <td>45.9</td>\n",
              "      <td>69.3</td>\n",
              "      <td>9.3</td>\n",
              "    </tr>\n",
              "    <tr>\n",
              "      <th>3</th>\n",
              "      <td>4</td>\n",
              "      <td>151.5</td>\n",
              "      <td>41.3</td>\n",
              "      <td>58.5</td>\n",
              "      <td>18.5</td>\n",
              "    </tr>\n",
              "    <tr>\n",
              "      <th>4</th>\n",
              "      <td>5</td>\n",
              "      <td>180.8</td>\n",
              "      <td>10.8</td>\n",
              "      <td>58.4</td>\n",
              "      <td>12.9</td>\n",
              "    </tr>\n",
              "  </tbody>\n",
              "</table>\n",
              "</div>\n",
              "    <div class=\"colab-df-buttons\">\n",
              "\n",
              "  <div class=\"colab-df-container\">\n",
              "    <button class=\"colab-df-convert\" onclick=\"convertToInteractive('df-920b2abc-3f1d-439c-8e3c-78be678be0c1')\"\n",
              "            title=\"Convert this dataframe to an interactive table.\"\n",
              "            style=\"display:none;\">\n",
              "\n",
              "  <svg xmlns=\"http://www.w3.org/2000/svg\" height=\"24px\" viewBox=\"0 -960 960 960\">\n",
              "    <path d=\"M120-120v-720h720v720H120Zm60-500h600v-160H180v160Zm220 220h160v-160H400v160Zm0 220h160v-160H400v160ZM180-400h160v-160H180v160Zm440 0h160v-160H620v160ZM180-180h160v-160H180v160Zm440 0h160v-160H620v160Z\"/>\n",
              "  </svg>\n",
              "    </button>\n",
              "\n",
              "  <style>\n",
              "    .colab-df-container {\n",
              "      display:flex;\n",
              "      gap: 12px;\n",
              "    }\n",
              "\n",
              "    .colab-df-convert {\n",
              "      background-color: #E8F0FE;\n",
              "      border: none;\n",
              "      border-radius: 50%;\n",
              "      cursor: pointer;\n",
              "      display: none;\n",
              "      fill: #1967D2;\n",
              "      height: 32px;\n",
              "      padding: 0 0 0 0;\n",
              "      width: 32px;\n",
              "    }\n",
              "\n",
              "    .colab-df-convert:hover {\n",
              "      background-color: #E2EBFA;\n",
              "      box-shadow: 0px 1px 2px rgba(60, 64, 67, 0.3), 0px 1px 3px 1px rgba(60, 64, 67, 0.15);\n",
              "      fill: #174EA6;\n",
              "    }\n",
              "\n",
              "    .colab-df-buttons div {\n",
              "      margin-bottom: 4px;\n",
              "    }\n",
              "\n",
              "    [theme=dark] .colab-df-convert {\n",
              "      background-color: #3B4455;\n",
              "      fill: #D2E3FC;\n",
              "    }\n",
              "\n",
              "    [theme=dark] .colab-df-convert:hover {\n",
              "      background-color: #434B5C;\n",
              "      box-shadow: 0px 1px 3px 1px rgba(0, 0, 0, 0.15);\n",
              "      filter: drop-shadow(0px 1px 2px rgba(0, 0, 0, 0.3));\n",
              "      fill: #FFFFFF;\n",
              "    }\n",
              "  </style>\n",
              "\n",
              "    <script>\n",
              "      const buttonEl =\n",
              "        document.querySelector('#df-920b2abc-3f1d-439c-8e3c-78be678be0c1 button.colab-df-convert');\n",
              "      buttonEl.style.display =\n",
              "        google.colab.kernel.accessAllowed ? 'block' : 'none';\n",
              "\n",
              "      async function convertToInteractive(key) {\n",
              "        const element = document.querySelector('#df-920b2abc-3f1d-439c-8e3c-78be678be0c1');\n",
              "        const dataTable =\n",
              "          await google.colab.kernel.invokeFunction('convertToInteractive',\n",
              "                                                    [key], {});\n",
              "        if (!dataTable) return;\n",
              "\n",
              "        const docLinkHtml = 'Like what you see? Visit the ' +\n",
              "          '<a target=\"_blank\" href=https://colab.research.google.com/notebooks/data_table.ipynb>data table notebook</a>'\n",
              "          + ' to learn more about interactive tables.';\n",
              "        element.innerHTML = '';\n",
              "        dataTable['output_type'] = 'display_data';\n",
              "        await google.colab.output.renderOutput(dataTable, element);\n",
              "        const docLink = document.createElement('div');\n",
              "        docLink.innerHTML = docLinkHtml;\n",
              "        element.appendChild(docLink);\n",
              "      }\n",
              "    </script>\n",
              "  </div>\n",
              "\n",
              "\n",
              "    <div id=\"df-1fd30d89-d4b4-45dc-9dd8-5dbd0abdc18c\">\n",
              "      <button class=\"colab-df-quickchart\" onclick=\"quickchart('df-1fd30d89-d4b4-45dc-9dd8-5dbd0abdc18c')\"\n",
              "                title=\"Suggest charts\"\n",
              "                style=\"display:none;\">\n",
              "\n",
              "<svg xmlns=\"http://www.w3.org/2000/svg\" height=\"24px\"viewBox=\"0 0 24 24\"\n",
              "     width=\"24px\">\n",
              "    <g>\n",
              "        <path d=\"M19 3H5c-1.1 0-2 .9-2 2v14c0 1.1.9 2 2 2h14c1.1 0 2-.9 2-2V5c0-1.1-.9-2-2-2zM9 17H7v-7h2v7zm4 0h-2V7h2v10zm4 0h-2v-4h2v4z\"/>\n",
              "    </g>\n",
              "</svg>\n",
              "      </button>\n",
              "\n",
              "<style>\n",
              "  .colab-df-quickchart {\n",
              "      --bg-color: #E8F0FE;\n",
              "      --fill-color: #1967D2;\n",
              "      --hover-bg-color: #E2EBFA;\n",
              "      --hover-fill-color: #174EA6;\n",
              "      --disabled-fill-color: #AAA;\n",
              "      --disabled-bg-color: #DDD;\n",
              "  }\n",
              "\n",
              "  [theme=dark] .colab-df-quickchart {\n",
              "      --bg-color: #3B4455;\n",
              "      --fill-color: #D2E3FC;\n",
              "      --hover-bg-color: #434B5C;\n",
              "      --hover-fill-color: #FFFFFF;\n",
              "      --disabled-bg-color: #3B4455;\n",
              "      --disabled-fill-color: #666;\n",
              "  }\n",
              "\n",
              "  .colab-df-quickchart {\n",
              "    background-color: var(--bg-color);\n",
              "    border: none;\n",
              "    border-radius: 50%;\n",
              "    cursor: pointer;\n",
              "    display: none;\n",
              "    fill: var(--fill-color);\n",
              "    height: 32px;\n",
              "    padding: 0;\n",
              "    width: 32px;\n",
              "  }\n",
              "\n",
              "  .colab-df-quickchart:hover {\n",
              "    background-color: var(--hover-bg-color);\n",
              "    box-shadow: 0 1px 2px rgba(60, 64, 67, 0.3), 0 1px 3px 1px rgba(60, 64, 67, 0.15);\n",
              "    fill: var(--button-hover-fill-color);\n",
              "  }\n",
              "\n",
              "  .colab-df-quickchart-complete:disabled,\n",
              "  .colab-df-quickchart-complete:disabled:hover {\n",
              "    background-color: var(--disabled-bg-color);\n",
              "    fill: var(--disabled-fill-color);\n",
              "    box-shadow: none;\n",
              "  }\n",
              "\n",
              "  .colab-df-spinner {\n",
              "    border: 2px solid var(--fill-color);\n",
              "    border-color: transparent;\n",
              "    border-bottom-color: var(--fill-color);\n",
              "    animation:\n",
              "      spin 1s steps(1) infinite;\n",
              "  }\n",
              "\n",
              "  @keyframes spin {\n",
              "    0% {\n",
              "      border-color: transparent;\n",
              "      border-bottom-color: var(--fill-color);\n",
              "      border-left-color: var(--fill-color);\n",
              "    }\n",
              "    20% {\n",
              "      border-color: transparent;\n",
              "      border-left-color: var(--fill-color);\n",
              "      border-top-color: var(--fill-color);\n",
              "    }\n",
              "    30% {\n",
              "      border-color: transparent;\n",
              "      border-left-color: var(--fill-color);\n",
              "      border-top-color: var(--fill-color);\n",
              "      border-right-color: var(--fill-color);\n",
              "    }\n",
              "    40% {\n",
              "      border-color: transparent;\n",
              "      border-right-color: var(--fill-color);\n",
              "      border-top-color: var(--fill-color);\n",
              "    }\n",
              "    60% {\n",
              "      border-color: transparent;\n",
              "      border-right-color: var(--fill-color);\n",
              "    }\n",
              "    80% {\n",
              "      border-color: transparent;\n",
              "      border-right-color: var(--fill-color);\n",
              "      border-bottom-color: var(--fill-color);\n",
              "    }\n",
              "    90% {\n",
              "      border-color: transparent;\n",
              "      border-bottom-color: var(--fill-color);\n",
              "    }\n",
              "  }\n",
              "</style>\n",
              "\n",
              "      <script>\n",
              "        async function quickchart(key) {\n",
              "          const quickchartButtonEl =\n",
              "            document.querySelector('#' + key + ' button');\n",
              "          quickchartButtonEl.disabled = true;  // To prevent multiple clicks.\n",
              "          quickchartButtonEl.classList.add('colab-df-spinner');\n",
              "          try {\n",
              "            const charts = await google.colab.kernel.invokeFunction(\n",
              "                'suggestCharts', [key], {});\n",
              "          } catch (error) {\n",
              "            console.error('Error during call to suggestCharts:', error);\n",
              "          }\n",
              "          quickchartButtonEl.classList.remove('colab-df-spinner');\n",
              "          quickchartButtonEl.classList.add('colab-df-quickchart-complete');\n",
              "        }\n",
              "        (() => {\n",
              "          let quickchartButtonEl =\n",
              "            document.querySelector('#df-1fd30d89-d4b4-45dc-9dd8-5dbd0abdc18c button');\n",
              "          quickchartButtonEl.style.display =\n",
              "            google.colab.kernel.accessAllowed ? 'block' : 'none';\n",
              "        })();\n",
              "      </script>\n",
              "    </div>\n",
              "\n",
              "    </div>\n",
              "  </div>\n"
            ],
            "application/vnd.google.colaboratory.intrinsic+json": {
              "type": "dataframe",
              "variable_name": "df",
              "summary": "{\n  \"name\": \"df\",\n  \"rows\": 200,\n  \"fields\": [\n    {\n      \"column\": \"Unnamed: 0\",\n      \"properties\": {\n        \"dtype\": \"number\",\n        \"std\": 57,\n        \"min\": 1,\n        \"max\": 200,\n        \"num_unique_values\": 200,\n        \"samples\": [\n          96,\n          16,\n          31\n        ],\n        \"semantic_type\": \"\",\n        \"description\": \"\"\n      }\n    },\n    {\n      \"column\": \"TV\",\n      \"properties\": {\n        \"dtype\": \"number\",\n        \"std\": 85.8542363149081,\n        \"min\": 0.7,\n        \"max\": 296.4,\n        \"num_unique_values\": 190,\n        \"samples\": [\n          287.6,\n          286.0,\n          78.2\n        ],\n        \"semantic_type\": \"\",\n        \"description\": \"\"\n      }\n    },\n    {\n      \"column\": \"radio\",\n      \"properties\": {\n        \"dtype\": \"number\",\n        \"std\": 14.846809176168723,\n        \"min\": 0.0,\n        \"max\": 49.6,\n        \"num_unique_values\": 167,\n        \"samples\": [\n          8.2,\n          36.9,\n          44.5\n        ],\n        \"semantic_type\": \"\",\n        \"description\": \"\"\n      }\n    },\n    {\n      \"column\": \"newspaper\",\n      \"properties\": {\n        \"dtype\": \"number\",\n        \"std\": 21.778620838522833,\n        \"min\": 0.3,\n        \"max\": 114.0,\n        \"num_unique_values\": 172,\n        \"samples\": [\n          22.3,\n          5.7,\n          17.0\n        ],\n        \"semantic_type\": \"\",\n        \"description\": \"\"\n      }\n    },\n    {\n      \"column\": \"sales\",\n      \"properties\": {\n        \"dtype\": \"number\",\n        \"std\": 5.217456565710477,\n        \"min\": 1.6,\n        \"max\": 27.0,\n        \"num_unique_values\": 121,\n        \"samples\": [\n          11.4,\n          21.2,\n          12.9\n        ],\n        \"semantic_type\": \"\",\n        \"description\": \"\"\n      }\n    }\n  ]\n}"
            }
          },
          "metadata": {},
          "execution_count": 92
        }
      ]
    },
    {
      "cell_type": "markdown",
      "source": [
        "# Coeficientes estimados"
      ],
      "metadata": {
        "id": "CuKUA6nkNMwC"
      },
      "id": "CuKUA6nkNMwC"
    },
    {
      "cell_type": "code",
      "source": [
        "x = df[[\"radio\"]].values\n",
        "y = df[[\"sales\"]].values\n",
        "X = x.reshape(-1,1)\n",
        "y = y.reshape(-1,1)\n",
        "modelo = LinearRegression()\n",
        "modelo.fit(X, y)\n",
        "y_pred = modelo.predict(X)\n",
        "print(modelo.intercept_,modelo.coef_)"
      ],
      "metadata": {
        "colab": {
          "base_uri": "https://localhost:8080/"
        },
        "id": "7728J6rZOxRu",
        "outputId": "015f0f93-89e1-4c3b-fd48-6fc5fcdd98ac"
      },
      "id": "7728J6rZOxRu",
      "execution_count": null,
      "outputs": [
        {
          "output_type": "stream",
          "name": "stdout",
          "text": [
            "[9.3116381] [[0.20249578]]\n"
          ]
        }
      ]
    },
    {
      "cell_type": "markdown",
      "source": [
        "#Errores estándar de los coeficientes"
      ],
      "metadata": {
        "id": "SBO4ar_cP_0a"
      },
      "id": "SBO4ar_cP_0a"
    },
    {
      "cell_type": "code",
      "source": [
        "resid = y - y_pred\n",
        "n = len(y)\n",
        "p = 2  # intercepto y pendiente\n",
        "RSS = np.sum(resid**2)\n",
        "sigma2 = RSS / (n - p)\n",
        "x_bar = x.mean()\n",
        "Sxx = np.sum((x - x_bar)**2)\n",
        "SE_beta1 = np.sqrt(sigma2 / Sxx)\n",
        "SE_beta0 = np.sqrt(sigma2 * (1/n + (x_bar**2)/Sxx))\n",
        "print(SE_beta0,SE_beta1)"
      ],
      "metadata": {
        "id": "tzu5QFYdEwyq",
        "colab": {
          "base_uri": "https://localhost:8080/"
        },
        "outputId": "2ec80c1f-db21-49ba-ab11-fd5d99239168"
      },
      "id": "tzu5QFYdEwyq",
      "execution_count": null,
      "outputs": [
        {
          "output_type": "stream",
          "name": "stdout",
          "text": [
            "0.5629004962718711 0.020411306360090635\n"
          ]
        }
      ]
    },
    {
      "cell_type": "markdown",
      "source": [
        "# Intervalos de confianza"
      ],
      "metadata": {
        "id": "cC_tij1wNLxE"
      },
      "id": "cC_tij1wNLxE"
    },
    {
      "cell_type": "code",
      "source": [
        "# Intervalos para beta0\n",
        "interval_beta0_plus = modelo.intercept_ + 2*SE_beta0\n",
        "interval_beta0_minus = modelo.intercept_ - 2*SE_beta0\n",
        "\n",
        "# Intervalos para beta1\n",
        "interval_beta1_plus = modelo.coef_ + 2*SE_beta1\n",
        "interval_beta1_minus = modelo.coef_ - 2*SE_beta1\n",
        "\n",
        "print(\"Intervalo aproximado para beta0:\")\n",
        "print(\"beta0_hat - 2*SE_beta0:\", interval_beta0_minus)\n",
        "print(\"beta0_hat + 2*SE_beta0:\", interval_beta0_plus)\n",
        "\n",
        "print(\"\\nIntervalo aproximado para beta1:\")\n",
        "print(\"beta1_hat - 2*SE_beta1:\", interval_beta1_minus)\n",
        "print(\"beta1_hat + 2*SE_beta1:\", interval_beta1_plus)\n"
      ],
      "metadata": {
        "colab": {
          "base_uri": "https://localhost:8080/"
        },
        "id": "gt4bygspNKjP",
        "outputId": "7b9674c9-c668-422b-eb47-793ddf5871b0"
      },
      "id": "gt4bygspNKjP",
      "execution_count": null,
      "outputs": [
        {
          "output_type": "stream",
          "name": "stdout",
          "text": [
            "Intervalo aproximado para beta0:\n",
            "beta0_hat - 2*SE_beta0: [8.1858371]\n",
            "beta0_hat + 2*SE_beta0: [10.43743909]\n",
            "\n",
            "Intervalo aproximado para beta1:\n",
            "beta1_hat - 2*SE_beta1: [[0.16167317]]\n",
            "beta1_hat + 2*SE_beta1: [[0.2433184]]\n"
          ]
        }
      ]
    },
    {
      "cell_type": "markdown",
      "source": [
        "# Estadísticos t"
      ],
      "metadata": {
        "id": "nEK17N76NLD7"
      },
      "id": "nEK17N76NLD7"
    },
    {
      "cell_type": "code",
      "source": [
        "from scipy import stats\n",
        "p=2\n",
        "t_beta1= modelo.coef_/SE_beta1\n",
        "t_beta0= modelo.intercept_/SE_beta0\n",
        "df= n-p\n",
        "\n",
        "print(\"t=\",t_beta0)\n",
        "print(\"t=\",t_beta1)"
      ],
      "metadata": {
        "colab": {
          "base_uri": "https://localhost:8080/"
        },
        "id": "ZlS2fkF-NKuc",
        "outputId": "d61f92dc-cfd3-44e9-decf-296b6a61fe8e"
      },
      "id": "ZlS2fkF-NKuc",
      "execution_count": null,
      "outputs": [
        {
          "output_type": "stream",
          "name": "stdout",
          "text": [
            "t= [16.54224531]\n",
            "t= [[9.92076547]]\n"
          ]
        }
      ]
    },
    {
      "cell_type": "markdown",
      "source": [
        "# p-values"
      ],
      "metadata": {
        "id": "nADUEW7_Q-9_"
      },
      "id": "nADUEW7_Q-9_"
    },
    {
      "cell_type": "code",
      "source": [
        "p_bj0 = 2*(1 - stats.t.cdf(np.abs(t_beta0), n-p))\n",
        "p_bj1 = 2*(1 - stats.t.cdf(np.abs(t_beta1), n-p))\n",
        "print(p_bj0,p_bj1)"
      ],
      "metadata": {
        "colab": {
          "base_uri": "https://localhost:8080/"
        },
        "id": "gS01vQ2XN8oC",
        "outputId": "0abac796-4655-4de4-eb65-2015c521eb5b"
      },
      "id": "gS01vQ2XN8oC",
      "execution_count": null,
      "outputs": [
        {
          "output_type": "stream",
          "name": "stdout",
          "text": [
            "[0.] [[0.]]\n"
          ]
        }
      ]
    },
    {
      "cell_type": "markdown",
      "source": [
        "# Observaciones\n",
        "Se rechaza H0 hay evidencia estadística suficiente para afirmar que X sí tiene relación con Y."
      ],
      "metadata": {
        "id": "P34zHXlwRGCE"
      },
      "id": "P34zHXlwRGCE"
    },
    {
      "cell_type": "markdown",
      "source": [
        "# Ventas y periodico\n",
        "# Coeficientes estimados"
      ],
      "metadata": {
        "id": "vk_e6b3MRp48"
      },
      "id": "vk_e6b3MRp48"
    },
    {
      "cell_type": "code",
      "source": [
        "df = pd.read_csv(\"Advertising.csv\")\n",
        "x = df[[\"newspaper\"]].values\n",
        "y = df[[\"sales\"]].values\n",
        "X = x.reshape(-1,1)\n",
        "y = y.reshape(-1,1)\n",
        "modelo = LinearRegression()\n",
        "modelo.fit(X, y)\n",
        "y_pred = modelo.predict(X)\n",
        "print(modelo.intercept_,modelo.coef_)"
      ],
      "metadata": {
        "colab": {
          "base_uri": "https://localhost:8080/"
        },
        "id": "Y8qDz3XLRsBM",
        "outputId": "b6f29c7e-0569-4a7e-e8e0-f939295b1570"
      },
      "id": "Y8qDz3XLRsBM",
      "execution_count": null,
      "outputs": [
        {
          "output_type": "stream",
          "name": "stdout",
          "text": [
            "[12.35140707] [[0.0546931]]\n"
          ]
        }
      ]
    },
    {
      "cell_type": "markdown",
      "source": [
        "# Errores estándar de los coeficientes"
      ],
      "metadata": {
        "id": "ae4QI1qBRsbO"
      },
      "id": "ae4QI1qBRsbO"
    },
    {
      "cell_type": "code",
      "source": [
        "resid = y - y_pred\n",
        "n = len(y)\n",
        "p = 2  # intercepto y pendiente\n",
        "RSS = np.sum(resid**2)\n",
        "sigma2 = RSS / (n - p)\n",
        "x_bar = x.mean()\n",
        "Sxx = np.sum((x - x_bar)**2)\n",
        "SE_beta1 = np.sqrt(sigma2 / Sxx)\n",
        "SE_beta0 = np.sqrt(sigma2 * (1/n + (x_bar**2)/Sxx))\n",
        "print(SE_beta0,SE_beta1)"
      ],
      "metadata": {
        "colab": {
          "base_uri": "https://localhost:8080/"
        },
        "id": "xCGeUu92Rsz_",
        "outputId": "59c6cc48-74ad-48ff-cb40-8a6f583f2f98"
      },
      "id": "xCGeUu92Rsz_",
      "execution_count": null,
      "outputs": [
        {
          "output_type": "stream",
          "name": "stdout",
          "text": [
            "0.6214201876094345 0.016575721876358165\n"
          ]
        }
      ]
    },
    {
      "cell_type": "markdown",
      "source": [
        "# Intervalos de confianza"
      ],
      "metadata": {
        "id": "P-EDKjY2RtKn"
      },
      "id": "P-EDKjY2RtKn"
    },
    {
      "cell_type": "code",
      "source": [
        "# Intervalos para beta0\n",
        "interval_beta0_plus = modelo.intercept_ + 2*SE_beta0\n",
        "interval_beta0_minus = modelo.intercept_ - 2*SE_beta0\n",
        "\n",
        "# Intervalos para beta1\n",
        "interval_beta1_plus = modelo.coef_ + 2*SE_beta1\n",
        "interval_beta1_minus = modelo.coef_ - 2*SE_beta1\n",
        "\n",
        "print(\"Intervalo aproximado para beta0:\")\n",
        "print(\"beta0_hat - 2*SE_beta0:\", interval_beta0_minus)\n",
        "print(\"beta0_hat + 2*SE_beta0:\", interval_beta0_plus)\n",
        "\n",
        "print(\"\\nIntervalo aproximado para beta1:\")\n",
        "print(\"beta1_hat - 2*SE_beta1:\", interval_beta1_minus)\n",
        "print(\"beta1_hat + 2*SE_beta1:\", interval_beta1_plus)\n"
      ],
      "metadata": {
        "colab": {
          "base_uri": "https://localhost:8080/"
        },
        "id": "kgy7vV0zRtf-",
        "outputId": "fe1b225a-23b2-4ba9-f306-cefd4fb19001"
      },
      "id": "kgy7vV0zRtf-",
      "execution_count": null,
      "outputs": [
        {
          "output_type": "stream",
          "name": "stdout",
          "text": [
            "Intervalo aproximado para beta0:\n",
            "beta0_hat - 2*SE_beta0: [11.10856669]\n",
            "beta0_hat + 2*SE_beta0: [13.59424744]\n",
            "\n",
            "Intervalo aproximado para beta1:\n",
            "beta1_hat - 2*SE_beta1: [[0.02154165]]\n",
            "beta1_hat + 2*SE_beta1: [[0.08784454]]\n"
          ]
        }
      ]
    },
    {
      "cell_type": "markdown",
      "source": [
        "# Estadísticos t"
      ],
      "metadata": {
        "id": "V62kPGwxRtxS"
      },
      "id": "V62kPGwxRtxS"
    },
    {
      "cell_type": "code",
      "source": [
        "p=2\n",
        "t_beta1= modelo.coef_/SE_beta1\n",
        "t_beta0= modelo.intercept_/SE_beta0\n",
        "df= n-p\n",
        "\n",
        "print(\"t=\",t_beta0)\n",
        "print(\"t=\",t_beta1)"
      ],
      "metadata": {
        "colab": {
          "base_uri": "https://localhost:8080/"
        },
        "id": "0K-e9Gj7RuC2",
        "outputId": "ae809e6f-8ebf-4a97-cecd-ff005a467a6e"
      },
      "id": "0K-e9Gj7RuC2",
      "execution_count": null,
      "outputs": [
        {
          "output_type": "stream",
          "name": "stdout",
          "text": [
            "t= [19.87609562]\n",
            "t= [[3.29959074]]\n"
          ]
        }
      ]
    },
    {
      "cell_type": "markdown",
      "source": [
        "# p-values"
      ],
      "metadata": {
        "id": "2pYb2pL5RuUi"
      },
      "id": "2pYb2pL5RuUi"
    },
    {
      "cell_type": "code",
      "source": [
        "p_bj0 = 2*(1 - stats.t.cdf(np.abs(t_beta0), n-p))\n",
        "p_bj1 = 2*(1 - stats.t.cdf(np.abs(t_beta1), n-p))\n",
        "print(p_bj0,p_bj1)"
      ],
      "metadata": {
        "colab": {
          "base_uri": "https://localhost:8080/"
        },
        "id": "CkDpQmuoRumT",
        "outputId": "a6232ee6-d0a6-4240-cbdd-f29af0d0cb22"
      },
      "id": "CkDpQmuoRumT",
      "execution_count": null,
      "outputs": [
        {
          "output_type": "stream",
          "name": "stdout",
          "text": [
            "[0.] [[0.0011482]]\n"
          ]
        }
      ]
    },
    {
      "cell_type": "markdown",
      "source": [
        "# Observaciones\n",
        "También se rechaza H0 por lo cual el periodico si tiene impacto en las ventas."
      ],
      "metadata": {
        "id": "eKz5nA9oTg62"
      },
      "id": "eKz5nA9oTg62"
    },
    {
      "cell_type": "markdown",
      "id": "556988ae-3656-428d-817b-76f9e1534f46",
      "metadata": {
        "id": "556988ae-3656-428d-817b-76f9e1534f46"
      },
      "source": [
        "## Regresión lineal múltiple"
      ]
    },
    {
      "cell_type": "markdown",
      "id": "943698d8-7f84-4245-8be3-e4c8f34be5da",
      "metadata": {
        "id": "943698d8-7f84-4245-8be3-e4c8f34be5da"
      },
      "source": [
        "En lugar de hacer una regresión para cada factor independiente, quizás se puede extender el modelo para que tenga varios factores dentro:\n",
        "\n",
        "$$ Y = \\beta_0 + \\beta_1 X_1 + \\beta_2 X_2 + ... + \\beta_p X_p + \\epsilon $$\n",
        "\n",
        "Para nuestro ejemplo de publicidad:\n",
        "\n",
        "$$ \\text{sales} = \\beta_0 + \\beta_1 (\\text{TV}) + \\beta_2 (\\text{radio}) + \\beta_3 (\\text{newspaper}) + \\epsilon $$"
      ]
    },
    {
      "cell_type": "markdown",
      "id": "df8cd89a-0c25-4e1d-9213-292807e17ccf",
      "metadata": {
        "id": "df8cd89a-0c25-4e1d-9213-292807e17ccf"
      },
      "source": [
        "Utiliza la librería `statsmodels` para realizar la regresión. Por defecto la librería statsmodels no toma en cuenta el intercepto ($\\beta_0$), por lo que se tendrá que agregar una columna de unos de tamaño *n* a la matriz X.\n",
        "\n",
        "`import statsmodels.api as sm`\n",
        "\n",
        "`ols = sm.OLS(Y, X)`\n",
        "\n",
        "`results = ols.fit()`\n",
        "\n",
        "`results.summary()`"
      ]
    },
    {
      "cell_type": "code",
      "execution_count": null,
      "id": "022522eb-2c18-435e-b51b-4ed5a5c54669",
      "metadata": {
        "id": "022522eb-2c18-435e-b51b-4ed5a5c54669",
        "colab": {
          "base_uri": "https://localhost:8080/"
        },
        "outputId": "02e2eaa1-ca8b-4cb7-97cf-8e35ab66b4a5"
      },
      "outputs": [
        {
          "output_type": "stream",
          "name": "stdout",
          "text": [
            "                            OLS Regression Results                            \n",
            "==============================================================================\n",
            "Dep. Variable:                      y   R-squared:                       0.897\n",
            "Model:                            OLS   Adj. R-squared:                  0.896\n",
            "Method:                 Least Squares   F-statistic:                     570.3\n",
            "Date:                Mon, 01 Sep 2025   Prob (F-statistic):           1.58e-96\n",
            "Time:                        03:29:29   Log-Likelihood:                -386.18\n",
            "No. Observations:                 200   AIC:                             780.4\n",
            "Df Residuals:                     196   BIC:                             793.6\n",
            "Df Model:                           3                                         \n",
            "Covariance Type:            nonrobust                                         \n",
            "==============================================================================\n",
            "                 coef    std err          t      P>|t|      [0.025      0.975]\n",
            "------------------------------------------------------------------------------\n",
            "const          2.9389      0.312      9.422      0.000       2.324       3.554\n",
            "x1             0.0458      0.001     32.809      0.000       0.043       0.049\n",
            "x2             0.1885      0.009     21.893      0.000       0.172       0.206\n",
            "x3            -0.0010      0.006     -0.177      0.860      -0.013       0.011\n",
            "==============================================================================\n",
            "Omnibus:                       60.414   Durbin-Watson:                   2.084\n",
            "Prob(Omnibus):                  0.000   Jarque-Bera (JB):              151.241\n",
            "Skew:                          -1.327   Prob(JB):                     1.44e-33\n",
            "Kurtosis:                       6.332   Cond. No.                         454.\n",
            "==============================================================================\n",
            "\n",
            "Notes:\n",
            "[1] Standard Errors assume that the covariance matrix of the errors is correctly specified.\n"
          ]
        }
      ],
      "source": [
        "import statsmodels.api as sm\n",
        "df = pd.read_csv(\"Advertising.csv\")\n",
        "X = df[[\"TV\", \"radio\", \"newspaper\"]].values\n",
        "X = sm.add_constant(X)\n",
        "Y = df[\"sales\"].values\n",
        "ols = sm.OLS(Y, X)\n",
        "results = ols.fit()\n",
        "print(results.summary())\n"
      ]
    },
    {
      "cell_type": "code",
      "execution_count": null,
      "id": "a7a3bd74-0f56-4199-a327-278c3ec9919e",
      "metadata": {
        "id": "a7a3bd74-0f56-4199-a327-278c3ec9919e"
      },
      "outputs": [],
      "source": []
    },
    {
      "cell_type": "code",
      "execution_count": null,
      "id": "e9c9f7ea-0b4c-4f54-922e-6d1222da5da5",
      "metadata": {
        "id": "e9c9f7ea-0b4c-4f54-922e-6d1222da5da5"
      },
      "outputs": [],
      "source": []
    },
    {
      "cell_type": "markdown",
      "id": "df0f403f-b246-4706-a4c6-5f17be224048",
      "metadata": {
        "id": "df0f403f-b246-4706-a4c6-5f17be224048"
      },
      "source": [
        "¿Qué diferencias puedes observar entre los *p-values* de una regresión múltiple y los encontrados en las regresiones simples? ¿Por qué crees que existen estas diferencias?"
      ]
    },
    {
      "cell_type": "code",
      "execution_count": null,
      "id": "317a8b94-91a5-488f-8c9c-8f830c61a77e",
      "metadata": {
        "id": "317a8b94-91a5-488f-8c9c-8f830c61a77e"
      },
      "outputs": [],
      "source": []
    },
    {
      "cell_type": "markdown",
      "source": [
        "En esto no se rechaza la H0 en newspaper no hay evidencia de que afecte las ventas. No se porque cambie en este modelo multiple."
      ],
      "metadata": {
        "id": "LT2lhLBOW9ML"
      },
      "id": "LT2lhLBOW9ML"
    },
    {
      "cell_type": "code",
      "execution_count": null,
      "id": "9ab73ea5-4c61-4a77-a596-708863d1ca20",
      "metadata": {
        "id": "9ab73ea5-4c61-4a77-a596-708863d1ca20"
      },
      "outputs": [],
      "source": []
    },
    {
      "cell_type": "code",
      "execution_count": null,
      "id": "ca597716-79ca-45b4-9629-5c9bddc125e8",
      "metadata": {
        "id": "ca597716-79ca-45b4-9629-5c9bddc125e8"
      },
      "outputs": [],
      "source": []
    },
    {
      "cell_type": "markdown",
      "id": "3898858d-5dda-42ae-b458-b5e7fcd2df76",
      "metadata": {
        "id": "3898858d-5dda-42ae-b458-b5e7fcd2df76"
      },
      "source": [
        "## Referencia\n",
        "\n",
        "James, G., Witten, D., Hastie, T., Tibshirani, R.,, Taylor, J. (2023). An Introduction to Statistical Learning with Applications in Python. Cham: Springer. ISBN: 978-3-031-38746-3"
      ]
    },
    {
      "cell_type": "markdown",
      "id": "8a72b870-2174-4ea9-adac-260d6aa97067",
      "metadata": {
        "id": "8a72b870-2174-4ea9-adac-260d6aa97067"
      },
      "source": [
        "## Addendum"
      ]
    },
    {
      "cell_type": "markdown",
      "id": "8dacc515-40ee-4ac8-a6f6-9e1a22b97313",
      "metadata": {
        "id": "8dacc515-40ee-4ac8-a6f6-9e1a22b97313"
      },
      "source": [
        "Para calcular los *p-values* de los parámetros sin `statsmodels`:\n",
        "1. Calcular RSS\n",
        "2. Calcular RSE\n",
        "3. `var_beta = np.linalg.inv(X.T @ X) * rse**2` (X con columna de intercepto)\n",
        "4. `std_beta = np.sqrt(var_beta.diagonal())` El orden de los valores corresponde al orden de los factores en las columnas de la matriz $X$.\n",
        "5. Calcular *estadístico t*\n",
        "6. Calcular *p-value*"
      ]
    },
    {
      "cell_type": "markdown",
      "source": [],
      "metadata": {
        "id": "esSKAC-1BOwa"
      },
      "id": "esSKAC-1BOwa"
    },
    {
      "cell_type": "code",
      "source": [
        "from sklearn.linear_model import LinearRegression\n",
        "from scipy import stats\n",
        "X = df[[\"TV\"]]          # matriz (n,1)\n",
        "y = df[\"sales\"].values  # vector (n,)\n",
        "\n",
        "n, k = X.shape\n",
        "\n",
        "# 2) Agregar intercepto (columna de 1s)\n",
        "X_aug = np.column_stack([np.ones(n), X])\n",
        "\n",
        "# 3) Ajustar modelo\n",
        "model = LinearRegression(fit_intercept=False).fit(X_aug, y)\n",
        "beta_hat = model.coef_.reshape(-1, 1)      # (2,1): [intercepto, beta1]\n",
        "\n",
        "# 4) Predicciones y residuos\n",
        "y_hat = model.predict(X_aug)\n",
        "resid = y.reshape(-1,1) - y_hat.reshape(-1,1)\n",
        "\n",
        "# 5) RSS y sigma²\n",
        "RSS = float(resid.T @ resid)\n",
        "p = X_aug.shape[1]  # número de parámetros (2: intercepto + pendiente)\n",
        "sigma2 = RSS / (n - p)\n",
        "\n",
        "# 6) Var(beta) y errores estándar\n",
        "XtX_inv = np.linalg.inv(X_aug.T @ X_aug)\n",
        "var_beta = sigma2 * XtX_inv\n",
        "std_beta = np.sqrt(np.diag(var_beta))\n",
        "\n",
        "# 7) t-stats y p-values\n",
        "t_stats = (beta_hat.flatten()) / std_beta\n",
        "dfree = n - p\n",
        "p_vals = 2 * (1 - stats.t.cdf(np.abs(t_stats), df=dfree))\n",
        "\n",
        "# 8) Resultados\n",
        "for j, (bj, se, tj, pv) in enumerate(zip(beta_hat.flatten(), std_beta, t_stats, p_vals)):\n",
        "    name = \"beta0 (intercepto)\" if j == 0 else \"beta1 (TV)\"\n",
        "    decision = \"Rechazo H0\" if pv < 0.05 else \"No rechazo H0\"\n",
        "    print(f\"{name}: beta = {bj:.4f}, SE = {se:.4f}, t = {tj:.4f}, p-value = {pv:.4g} --> {decision}\")"
      ],
      "metadata": {
        "id": "ldJzss2bBQvt",
        "colab": {
          "base_uri": "https://localhost:8080/"
        },
        "outputId": "3be9348d-089d-4323-898d-fbba402c3e1d"
      },
      "id": "ldJzss2bBQvt",
      "execution_count": null,
      "outputs": [
        {
          "output_type": "stream",
          "name": "stdout",
          "text": [
            "beta0 (intercepto): beta = 7.0326, SE = 0.4578, t = 15.3603, p-value = 0 --> Rechazo H0\n",
            "beta1 (TV): beta = 0.0475, SE = 0.0027, t = 17.6676, p-value = 0 --> Rechazo H0\n"
          ]
        },
        {
          "output_type": "stream",
          "name": "stderr",
          "text": [
            "/tmp/ipython-input-3702009144.py:20: DeprecationWarning: Conversion of an array with ndim > 0 to a scalar is deprecated, and will error in future. Ensure you extract a single element from your array before performing this operation. (Deprecated NumPy 1.25.)\n",
            "  RSS = float(resid.T @ resid)\n"
          ]
        }
      ]
    },
    {
      "cell_type": "code",
      "source": [],
      "metadata": {
        "id": "GlyFfe1M_oO7"
      },
      "id": "GlyFfe1M_oO7",
      "execution_count": null,
      "outputs": []
    }
  ],
  "metadata": {
    "kernelspec": {
      "display_name": "Python 3 (ipykernel)",
      "language": "python",
      "name": "python3"
    },
    "language_info": {
      "codemirror_mode": {
        "name": "ipython",
        "version": 3
      },
      "file_extension": ".py",
      "mimetype": "text/x-python",
      "name": "python",
      "nbconvert_exporter": "python",
      "pygments_lexer": "ipython3",
      "version": "3.11.4"
    },
    "colab": {
      "provenance": []
    }
  },
  "nbformat": 4,
  "nbformat_minor": 5
}