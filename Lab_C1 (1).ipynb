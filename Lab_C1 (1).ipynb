{
  "cells": [
    {
      "cell_type": "markdown",
      "id": "c191c972-2c85-4284-a555-7db618ba5b26",
      "metadata": {
        "id": "c191c972-2c85-4284-a555-7db618ba5b26"
      },
      "source": [
        "# Laboratorio de regresión logística"
      ]
    },
    {
      "cell_type": "markdown",
      "id": "e11c177c-1848-44b0-8c6b-b35537b5ae2f",
      "metadata": {
        "id": "e11c177c-1848-44b0-8c6b-b35537b5ae2f"
      },
      "source": [
        "|                |   |\n",
        ":----------------|---|\n",
        "| **Nombre**     | Damarys Valenzuela Santos  |\n",
        "| **Fecha**      |  05/10/2025 |\n",
        "| **Expediente** |  744494 |"
      ]
    },
    {
      "cell_type": "markdown",
      "id": "c4f75ddf-058d-4e10-8a53-bf1b4874e1fa",
      "metadata": {
        "id": "c4f75ddf-058d-4e10-8a53-bf1b4874e1fa"
      },
      "source": [
        "La regresión logística es una herramienta utilizada para predecir respuestas cualitativas. Al igual que la regresión lineal, es un método sencillo que sirve como un punto de partida para técnicas más avanzadas. Por ejemplo, lo que se conoce como *redes neuronales* o *red de perceptrones multicapa* no es más que una estructura de regresiones logísticas que se alimentan entre sí."
      ]
    },
    {
      "cell_type": "markdown",
      "id": "7aca8491-9d65-4f36-86c5-60b58282c56b",
      "metadata": {
        "id": "7aca8491-9d65-4f36-86c5-60b58282c56b"
      },
      "source": [
        "1. Descarga el archivo de créditos y carga los datos (Default.csv). Utiliza `pandas`."
      ]
    },
    {
      "cell_type": "code",
      "execution_count": null,
      "id": "cf337cda-782d-41e3-9a27-15abe95121ad",
      "metadata": {
        "id": "cf337cda-782d-41e3-9a27-15abe95121ad"
      },
      "outputs": [],
      "source": [
        "import numpy as np\n",
        "import pandas as pd\n",
        "\n",
        "df=pd.read_csv(\"Default.csv\")"
      ]
    },
    {
      "cell_type": "code",
      "execution_count": null,
      "id": "582dd548-3fd2-4421-b147-3c251dd5a201",
      "metadata": {
        "id": "582dd548-3fd2-4421-b147-3c251dd5a201"
      },
      "outputs": [],
      "source": []
    },
    {
      "cell_type": "markdown",
      "id": "65b9bbd4-2e26-44b3-8842-a992c7da7374",
      "metadata": {
        "id": "65b9bbd4-2e26-44b3-8842-a992c7da7374"
      },
      "source": [
        "2. Utiliza el comando `obj.head()`, donde `obj` es el nombre que le diste a los datos del archivo."
      ]
    },
    {
      "cell_type": "code",
      "execution_count": null,
      "id": "523807f3-b35f-45f8-bf81-a1dd5f63e7a6",
      "metadata": {
        "colab": {
          "base_uri": "https://localhost:8080/",
          "height": 206
        },
        "id": "523807f3-b35f-45f8-bf81-a1dd5f63e7a6",
        "outputId": "5833bb64-740b-4a3b-8560-719d10a39dfb"
      },
      "outputs": [
        {
          "output_type": "execute_result",
          "data": {
            "text/plain": [
              "  default student      balance        income\n",
              "0      No      No   729.526495  44361.625074\n",
              "1      No     Yes   817.180407  12106.134700\n",
              "2      No      No  1073.549164  31767.138950\n",
              "3      No      No   529.250605  35704.493940\n",
              "4      No      No   785.655883  38463.495880"
            ],
            "text/html": [
              "\n",
              "  <div id=\"df-3a4a34cb-8151-4da9-aa97-04ddc316b5ef\" class=\"colab-df-container\">\n",
              "    <div>\n",
              "<style scoped>\n",
              "    .dataframe tbody tr th:only-of-type {\n",
              "        vertical-align: middle;\n",
              "    }\n",
              "\n",
              "    .dataframe tbody tr th {\n",
              "        vertical-align: top;\n",
              "    }\n",
              "\n",
              "    .dataframe thead th {\n",
              "        text-align: right;\n",
              "    }\n",
              "</style>\n",
              "<table border=\"1\" class=\"dataframe\">\n",
              "  <thead>\n",
              "    <tr style=\"text-align: right;\">\n",
              "      <th></th>\n",
              "      <th>default</th>\n",
              "      <th>student</th>\n",
              "      <th>balance</th>\n",
              "      <th>income</th>\n",
              "    </tr>\n",
              "  </thead>\n",
              "  <tbody>\n",
              "    <tr>\n",
              "      <th>0</th>\n",
              "      <td>No</td>\n",
              "      <td>No</td>\n",
              "      <td>729.526495</td>\n",
              "      <td>44361.625074</td>\n",
              "    </tr>\n",
              "    <tr>\n",
              "      <th>1</th>\n",
              "      <td>No</td>\n",
              "      <td>Yes</td>\n",
              "      <td>817.180407</td>\n",
              "      <td>12106.134700</td>\n",
              "    </tr>\n",
              "    <tr>\n",
              "      <th>2</th>\n",
              "      <td>No</td>\n",
              "      <td>No</td>\n",
              "      <td>1073.549164</td>\n",
              "      <td>31767.138950</td>\n",
              "    </tr>\n",
              "    <tr>\n",
              "      <th>3</th>\n",
              "      <td>No</td>\n",
              "      <td>No</td>\n",
              "      <td>529.250605</td>\n",
              "      <td>35704.493940</td>\n",
              "    </tr>\n",
              "    <tr>\n",
              "      <th>4</th>\n",
              "      <td>No</td>\n",
              "      <td>No</td>\n",
              "      <td>785.655883</td>\n",
              "      <td>38463.495880</td>\n",
              "    </tr>\n",
              "  </tbody>\n",
              "</table>\n",
              "</div>\n",
              "    <div class=\"colab-df-buttons\">\n",
              "\n",
              "  <div class=\"colab-df-container\">\n",
              "    <button class=\"colab-df-convert\" onclick=\"convertToInteractive('df-3a4a34cb-8151-4da9-aa97-04ddc316b5ef')\"\n",
              "            title=\"Convert this dataframe to an interactive table.\"\n",
              "            style=\"display:none;\">\n",
              "\n",
              "  <svg xmlns=\"http://www.w3.org/2000/svg\" height=\"24px\" viewBox=\"0 -960 960 960\">\n",
              "    <path d=\"M120-120v-720h720v720H120Zm60-500h600v-160H180v160Zm220 220h160v-160H400v160Zm0 220h160v-160H400v160ZM180-400h160v-160H180v160Zm440 0h160v-160H620v160ZM180-180h160v-160H180v160Zm440 0h160v-160H620v160Z\"/>\n",
              "  </svg>\n",
              "    </button>\n",
              "\n",
              "  <style>\n",
              "    .colab-df-container {\n",
              "      display:flex;\n",
              "      gap: 12px;\n",
              "    }\n",
              "\n",
              "    .colab-df-convert {\n",
              "      background-color: #E8F0FE;\n",
              "      border: none;\n",
              "      border-radius: 50%;\n",
              "      cursor: pointer;\n",
              "      display: none;\n",
              "      fill: #1967D2;\n",
              "      height: 32px;\n",
              "      padding: 0 0 0 0;\n",
              "      width: 32px;\n",
              "    }\n",
              "\n",
              "    .colab-df-convert:hover {\n",
              "      background-color: #E2EBFA;\n",
              "      box-shadow: 0px 1px 2px rgba(60, 64, 67, 0.3), 0px 1px 3px 1px rgba(60, 64, 67, 0.15);\n",
              "      fill: #174EA6;\n",
              "    }\n",
              "\n",
              "    .colab-df-buttons div {\n",
              "      margin-bottom: 4px;\n",
              "    }\n",
              "\n",
              "    [theme=dark] .colab-df-convert {\n",
              "      background-color: #3B4455;\n",
              "      fill: #D2E3FC;\n",
              "    }\n",
              "\n",
              "    [theme=dark] .colab-df-convert:hover {\n",
              "      background-color: #434B5C;\n",
              "      box-shadow: 0px 1px 3px 1px rgba(0, 0, 0, 0.15);\n",
              "      filter: drop-shadow(0px 1px 2px rgba(0, 0, 0, 0.3));\n",
              "      fill: #FFFFFF;\n",
              "    }\n",
              "  </style>\n",
              "\n",
              "    <script>\n",
              "      const buttonEl =\n",
              "        document.querySelector('#df-3a4a34cb-8151-4da9-aa97-04ddc316b5ef button.colab-df-convert');\n",
              "      buttonEl.style.display =\n",
              "        google.colab.kernel.accessAllowed ? 'block' : 'none';\n",
              "\n",
              "      async function convertToInteractive(key) {\n",
              "        const element = document.querySelector('#df-3a4a34cb-8151-4da9-aa97-04ddc316b5ef');\n",
              "        const dataTable =\n",
              "          await google.colab.kernel.invokeFunction('convertToInteractive',\n",
              "                                                    [key], {});\n",
              "        if (!dataTable) return;\n",
              "\n",
              "        const docLinkHtml = 'Like what you see? Visit the ' +\n",
              "          '<a target=\"_blank\" href=https://colab.research.google.com/notebooks/data_table.ipynb>data table notebook</a>'\n",
              "          + ' to learn more about interactive tables.';\n",
              "        element.innerHTML = '';\n",
              "        dataTable['output_type'] = 'display_data';\n",
              "        await google.colab.output.renderOutput(dataTable, element);\n",
              "        const docLink = document.createElement('div');\n",
              "        docLink.innerHTML = docLinkHtml;\n",
              "        element.appendChild(docLink);\n",
              "      }\n",
              "    </script>\n",
              "  </div>\n",
              "\n",
              "\n",
              "    <div id=\"df-d6c8d27a-56d5-4cef-a094-0f1529877f33\">\n",
              "      <button class=\"colab-df-quickchart\" onclick=\"quickchart('df-d6c8d27a-56d5-4cef-a094-0f1529877f33')\"\n",
              "                title=\"Suggest charts\"\n",
              "                style=\"display:none;\">\n",
              "\n",
              "<svg xmlns=\"http://www.w3.org/2000/svg\" height=\"24px\"viewBox=\"0 0 24 24\"\n",
              "     width=\"24px\">\n",
              "    <g>\n",
              "        <path d=\"M19 3H5c-1.1 0-2 .9-2 2v14c0 1.1.9 2 2 2h14c1.1 0 2-.9 2-2V5c0-1.1-.9-2-2-2zM9 17H7v-7h2v7zm4 0h-2V7h2v10zm4 0h-2v-4h2v4z\"/>\n",
              "    </g>\n",
              "</svg>\n",
              "      </button>\n",
              "\n",
              "<style>\n",
              "  .colab-df-quickchart {\n",
              "      --bg-color: #E8F0FE;\n",
              "      --fill-color: #1967D2;\n",
              "      --hover-bg-color: #E2EBFA;\n",
              "      --hover-fill-color: #174EA6;\n",
              "      --disabled-fill-color: #AAA;\n",
              "      --disabled-bg-color: #DDD;\n",
              "  }\n",
              "\n",
              "  [theme=dark] .colab-df-quickchart {\n",
              "      --bg-color: #3B4455;\n",
              "      --fill-color: #D2E3FC;\n",
              "      --hover-bg-color: #434B5C;\n",
              "      --hover-fill-color: #FFFFFF;\n",
              "      --disabled-bg-color: #3B4455;\n",
              "      --disabled-fill-color: #666;\n",
              "  }\n",
              "\n",
              "  .colab-df-quickchart {\n",
              "    background-color: var(--bg-color);\n",
              "    border: none;\n",
              "    border-radius: 50%;\n",
              "    cursor: pointer;\n",
              "    display: none;\n",
              "    fill: var(--fill-color);\n",
              "    height: 32px;\n",
              "    padding: 0;\n",
              "    width: 32px;\n",
              "  }\n",
              "\n",
              "  .colab-df-quickchart:hover {\n",
              "    background-color: var(--hover-bg-color);\n",
              "    box-shadow: 0 1px 2px rgba(60, 64, 67, 0.3), 0 1px 3px 1px rgba(60, 64, 67, 0.15);\n",
              "    fill: var(--button-hover-fill-color);\n",
              "  }\n",
              "\n",
              "  .colab-df-quickchart-complete:disabled,\n",
              "  .colab-df-quickchart-complete:disabled:hover {\n",
              "    background-color: var(--disabled-bg-color);\n",
              "    fill: var(--disabled-fill-color);\n",
              "    box-shadow: none;\n",
              "  }\n",
              "\n",
              "  .colab-df-spinner {\n",
              "    border: 2px solid var(--fill-color);\n",
              "    border-color: transparent;\n",
              "    border-bottom-color: var(--fill-color);\n",
              "    animation:\n",
              "      spin 1s steps(1) infinite;\n",
              "  }\n",
              "\n",
              "  @keyframes spin {\n",
              "    0% {\n",
              "      border-color: transparent;\n",
              "      border-bottom-color: var(--fill-color);\n",
              "      border-left-color: var(--fill-color);\n",
              "    }\n",
              "    20% {\n",
              "      border-color: transparent;\n",
              "      border-left-color: var(--fill-color);\n",
              "      border-top-color: var(--fill-color);\n",
              "    }\n",
              "    30% {\n",
              "      border-color: transparent;\n",
              "      border-left-color: var(--fill-color);\n",
              "      border-top-color: var(--fill-color);\n",
              "      border-right-color: var(--fill-color);\n",
              "    }\n",
              "    40% {\n",
              "      border-color: transparent;\n",
              "      border-right-color: var(--fill-color);\n",
              "      border-top-color: var(--fill-color);\n",
              "    }\n",
              "    60% {\n",
              "      border-color: transparent;\n",
              "      border-right-color: var(--fill-color);\n",
              "    }\n",
              "    80% {\n",
              "      border-color: transparent;\n",
              "      border-right-color: var(--fill-color);\n",
              "      border-bottom-color: var(--fill-color);\n",
              "    }\n",
              "    90% {\n",
              "      border-color: transparent;\n",
              "      border-bottom-color: var(--fill-color);\n",
              "    }\n",
              "  }\n",
              "</style>\n",
              "\n",
              "      <script>\n",
              "        async function quickchart(key) {\n",
              "          const quickchartButtonEl =\n",
              "            document.querySelector('#' + key + ' button');\n",
              "          quickchartButtonEl.disabled = true;  // To prevent multiple clicks.\n",
              "          quickchartButtonEl.classList.add('colab-df-spinner');\n",
              "          try {\n",
              "            const charts = await google.colab.kernel.invokeFunction(\n",
              "                'suggestCharts', [key], {});\n",
              "          } catch (error) {\n",
              "            console.error('Error during call to suggestCharts:', error);\n",
              "          }\n",
              "          quickchartButtonEl.classList.remove('colab-df-spinner');\n",
              "          quickchartButtonEl.classList.add('colab-df-quickchart-complete');\n",
              "        }\n",
              "        (() => {\n",
              "          let quickchartButtonEl =\n",
              "            document.querySelector('#df-d6c8d27a-56d5-4cef-a094-0f1529877f33 button');\n",
              "          quickchartButtonEl.style.display =\n",
              "            google.colab.kernel.accessAllowed ? 'block' : 'none';\n",
              "        })();\n",
              "      </script>\n",
              "    </div>\n",
              "\n",
              "    </div>\n",
              "  </div>\n"
            ],
            "application/vnd.google.colaboratory.intrinsic+json": {
              "type": "dataframe",
              "variable_name": "df",
              "summary": "{\n  \"name\": \"df\",\n  \"rows\": 10000,\n  \"fields\": [\n    {\n      \"column\": \"default\",\n      \"properties\": {\n        \"dtype\": \"category\",\n        \"num_unique_values\": 2,\n        \"samples\": [\n          \"Yes\",\n          \"No\"\n        ],\n        \"semantic_type\": \"\",\n        \"description\": \"\"\n      }\n    },\n    {\n      \"column\": \"student\",\n      \"properties\": {\n        \"dtype\": \"category\",\n        \"num_unique_values\": 2,\n        \"samples\": [\n          \"Yes\",\n          \"No\"\n        ],\n        \"semantic_type\": \"\",\n        \"description\": \"\"\n      }\n    },\n    {\n      \"column\": \"balance\",\n      \"properties\": {\n        \"dtype\": \"number\",\n        \"std\": 483.7149852107759,\n        \"min\": 0.0,\n        \"max\": 2654.322576,\n        \"num_unique_values\": 9502,\n        \"samples\": [\n          245.3464925,\n          186.5235201\n        ],\n        \"semantic_type\": \"\",\n        \"description\": \"\"\n      }\n    },\n    {\n      \"column\": \"income\",\n      \"properties\": {\n        \"dtype\": \"number\",\n        \"std\": 13336.639562733584,\n        \"min\": 771.9677294,\n        \"max\": 73554.2335,\n        \"num_unique_values\": 10000,\n        \"samples\": [\n          31507.08928,\n          42139.07027\n        ],\n        \"semantic_type\": \"\",\n        \"description\": \"\"\n      }\n    }\n  ]\n}"
            }
          },
          "metadata": {},
          "execution_count": 140
        }
      ],
      "source": [
        "df.head()"
      ]
    },
    {
      "cell_type": "code",
      "execution_count": null,
      "id": "b09c3f99-5e86-422a-a363-64d334cf94c2",
      "metadata": {
        "id": "b09c3f99-5e86-422a-a363-64d334cf94c2"
      },
      "outputs": [],
      "source": []
    },
    {
      "cell_type": "code",
      "execution_count": null,
      "id": "b9bf0fce-f20b-438c-aecd-6ce10bdbdf07",
      "metadata": {
        "id": "b9bf0fce-f20b-438c-aecd-6ce10bdbdf07"
      },
      "outputs": [],
      "source": []
    },
    {
      "cell_type": "markdown",
      "id": "15c04d29-f53e-4abc-be36-84fcd4ec5f0d",
      "metadata": {
        "id": "15c04d29-f53e-4abc-be36-84fcd4ec5f0d"
      },
      "source": [
        "El comando head arroja los primeras *n* líneas (por defecto 5) de los datos que están en el DataFrame.\n",
        "\n",
        "3. Utiliza el comando `obj.describe()`."
      ]
    },
    {
      "cell_type": "code",
      "execution_count": null,
      "id": "d9500b33-6d04-4322-bebe-08fa02305429",
      "metadata": {
        "colab": {
          "base_uri": "https://localhost:8080/",
          "height": 300
        },
        "id": "d9500b33-6d04-4322-bebe-08fa02305429",
        "outputId": "e48f5d7a-ed13-459a-d016-da20c5a40180"
      },
      "outputs": [
        {
          "output_type": "execute_result",
          "data": {
            "text/plain": [
              "            balance        income\n",
              "count  10000.000000  10000.000000\n",
              "mean     835.374886  33516.981876\n",
              "std      483.714985  13336.639563\n",
              "min        0.000000    771.967729\n",
              "25%      481.731105  21340.462903\n",
              "50%      823.636973  34552.644802\n",
              "75%     1166.308386  43807.729275\n",
              "max     2654.322576  73554.233500"
            ],
            "text/html": [
              "\n",
              "  <div id=\"df-4835b7b9-85fc-46a4-9f3a-c3899a9f9ce2\" class=\"colab-df-container\">\n",
              "    <div>\n",
              "<style scoped>\n",
              "    .dataframe tbody tr th:only-of-type {\n",
              "        vertical-align: middle;\n",
              "    }\n",
              "\n",
              "    .dataframe tbody tr th {\n",
              "        vertical-align: top;\n",
              "    }\n",
              "\n",
              "    .dataframe thead th {\n",
              "        text-align: right;\n",
              "    }\n",
              "</style>\n",
              "<table border=\"1\" class=\"dataframe\">\n",
              "  <thead>\n",
              "    <tr style=\"text-align: right;\">\n",
              "      <th></th>\n",
              "      <th>balance</th>\n",
              "      <th>income</th>\n",
              "    </tr>\n",
              "  </thead>\n",
              "  <tbody>\n",
              "    <tr>\n",
              "      <th>count</th>\n",
              "      <td>10000.000000</td>\n",
              "      <td>10000.000000</td>\n",
              "    </tr>\n",
              "    <tr>\n",
              "      <th>mean</th>\n",
              "      <td>835.374886</td>\n",
              "      <td>33516.981876</td>\n",
              "    </tr>\n",
              "    <tr>\n",
              "      <th>std</th>\n",
              "      <td>483.714985</td>\n",
              "      <td>13336.639563</td>\n",
              "    </tr>\n",
              "    <tr>\n",
              "      <th>min</th>\n",
              "      <td>0.000000</td>\n",
              "      <td>771.967729</td>\n",
              "    </tr>\n",
              "    <tr>\n",
              "      <th>25%</th>\n",
              "      <td>481.731105</td>\n",
              "      <td>21340.462903</td>\n",
              "    </tr>\n",
              "    <tr>\n",
              "      <th>50%</th>\n",
              "      <td>823.636973</td>\n",
              "      <td>34552.644802</td>\n",
              "    </tr>\n",
              "    <tr>\n",
              "      <th>75%</th>\n",
              "      <td>1166.308386</td>\n",
              "      <td>43807.729275</td>\n",
              "    </tr>\n",
              "    <tr>\n",
              "      <th>max</th>\n",
              "      <td>2654.322576</td>\n",
              "      <td>73554.233500</td>\n",
              "    </tr>\n",
              "  </tbody>\n",
              "</table>\n",
              "</div>\n",
              "    <div class=\"colab-df-buttons\">\n",
              "\n",
              "  <div class=\"colab-df-container\">\n",
              "    <button class=\"colab-df-convert\" onclick=\"convertToInteractive('df-4835b7b9-85fc-46a4-9f3a-c3899a9f9ce2')\"\n",
              "            title=\"Convert this dataframe to an interactive table.\"\n",
              "            style=\"display:none;\">\n",
              "\n",
              "  <svg xmlns=\"http://www.w3.org/2000/svg\" height=\"24px\" viewBox=\"0 -960 960 960\">\n",
              "    <path d=\"M120-120v-720h720v720H120Zm60-500h600v-160H180v160Zm220 220h160v-160H400v160Zm0 220h160v-160H400v160ZM180-400h160v-160H180v160Zm440 0h160v-160H620v160ZM180-180h160v-160H180v160Zm440 0h160v-160H620v160Z\"/>\n",
              "  </svg>\n",
              "    </button>\n",
              "\n",
              "  <style>\n",
              "    .colab-df-container {\n",
              "      display:flex;\n",
              "      gap: 12px;\n",
              "    }\n",
              "\n",
              "    .colab-df-convert {\n",
              "      background-color: #E8F0FE;\n",
              "      border: none;\n",
              "      border-radius: 50%;\n",
              "      cursor: pointer;\n",
              "      display: none;\n",
              "      fill: #1967D2;\n",
              "      height: 32px;\n",
              "      padding: 0 0 0 0;\n",
              "      width: 32px;\n",
              "    }\n",
              "\n",
              "    .colab-df-convert:hover {\n",
              "      background-color: #E2EBFA;\n",
              "      box-shadow: 0px 1px 2px rgba(60, 64, 67, 0.3), 0px 1px 3px 1px rgba(60, 64, 67, 0.15);\n",
              "      fill: #174EA6;\n",
              "    }\n",
              "\n",
              "    .colab-df-buttons div {\n",
              "      margin-bottom: 4px;\n",
              "    }\n",
              "\n",
              "    [theme=dark] .colab-df-convert {\n",
              "      background-color: #3B4455;\n",
              "      fill: #D2E3FC;\n",
              "    }\n",
              "\n",
              "    [theme=dark] .colab-df-convert:hover {\n",
              "      background-color: #434B5C;\n",
              "      box-shadow: 0px 1px 3px 1px rgba(0, 0, 0, 0.15);\n",
              "      filter: drop-shadow(0px 1px 2px rgba(0, 0, 0, 0.3));\n",
              "      fill: #FFFFFF;\n",
              "    }\n",
              "  </style>\n",
              "\n",
              "    <script>\n",
              "      const buttonEl =\n",
              "        document.querySelector('#df-4835b7b9-85fc-46a4-9f3a-c3899a9f9ce2 button.colab-df-convert');\n",
              "      buttonEl.style.display =\n",
              "        google.colab.kernel.accessAllowed ? 'block' : 'none';\n",
              "\n",
              "      async function convertToInteractive(key) {\n",
              "        const element = document.querySelector('#df-4835b7b9-85fc-46a4-9f3a-c3899a9f9ce2');\n",
              "        const dataTable =\n",
              "          await google.colab.kernel.invokeFunction('convertToInteractive',\n",
              "                                                    [key], {});\n",
              "        if (!dataTable) return;\n",
              "\n",
              "        const docLinkHtml = 'Like what you see? Visit the ' +\n",
              "          '<a target=\"_blank\" href=https://colab.research.google.com/notebooks/data_table.ipynb>data table notebook</a>'\n",
              "          + ' to learn more about interactive tables.';\n",
              "        element.innerHTML = '';\n",
              "        dataTable['output_type'] = 'display_data';\n",
              "        await google.colab.output.renderOutput(dataTable, element);\n",
              "        const docLink = document.createElement('div');\n",
              "        docLink.innerHTML = docLinkHtml;\n",
              "        element.appendChild(docLink);\n",
              "      }\n",
              "    </script>\n",
              "  </div>\n",
              "\n",
              "\n",
              "    <div id=\"df-190d91f8-1b5b-47e6-939a-806a44eb0474\">\n",
              "      <button class=\"colab-df-quickchart\" onclick=\"quickchart('df-190d91f8-1b5b-47e6-939a-806a44eb0474')\"\n",
              "                title=\"Suggest charts\"\n",
              "                style=\"display:none;\">\n",
              "\n",
              "<svg xmlns=\"http://www.w3.org/2000/svg\" height=\"24px\"viewBox=\"0 0 24 24\"\n",
              "     width=\"24px\">\n",
              "    <g>\n",
              "        <path d=\"M19 3H5c-1.1 0-2 .9-2 2v14c0 1.1.9 2 2 2h14c1.1 0 2-.9 2-2V5c0-1.1-.9-2-2-2zM9 17H7v-7h2v7zm4 0h-2V7h2v10zm4 0h-2v-4h2v4z\"/>\n",
              "    </g>\n",
              "</svg>\n",
              "      </button>\n",
              "\n",
              "<style>\n",
              "  .colab-df-quickchart {\n",
              "      --bg-color: #E8F0FE;\n",
              "      --fill-color: #1967D2;\n",
              "      --hover-bg-color: #E2EBFA;\n",
              "      --hover-fill-color: #174EA6;\n",
              "      --disabled-fill-color: #AAA;\n",
              "      --disabled-bg-color: #DDD;\n",
              "  }\n",
              "\n",
              "  [theme=dark] .colab-df-quickchart {\n",
              "      --bg-color: #3B4455;\n",
              "      --fill-color: #D2E3FC;\n",
              "      --hover-bg-color: #434B5C;\n",
              "      --hover-fill-color: #FFFFFF;\n",
              "      --disabled-bg-color: #3B4455;\n",
              "      --disabled-fill-color: #666;\n",
              "  }\n",
              "\n",
              "  .colab-df-quickchart {\n",
              "    background-color: var(--bg-color);\n",
              "    border: none;\n",
              "    border-radius: 50%;\n",
              "    cursor: pointer;\n",
              "    display: none;\n",
              "    fill: var(--fill-color);\n",
              "    height: 32px;\n",
              "    padding: 0;\n",
              "    width: 32px;\n",
              "  }\n",
              "\n",
              "  .colab-df-quickchart:hover {\n",
              "    background-color: var(--hover-bg-color);\n",
              "    box-shadow: 0 1px 2px rgba(60, 64, 67, 0.3), 0 1px 3px 1px rgba(60, 64, 67, 0.15);\n",
              "    fill: var(--button-hover-fill-color);\n",
              "  }\n",
              "\n",
              "  .colab-df-quickchart-complete:disabled,\n",
              "  .colab-df-quickchart-complete:disabled:hover {\n",
              "    background-color: var(--disabled-bg-color);\n",
              "    fill: var(--disabled-fill-color);\n",
              "    box-shadow: none;\n",
              "  }\n",
              "\n",
              "  .colab-df-spinner {\n",
              "    border: 2px solid var(--fill-color);\n",
              "    border-color: transparent;\n",
              "    border-bottom-color: var(--fill-color);\n",
              "    animation:\n",
              "      spin 1s steps(1) infinite;\n",
              "  }\n",
              "\n",
              "  @keyframes spin {\n",
              "    0% {\n",
              "      border-color: transparent;\n",
              "      border-bottom-color: var(--fill-color);\n",
              "      border-left-color: var(--fill-color);\n",
              "    }\n",
              "    20% {\n",
              "      border-color: transparent;\n",
              "      border-left-color: var(--fill-color);\n",
              "      border-top-color: var(--fill-color);\n",
              "    }\n",
              "    30% {\n",
              "      border-color: transparent;\n",
              "      border-left-color: var(--fill-color);\n",
              "      border-top-color: var(--fill-color);\n",
              "      border-right-color: var(--fill-color);\n",
              "    }\n",
              "    40% {\n",
              "      border-color: transparent;\n",
              "      border-right-color: var(--fill-color);\n",
              "      border-top-color: var(--fill-color);\n",
              "    }\n",
              "    60% {\n",
              "      border-color: transparent;\n",
              "      border-right-color: var(--fill-color);\n",
              "    }\n",
              "    80% {\n",
              "      border-color: transparent;\n",
              "      border-right-color: var(--fill-color);\n",
              "      border-bottom-color: var(--fill-color);\n",
              "    }\n",
              "    90% {\n",
              "      border-color: transparent;\n",
              "      border-bottom-color: var(--fill-color);\n",
              "    }\n",
              "  }\n",
              "</style>\n",
              "\n",
              "      <script>\n",
              "        async function quickchart(key) {\n",
              "          const quickchartButtonEl =\n",
              "            document.querySelector('#' + key + ' button');\n",
              "          quickchartButtonEl.disabled = true;  // To prevent multiple clicks.\n",
              "          quickchartButtonEl.classList.add('colab-df-spinner');\n",
              "          try {\n",
              "            const charts = await google.colab.kernel.invokeFunction(\n",
              "                'suggestCharts', [key], {});\n",
              "          } catch (error) {\n",
              "            console.error('Error during call to suggestCharts:', error);\n",
              "          }\n",
              "          quickchartButtonEl.classList.remove('colab-df-spinner');\n",
              "          quickchartButtonEl.classList.add('colab-df-quickchart-complete');\n",
              "        }\n",
              "        (() => {\n",
              "          let quickchartButtonEl =\n",
              "            document.querySelector('#df-190d91f8-1b5b-47e6-939a-806a44eb0474 button');\n",
              "          quickchartButtonEl.style.display =\n",
              "            google.colab.kernel.accessAllowed ? 'block' : 'none';\n",
              "        })();\n",
              "      </script>\n",
              "    </div>\n",
              "\n",
              "    </div>\n",
              "  </div>\n"
            ],
            "application/vnd.google.colaboratory.intrinsic+json": {
              "type": "dataframe",
              "summary": "{\n  \"name\": \"df\",\n  \"rows\": 8,\n  \"fields\": [\n    {\n      \"column\": \"balance\",\n      \"properties\": {\n        \"dtype\": \"number\",\n        \"std\": 3304.6041266143916,\n        \"min\": 0.0,\n        \"max\": 10000.0,\n        \"num_unique_values\": 8,\n        \"samples\": [\n          835.37488561563,\n          823.6369726,\n          10000.0\n        ],\n        \"semantic_type\": \"\",\n        \"description\": \"\"\n      }\n    },\n    {\n      \"column\": \"income\",\n      \"properties\": {\n        \"dtype\": \"number\",\n        \"std\": 23044.237326939263,\n        \"min\": 771.9677294,\n        \"max\": 73554.2335,\n        \"num_unique_values\": 8,\n        \"samples\": [\n          33516.981875958874,\n          34552.644802009854,\n          10000.0\n        ],\n        \"semantic_type\": \"\",\n        \"description\": \"\"\n      }\n    }\n  ]\n}"
            }
          },
          "metadata": {},
          "execution_count": 141
        }
      ],
      "source": [
        "df.describe()"
      ]
    },
    {
      "cell_type": "code",
      "execution_count": null,
      "id": "643e5d7b-4a56-442b-9706-1732bf3e99a0",
      "metadata": {
        "id": "643e5d7b-4a56-442b-9706-1732bf3e99a0"
      },
      "outputs": [],
      "source": []
    },
    {
      "cell_type": "code",
      "execution_count": null,
      "id": "060c28af-fec5-4cff-929a-8a9586aabf0d",
      "metadata": {
        "id": "060c28af-fec5-4cff-929a-8a9586aabf0d"
      },
      "outputs": [],
      "source": []
    },
    {
      "cell_type": "markdown",
      "id": "d0bddd85-1291-4b86-ac54-08579009eaad",
      "metadata": {
        "id": "d0bddd85-1291-4b86-ac54-08579009eaad"
      },
      "source": [
        "El comando describe toma las columnas que tienen datos numéricos y saca datos estadísticos comunes:\n",
        "- *n*\n",
        "- media\n",
        "- desviación estándar\n",
        "- valor mínimo\n",
        "- primer cuartil\n",
        "- mediana\n",
        "- tercer cuartil\n",
        "- valor máximo\n",
        "\n",
        "3. Vistos estos datos, ¿qué columnas existen en el DataFrame? ¿Qué tipo de datos contienen?"
      ]
    },
    {
      "cell_type": "markdown",
      "id": "be36451d-c633-4ff5-8973-5aabb455e467",
      "metadata": {
        "id": "be36451d-c633-4ff5-8973-5aabb455e467"
      },
      "source": [
        "Tenemos balance e ingresos (income) de un banco para saber si los clientes pagan o no , donde tenemos 10 mil datos, la media de balance es 835.374886 y de los ingresos es 33516.981876 con desviación estandar para balance de 483.714985\ty para ingresos de 13336.639563."
      ]
    },
    {
      "cell_type": "markdown",
      "id": "815fb698-119d-4d30-b1a7-83a6f9a5c00a",
      "metadata": {
        "id": "815fb698-119d-4d30-b1a7-83a6f9a5c00a"
      },
      "source": []
    },
    {
      "cell_type": "markdown",
      "id": "250e1819-a2b8-4ae9-86c6-533ae4c2aa36",
      "metadata": {
        "id": "250e1819-a2b8-4ae9-86c6-533ae4c2aa36"
      },
      "source": []
    },
    {
      "cell_type": "markdown",
      "id": "d647ca4b-012f-4b9e-a062-6484f2fdb2c8",
      "metadata": {
        "id": "d647ca4b-012f-4b9e-a062-6484f2fdb2c8"
      },
      "source": [
        "4. Configura el tipo de dato de las columnas `default` y `student` para cambiarlos a variables categóricas.\n",
        "\n",
        "`data[columna] = data[columna].astype(\"category\")`"
      ]
    },
    {
      "cell_type": "code",
      "execution_count": null,
      "id": "1ca68e38-8821-4a7b-96de-20f4209a2c84",
      "metadata": {
        "id": "1ca68e38-8821-4a7b-96de-20f4209a2c84"
      },
      "outputs": [],
      "source": [
        "df[\"default\"]=df[\"default\"].astype(\"category\")\n",
        "df[\"student\"]=df[\"student\"].astype(\"category\")"
      ]
    },
    {
      "cell_type": "code",
      "execution_count": null,
      "id": "079e5d10-4a2a-470d-97b1-5b06f6b060ad",
      "metadata": {
        "id": "079e5d10-4a2a-470d-97b1-5b06f6b060ad"
      },
      "outputs": [],
      "source": []
    },
    {
      "cell_type": "code",
      "execution_count": null,
      "id": "3f5c9895-5023-4379-9999-d2218a64ff56",
      "metadata": {
        "id": "3f5c9895-5023-4379-9999-d2218a64ff56"
      },
      "outputs": [],
      "source": []
    },
    {
      "cell_type": "markdown",
      "id": "ab653f15-e6c1-418f-8b78-4e4cb34c8380",
      "metadata": {
        "id": "ab653f15-e6c1-418f-8b78-4e4cb34c8380"
      },
      "source": [
        "Imagina que trabajas en un banco y que se te entregan estos datos. Tu objetivo es crear un modelo que ayude a predecir si una persona que solicita un crédito lo va a pagar. Exploremos los datos un poco más antes de crear un modelo.\n",
        "\n",
        "Veamos primero cómo es la distribución de los valores cuando una persona dejó de pagar y cuando siguió pagando. `Default` es el término utilizado para cuando una persona dejó de pagar.\n",
        "\n",
        "5. Crea una gráfica de caja para las columnas `income` y `balance`, con los datos agrupados con la columna `default`. Utiliza el comando `obj.boxplot(column=____, by=_____)`"
      ]
    },
    {
      "cell_type": "code",
      "execution_count": null,
      "id": "546de528-d1b8-442b-9aec-e6be74bdbfbf",
      "metadata": {
        "colab": {
          "base_uri": "https://localhost:8080/",
          "height": 533
        },
        "id": "546de528-d1b8-442b-9aec-e6be74bdbfbf",
        "outputId": "1f873d30-5dd3-4262-f682-234b44e00185"
      },
      "outputs": [
        {
          "output_type": "execute_result",
          "data": {
            "text/plain": [
              "array([<Axes: title={'center': 'income'}, xlabel='default'>,\n",
              "       <Axes: title={'center': 'balance'}, xlabel='default'>],\n",
              "      dtype=object)"
            ]
          },
          "metadata": {},
          "execution_count": 143
        },
        {
          "output_type": "display_data",
          "data": {
            "text/plain": [
              "<Figure size 640x480 with 2 Axes>"
            ],
            "image/png": "[encoded data removed]"
          },
          "metadata": {}
        }
      ],
      "source": [
        "df.boxplot(column=(\"income\",\"balance\"), by=\"default\")"
      ]
    },
    {
      "cell_type": "code",
      "execution_count": null,
      "id": "3149fb97-f0db-44c5-9927-971161dd3751",
      "metadata": {
        "id": "3149fb97-f0db-44c5-9927-971161dd3751"
      },
      "outputs": [],
      "source": []
    },
    {
      "cell_type": "markdown",
      "id": "ebb61978-5302-4b07-b20a-603b429f874b",
      "metadata": {
        "id": "ebb61978-5302-4b07-b20a-603b429f874b"
      },
      "source": [
        "6. Crea una gráfica de dispersión donde el eje *x* sea la columna `balance` y el eje *y* la columna `income`. Utiliza el comando `obj.plot.scatter(x, y, c=\"default\", colormap=\"PiYG_r\", alpha=0.5)`."
      ]
    },
    {
      "cell_type": "code",
      "execution_count": null,
      "id": "1008ae54-6a73-442d-9598-2a2dfdb807a5",
      "metadata": {
        "colab": {
          "base_uri": "https://localhost:8080/",
          "height": 467
        },
        "id": "1008ae54-6a73-442d-9598-2a2dfdb807a5",
        "outputId": "fbb440b3-1242-4155-d16d-b11d3c4d34b3"
      },
      "outputs": [
        {
          "output_type": "execute_result",
          "data": {
            "text/plain": [
              "<Axes: xlabel='balance', ylabel='income'>"
            ]
          },
          "metadata": {},
          "execution_count": 144
        },
        {
          "output_type": "display_data",
          "data": {
            "text/plain": [
              "<Figure size 640x480 with 2 Axes>"
            ],
            "image/png": "[encoded data removed]"
          },
          "metadata": {}
        }
      ],
      "source": [
        "df.plot.scatter(x=\"balance\", y=\"income\", c=\"default\", colormap=\"PiYG_r\", alpha=0.5)"
      ]
    },
    {
      "cell_type": "code",
      "execution_count": null,
      "id": "ea5d596a-5dea-46d3-aa10-fb3e47a34a28",
      "metadata": {
        "id": "ea5d596a-5dea-46d3-aa10-fb3e47a34a28"
      },
      "outputs": [],
      "source": []
    },
    {
      "cell_type": "code",
      "execution_count": null,
      "id": "ca72041b-1f94-46e0-bea9-c6b3a571728b",
      "metadata": {
        "id": "ca72041b-1f94-46e0-bea9-c6b3a571728b"
      },
      "outputs": [],
      "source": []
    },
    {
      "cell_type": "markdown",
      "id": "49f3bb3e-5ba5-405f-9cfd-08a944f3a142",
      "metadata": {
        "id": "49f3bb3e-5ba5-405f-9cfd-08a944f3a142"
      },
      "source": [
        "La regresión (lineal o logística) se usa para encontrar una línea que ajuste los datos para tomar una decisión. La línea que buscamos en regresión logística es aquella que nos ayude a separar las diferentes categorías.\n",
        "\n",
        "<img style=\"float: left; \" src=\"https://www.baeldung.com/wp-content/uploads/sites/4/2023/10/decision_boundary_curve.jpg\" width=\"400px\" />\n"
      ]
    },
    {
      "cell_type": "markdown",
      "id": "d04c4af0-ccb8-4174-b388-6260f4f206ed",
      "metadata": {
        "id": "d04c4af0-ccb8-4174-b388-6260f4f206ed"
      },
      "source": [
        "## Regresión logística simple"
      ]
    },
    {
      "cell_type": "markdown",
      "id": "8479721f-877b-4c4f-abc1-1da69b8520eb",
      "metadata": {
        "id": "8479721f-877b-4c4f-abc1-1da69b8520eb"
      },
      "source": [
        "Creemos un modelo simple donde sólo utilizamos una de los factores para predecir una respuesta. Quiero conocer la probabilidad de que una persona deje de pagar su crédito dado el balance que tiene en su cuenta.\n",
        "\n",
        "$$ P(\\text{default}=\\text{Yes}|\\text{balance}) $$"
      ]
    },
    {
      "cell_type": "markdown",
      "id": "3cb24746-3fc3-444b-b7f4-0427a79eafc4",
      "metadata": {
        "id": "3cb24746-3fc3-444b-b7f4-0427a79eafc4"
      },
      "source": [
        "Por el momento la columna default no contiene valores numéricos, por lo que hay que transformar los datos. Como default es nuestra variable de respuesta (lo que queremos predecir) podemos nombrarla *y*.\n",
        "\n",
        "Ejecuta el código `y = obj[\"default\"] == \"Yes\"`. Extrae el factor `balance` en una variable *x*."
      ]
    },
    {
      "cell_type": "code",
      "execution_count": null,
      "id": "c5f7d3df-a374-433a-bcf7-4c2e59cf2491",
      "metadata": {
        "id": "c5f7d3df-a374-433a-bcf7-4c2e59cf2491"
      },
      "outputs": [],
      "source": [
        "y=df[\"default\"]== \"Yes\""
      ]
    },
    {
      "cell_type": "code",
      "execution_count": null,
      "id": "0e99db8a-e858-4a03-b806-f411473209a4",
      "metadata": {
        "id": "0e99db8a-e858-4a03-b806-f411473209a4"
      },
      "outputs": [],
      "source": []
    },
    {
      "cell_type": "markdown",
      "id": "979a233e-fb64-4051-8a1f-aa9143c2ad1e",
      "metadata": {
        "id": "979a233e-fb64-4051-8a1f-aa9143c2ad1e"
      },
      "source": [
        "Crea un gráfico de dispersión donde el eje *x* sea `balance` y el eje *y* sea `default` transformado."
      ]
    },
    {
      "cell_type": "code",
      "execution_count": null,
      "id": "38601930-985f-41b8-95c0-64e269fdd4fd",
      "metadata": {
        "colab": {
          "base_uri": "https://localhost:8080/",
          "height": 448
        },
        "id": "38601930-985f-41b8-95c0-64e269fdd4fd",
        "outputId": "5ebb9b8b-62a5-4f9e-ce66-6ceca198f4ad"
      },
      "outputs": [
        {
          "output_type": "execute_result",
          "data": {
            "text/plain": [
              "<matplotlib.collections.PathCollection at 0x7d69e6f57f80>"
            ]
          },
          "metadata": {},
          "execution_count": 146
        },
        {
          "output_type": "display_data",
          "data": {
            "text/plain": [
              "<Figure size 640x480 with 1 Axes>"
            ],
            "image/png": "[encoded data removed]"
          },
          "metadata": {}
        }
      ],
      "source": [
        "import matplotlib.pyplot as plt\n",
        "\n",
        "\n",
        "y=y.astype(\"int\")\n",
        "plt.scatter(x=df[\"balance\"], y=y, alpha=0.5)\n"
      ]
    },
    {
      "cell_type": "code",
      "execution_count": null,
      "id": "2ce5350c-96c8-499c-9d4e-0e48f34b3198",
      "metadata": {
        "id": "2ce5350c-96c8-499c-9d4e-0e48f34b3198"
      },
      "outputs": [],
      "source": []
    },
    {
      "cell_type": "code",
      "execution_count": null,
      "id": "45d807f5-d835-4b87-a95d-0fe236df5116",
      "metadata": {
        "id": "45d807f5-d835-4b87-a95d-0fe236df5116"
      },
      "outputs": [],
      "source": []
    },
    {
      "cell_type": "markdown",
      "id": "4d2f52fe-f647-420a-bc8d-98854ce647eb",
      "metadata": {
        "id": "4d2f52fe-f647-420a-bc8d-98854ce647eb"
      },
      "source": [
        "La línea que utilizaremos para predecir la probabilidad es:\n",
        "\n",
        "$$ p(x) = \\frac{1}{1 + e^{-(\\beta_0 + \\beta_1 x)}} $$\n",
        "\n",
        "Para nuestro ejemplo de pagos y balance:\n",
        "\n",
        "$$ P(\\text{default}=1|\\text{balance}) = \\frac{1}{1 + e^{-(\\beta_0 + \\beta_1  \\text{balance})}} $$"
      ]
    },
    {
      "cell_type": "markdown",
      "id": "867bbcf8-3287-4f69-b396-1bc891e3d4b4",
      "metadata": {
        "id": "867bbcf8-3287-4f69-b396-1bc891e3d4b4"
      },
      "source": [
        "Buscamos maximizar la probabilidad de que el modelo tome decisiones correctas. Es decir, que cuando `default` fue verdadero, que la predicción sea 100%, y que cuando `default` fue falso que la predicción sea 0%.\n",
        "\n",
        "$$ \\Pi_{i:y_i=1} p(x_i) \\Pi_{i':y_{i'}} (1-p(x_{i'})) $$"
      ]
    },
    {
      "cell_type": "markdown",
      "id": "2548f26c-4608-45f6-974c-76dd9ff9ce10",
      "metadata": {
        "id": "2548f26c-4608-45f6-974c-76dd9ff9ce10"
      },
      "source": [
        "La función de costo ya simplificada es la siguiente:\n",
        "\n",
        "$$ J(\\vec{\\beta}) = -  \\sum_{i=1}^n{[y_i \\ln{(\\hat{p}(x_i))} + (1-y_i)\\ln{(1 - \\hat{p}(x_i))}]}$$"
      ]
    },
    {
      "cell_type": "markdown",
      "id": "cd13da5a-745c-42c9-b54d-eb0201038089",
      "metadata": {
        "id": "cd13da5a-745c-42c9-b54d-eb0201038089"
      },
      "source": [
        "Utiliza la clase `LogisticRegression` del módulo `linear_model` de la librería `sklearn` para estimar los parámetros del modelo."
      ]
    },
    {
      "cell_type": "code",
      "execution_count": null,
      "id": "1e27ce77-d143-40a8-8a85-7596ceb7ec07",
      "metadata": {
        "id": "1e27ce77-d143-40a8-8a85-7596ceb7ec07"
      },
      "outputs": [],
      "source": [
        "from sklearn.linear_model import LogisticRegression"
      ]
    },
    {
      "cell_type": "code",
      "execution_count": null,
      "id": "21c9b941-2563-474e-8944-0847ce7278fb",
      "metadata": {
        "id": "21c9b941-2563-474e-8944-0847ce7278fb"
      },
      "outputs": [],
      "source": []
    },
    {
      "cell_type": "code",
      "execution_count": null,
      "id": "981dc02b-0c44-4981-b24d-82d9083e09d4",
      "metadata": {
        "id": "981dc02b-0c44-4981-b24d-82d9083e09d4"
      },
      "outputs": [],
      "source": []
    },
    {
      "cell_type": "markdown",
      "id": "1df9414b-2a8e-42bd-a84b-633ba221dc12",
      "metadata": {
        "id": "1df9414b-2a8e-42bd-a84b-633ba221dc12"
      },
      "source": [
        "Muchos aspectos de la regresión logística son similares a la regresión lineal. Podemos medir la precisión de nuestros estimados calculando sus errores estándar. El objetivo de calcular estos errores es asegurar que hay una relación estadísticamente significativa entre el factor y la variable de respuesta.\n",
        "\n",
        "Los errores estándar se obtienen con el siguiente procedimiento:\n",
        "\n",
        "1. Calcula las predicciones utilizando los $\\beta_0$ y $\\beta_1$ encontrados."
      ]
    },
    {
      "cell_type": "code",
      "execution_count": null,
      "id": "3a41f402-bf4f-4dd9-9f41-b47aaa2ff7f7",
      "metadata": {
        "id": "3a41f402-bf4f-4dd9-9f41-b47aaa2ff7f7"
      },
      "outputs": [],
      "source": [
        "x=df[\"balance\"].values.reshape(-1,1)\n",
        "rl=LogisticRegression()\n",
        "rl.fit(x,y)\n",
        "y_pred=rl.predict(x)\n",
        "y_prob =rl.predict_proba(x)[:,1]"
      ]
    },
    {
      "cell_type": "code",
      "execution_count": null,
      "id": "83ec9306-da93-4a39-aa54-da07f1a71db0",
      "metadata": {
        "colab": {
          "base_uri": "https://localhost:8080/"
        },
        "id": "83ec9306-da93-4a39-aa54-da07f1a71db0",
        "outputId": "a5322461-a91d-4628-e30b-c90f74e4b11e"
      },
      "outputs": [
        {
          "output_type": "stream",
          "name": "stdout",
          "text": [
            "[-10.65132824] [[0.00549892]]\n"
          ]
        }
      ],
      "source": [
        "print(rl.intercept_,rl.coef_)"
      ]
    },
    {
      "cell_type": "markdown",
      "id": "7c9fd491-1e87-4b54-ad24-ae972ff499cb",
      "metadata": {
        "id": "7c9fd491-1e87-4b54-ad24-ae972ff499cb"
      },
      "source": [
        "2. Idealmente la probabilidad debería ser 100% o 0%. Si alguna predicción no fue absoluta significa que hay incertidumbre. Calcula $p(1-p)$ para todas tus predicciones."
      ]
    },
    {
      "cell_type": "code",
      "execution_count": null,
      "id": "2ec63991-e6cd-48b9-afe1-0e6f2c25578b",
      "metadata": {
        "colab": {
          "base_uri": "https://localhost:8080/"
        },
        "id": "2ec63991-e6cd-48b9-afe1-0e6f2c25578b",
        "outputId": "1d10e739-142e-4fd5-b362-bae6bdcda400"
      },
      "outputs": [
        {
          "output_type": "stream",
          "name": "stdout",
          "text": [
            "p=0.001, p(1-p)=0.001\n",
            "p=0.002, p(1-p)=0.002\n",
            "p=0.009, p(1-p)=0.009\n",
            "p=0.000, p(1-p)=0.000\n",
            "p=0.002, p(1-p)=0.002\n"
          ]
        }
      ],
      "source": [
        "incertidumbre = y_prob * (1 - y_prob)\n",
        "\n",
        "#for i in range(len(df)):\n",
        "for i in range(5):\n",
        "    print(f\"p={y_prob[i]:.3f}, p(1-p)={incertidumbre[i]:.3f}\")"
      ]
    },
    {
      "cell_type": "code",
      "execution_count": null,
      "id": "e897d7b6-97d2-4536-a46d-12e19d083b4f",
      "metadata": {
        "id": "e897d7b6-97d2-4536-a46d-12e19d083b4f"
      },
      "outputs": [],
      "source": []
    },
    {
      "cell_type": "code",
      "execution_count": null,
      "id": "ee34beed-72ae-440b-859e-bb376fda4b81",
      "metadata": {
        "id": "ee34beed-72ae-440b-859e-bb376fda4b81"
      },
      "outputs": [],
      "source": []
    },
    {
      "cell_type": "markdown",
      "id": "f3897eae-d856-4cc9-9224-4988784a2531",
      "metadata": {
        "id": "f3897eae-d856-4cc9-9224-4988784a2531"
      },
      "source": [
        "3. Crea una matriz vacía y llena la diagonal con las probabilidades encontradas.\n",
        "\n",
        "`V = np.diagflat(*p(1-p)*)`"
      ]
    },
    {
      "cell_type": "code",
      "execution_count": null,
      "id": "b0414d6b-f881-4ee7-b406-9be9972aa4d5",
      "metadata": {
        "colab": {
          "base_uri": "https://localhost:8080/"
        },
        "id": "b0414d6b-f881-4ee7-b406-9be9972aa4d5",
        "outputId": "6a355347-d1c7-4699-8bef-e4a690600352"
      },
      "outputs": [
        {
          "output_type": "execute_result",
          "data": {
            "text/plain": [
              "array([[1.30397665e-03, 0.00000000e+00, 0.00000000e+00, ...,\n",
              "        0.00000000e+00, 0.00000000e+00, 0.00000000e+00],\n",
              "       [0.00000000e+00, 2.10813447e-03, 0.00000000e+00, ...,\n",
              "        0.00000000e+00, 0.00000000e+00, 0.00000000e+00],\n",
              "       [0.00000000e+00, 0.00000000e+00, 8.52087844e-03, ...,\n",
              "        0.00000000e+00, 0.00000000e+00, 0.00000000e+00],\n",
              "       ...,\n",
              "       [0.00000000e+00, 0.00000000e+00, 0.00000000e+00, ...,\n",
              "        2.46043226e-03, 0.00000000e+00, 0.00000000e+00],\n",
              "       [0.00000000e+00, 0.00000000e+00, 0.00000000e+00, ...,\n",
              "        0.00000000e+00, 1.03126823e-01, 0.00000000e+00],\n",
              "       [0.00000000e+00, 0.00000000e+00, 0.00000000e+00, ...,\n",
              "        0.00000000e+00, 0.00000000e+00, 7.14425432e-05]])"
            ]
          },
          "metadata": {},
          "execution_count": 151
        }
      ],
      "source": [
        "V = np.diagflat(incertidumbre)\n",
        "V"
      ]
    },
    {
      "cell_type": "code",
      "execution_count": null,
      "id": "e0ce76fe-4da1-49e0-83f3-aafadc4c9a66",
      "metadata": {
        "id": "e0ce76fe-4da1-49e0-83f3-aafadc4c9a66"
      },
      "outputs": [],
      "source": []
    },
    {
      "cell_type": "code",
      "execution_count": null,
      "id": "2154bbbf-3f09-4143-b854-9bac0c3009ca",
      "metadata": {
        "id": "2154bbbf-3f09-4143-b854-9bac0c3009ca"
      },
      "outputs": [],
      "source": []
    },
    {
      "cell_type": "markdown",
      "id": "f8e905e4-9d02-4077-aa3e-e8f2da17491c",
      "metadata": {
        "id": "f8e905e4-9d02-4077-aa3e-e8f2da17491c"
      },
      "source": [
        "4. Calcula la matriz de covarianza. (Dado que X es la matriz que contiene todos los factores)\n",
        "\n",
        "`cov = np.linalg.inv(X.T @ V @ X)`"
      ]
    },
    {
      "cell_type": "code",
      "execution_count": null,
      "id": "0779af66-573e-4340-88e7-521b8e15f765",
      "metadata": {
        "id": "0779af66-573e-4340-88e7-521b8e15f765"
      },
      "outputs": [],
      "source": [
        "X = df[[\"balance\"]].values\n",
        "\n",
        "X = np.column_stack((np.ones(len(X)), X))"
      ]
    },
    {
      "cell_type": "code",
      "execution_count": null,
      "id": "f58130d4-d334-4034-81bc-2734910a658c",
      "metadata": {
        "id": "f58130d4-d334-4034-81bc-2734910a658c"
      },
      "outputs": [],
      "source": [
        "cov = np.linalg.inv(X.T @ V @ X)"
      ]
    },
    {
      "cell_type": "markdown",
      "id": "8a0ebe10-5f57-4f33-98d0-cc62259273ac",
      "metadata": {
        "id": "8a0ebe10-5f57-4f33-98d0-cc62259273ac"
      },
      "source": [
        "5. Los valores en la diagonal de la matriz de covarianza corresponden a la varianza de los factores. Utiliza los valores de la diagonal para calcular el error estándar.\n",
        "\n",
        "`se = np.sqrt(np.diag(cov))`"
      ]
    },
    {
      "cell_type": "code",
      "execution_count": null,
      "id": "99119840-b3b2-4d99-8250-ff777b67cf19",
      "metadata": {
        "id": "99119840-b3b2-4d99-8250-ff777b67cf19"
      },
      "outputs": [],
      "source": [
        "se = np.sqrt(np.diag(cov))"
      ]
    },
    {
      "cell_type": "code",
      "execution_count": null,
      "id": "84d52f3d-dba8-4e77-8cbd-3b7dd7c4d920",
      "metadata": {
        "id": "84d52f3d-dba8-4e77-8cbd-3b7dd7c4d920"
      },
      "outputs": [],
      "source": []
    },
    {
      "cell_type": "markdown",
      "id": "850e3bf5-a888-4985-936c-6655f0109b02",
      "metadata": {
        "id": "850e3bf5-a888-4985-936c-6655f0109b02"
      },
      "source": [
        "Ahora, revisemos si los estimados de nuestros coeficientes demuestran que hay una relación significativa entre los factores y la respuesta.\n",
        "\n",
        "Calculamos el estadístico *z*\n",
        "\n",
        "$$ z_j = \\frac{\\hat{\\beta_j}}{\\text{SE}(\\hat{\\beta_j})} $$"
      ]
    },
    {
      "cell_type": "code",
      "execution_count": null,
      "id": "a49cdb9a-6ad8-4ccf-a408-c13c024d4096",
      "metadata": {
        "id": "a49cdb9a-6ad8-4ccf-a408-c13c024d4096"
      },
      "outputs": [],
      "source": [
        "z0=rl.intercept_/se[0]\n",
        "z1=rl.coef_/se[1]"
      ]
    },
    {
      "cell_type": "code",
      "execution_count": null,
      "id": "1779d07a-583b-4124-b920-7d5b2c0dc089",
      "metadata": {
        "colab": {
          "base_uri": "https://localhost:8080/"
        },
        "id": "1779d07a-583b-4124-b920-7d5b2c0dc089",
        "outputId": "3bfdcf70-100a-42c1-c802-bb108fbf4ad7"
      },
      "outputs": [
        {
          "output_type": "stream",
          "name": "stdout",
          "text": [
            "[-29.49129089] [[24.95240552]]\n"
          ]
        }
      ],
      "source": [
        "print(z0,z1)"
      ]
    },
    {
      "cell_type": "code",
      "execution_count": null,
      "id": "1b545b22-e264-47ba-8846-107983ff7f23",
      "metadata": {
        "id": "1b545b22-e264-47ba-8846-107983ff7f23"
      },
      "outputs": [],
      "source": []
    },
    {
      "cell_type": "markdown",
      "id": "d4b57cc6-6a33-4554-ba5f-1d1570986f00",
      "metadata": {
        "id": "d4b57cc6-6a33-4554-ba5f-1d1570986f00"
      },
      "source": [
        "Utilizamos el estadístico *z* para encontrar el *p-value*.\n",
        "\n",
        "`from scipy.stats import norm`\n",
        "\n",
        "`p_value = 2 * (1 - norm.cdf(abs(z_statistic)))`"
      ]
    },
    {
      "cell_type": "code",
      "execution_count": null,
      "id": "b95028ec-9c4b-48d3-95bb-7210202d9902",
      "metadata": {
        "colab": {
          "base_uri": "https://localhost:8080/"
        },
        "id": "b95028ec-9c4b-48d3-95bb-7210202d9902",
        "outputId": "8a3f6ceb-3fd9-42cd-aae5-c9335b59845e"
      },
      "outputs": [
        {
          "output_type": "execute_result",
          "data": {
            "text/plain": [
              "array([0.])"
            ]
          },
          "metadata": {},
          "execution_count": 157
        }
      ],
      "source": [
        "from scipy.stats import norm\n",
        "\n",
        "p_value0 = 2 * (1 - norm.cdf(abs(z0)))\n",
        "p_value0"
      ]
    },
    {
      "cell_type": "code",
      "execution_count": null,
      "id": "7a38b128-87a1-4ffd-b9f1-d35f72743cb2",
      "metadata": {
        "colab": {
          "base_uri": "https://localhost:8080/"
        },
        "id": "7a38b128-87a1-4ffd-b9f1-d35f72743cb2",
        "outputId": "aef436a7-e432-44f6-b4cf-837eddee16ac"
      },
      "outputs": [
        {
          "output_type": "execute_result",
          "data": {
            "text/plain": [
              "array([[0.]])"
            ]
          },
          "metadata": {},
          "execution_count": 158
        }
      ],
      "source": [
        "p_value1 = 2 * (1 - norm.cdf(abs(z1)))\n",
        "p_value1"
      ]
    },
    {
      "cell_type": "code",
      "execution_count": null,
      "id": "660692fa-a954-4b49-8962-aaccc04b7d0d",
      "metadata": {
        "id": "660692fa-a954-4b49-8962-aaccc04b7d0d"
      },
      "outputs": [],
      "source": []
    },
    {
      "cell_type": "markdown",
      "id": "a465d7b1-1f78-4ae9-84a6-2b766c737e86",
      "metadata": {
        "id": "a465d7b1-1f78-4ae9-84a6-2b766c737e86"
      },
      "source": [
        "¿Es significativa la relación de los factores con la variable de respuesta?"
      ]
    },
    {
      "cell_type": "markdown",
      "id": "24252820-f896-4cda-9ff9-14b1c4e73cc1",
      "metadata": {
        "jp-MarkdownHeadingCollapsed": true,
        "id": "24252820-f896-4cda-9ff9-14b1c4e73cc1"
      },
      "source": [
        "Los resultados muestran que tanto el intercepto (β₀) como el coeficiente de balance (β₁) tienen un p-value igual a 0, lo que indica que ambos son estadísticamente significativos. Esto significa que existe evidencia suficiente para rechazar la hipótesis nula de que sus coeficientes son iguales a cero, y por lo tanto podemos concluir que el balance tiene una relación significativa con la probabilidad de que un cliente caiga en default."
      ]
    },
    {
      "cell_type": "markdown",
      "id": "a35fcf79-f150-4d91-a3ba-dd0c0005b379",
      "metadata": {
        "id": "a35fcf79-f150-4d91-a3ba-dd0c0005b379"
      },
      "source": []
    },
    {
      "cell_type": "markdown",
      "id": "255eee0a-7073-4595-ac4b-5e8275448eec",
      "metadata": {
        "id": "255eee0a-7073-4595-ac4b-5e8275448eec"
      },
      "source": []
    },
    {
      "cell_type": "markdown",
      "id": "d436f218-93ab-4319-98b7-f9b2ea222efd",
      "metadata": {
        "id": "d436f218-93ab-4319-98b7-f9b2ea222efd"
      },
      "source": [
        "Repite el procedimiento con el factor `student`.\n",
        "1. Transforma el factor de {\"Yes\", \"No\"} a {1, 0}.\n",
        "2. Estima los coeficientes.\n",
        "3. Calcula el error estándar de tus estimaciones.\n",
        "   1. Usa tu modelo para encontrar $\\hat{p}(X)$\n",
        "   2. Calcula el error $p(1-p)$\n",
        "   3. Calcula la matriz de covarianza\n",
        "   4. Extrae el error estándar\n",
        "5. Argumenta si los factores son significativos utilizando el *p-value*.\n",
        "   1. Utiliza el error estándar para calcular el estadístico *z*\n",
        "   2. Calcula el *p-value*\n",
        "   3. ¿Son significativos?\n"
      ]
    },
    {
      "cell_type": "markdown",
      "source": [
        "1."
      ],
      "metadata": {
        "id": "krLX1ybH5WH0"
      },
      "id": "krLX1ybH5WH0"
    },
    {
      "cell_type": "code",
      "execution_count": null,
      "id": "73a2c768-6032-4c63-8d41-611c11e1fed5",
      "metadata": {
        "id": "73a2c768-6032-4c63-8d41-611c11e1fed5"
      },
      "outputs": [],
      "source": [
        "X_f = (df[\"student\"] == \"Yes\").astype(int).values.reshape(-1,1)\n",
        "X1 = np.column_stack([np.ones(len(X_f)), X_f])"
      ]
    },
    {
      "cell_type": "markdown",
      "source": [
        "2."
      ],
      "metadata": {
        "id": "LlOJlWP15arb"
      },
      "id": "LlOJlWP15arb"
    },
    {
      "cell_type": "code",
      "execution_count": null,
      "id": "ef7cd598-ac3f-464b-91e3-f43d54040933",
      "metadata": {
        "colab": {
          "base_uri": "https://localhost:8080/"
        },
        "id": "ef7cd598-ac3f-464b-91e3-f43d54040933",
        "outputId": "309497ba-df6b-468d-d227-ba12819d2d03"
      },
      "outputs": [
        {
          "output_type": "stream",
          "name": "stdout",
          "text": [
            "[-3.50257249] [[0.39620888]]\n"
          ]
        }
      ],
      "source": [
        "rl=LogisticRegression()\n",
        "rl.fit(X_f,y)\n",
        "y_pred=rl.predict(X_f)\n",
        "y_prob =rl.predict_proba(X_f)[:,1]\n",
        "print(rl.intercept_,rl.coef_)"
      ]
    },
    {
      "cell_type": "markdown",
      "source": [
        "3."
      ],
      "metadata": {
        "id": "-1JGSYCV5jFa"
      },
      "id": "-1JGSYCV5jFa"
    },
    {
      "cell_type": "code",
      "source": [
        "incertidumbre = y_prob * (1 - y_prob)\n",
        "V = np.diagflat(incertidumbre)"
      ],
      "metadata": {
        "id": "iWwNeJFy5qh6"
      },
      "id": "iWwNeJFy5qh6",
      "execution_count": null,
      "outputs": []
    },
    {
      "cell_type": "code",
      "execution_count": null,
      "id": "22862547-7f77-4aaa-82a8-e2474f22461b",
      "metadata": {
        "id": "22862547-7f77-4aaa-82a8-e2474f22461b"
      },
      "outputs": [],
      "source": [
        "cov = np.linalg.inv(X1.T @ V @ X1)\n",
        "se = np.sqrt(np.diag(cov))"
      ]
    },
    {
      "cell_type": "code",
      "source": [
        "z0=rl.intercept_/se[0]\n",
        "z1=rl.coef_/se[1]"
      ],
      "metadata": {
        "id": "cJ6hCRt45-AE"
      },
      "id": "cJ6hCRt45-AE",
      "execution_count": null,
      "outputs": []
    },
    {
      "cell_type": "markdown",
      "source": [
        "4."
      ],
      "metadata": {
        "id": "LYp2cWz-6CbD"
      },
      "id": "LYp2cWz-6CbD"
    },
    {
      "cell_type": "code",
      "source": [
        "p_value0 = 2 * (1 - norm.cdf(abs(z0)))\n",
        "p_value0"
      ],
      "metadata": {
        "colab": {
          "base_uri": "https://localhost:8080/"
        },
        "id": "LPQE0Lof4iDW",
        "outputId": "53c5723f-07ef-4bf5-d4d2-f21fea965be6"
      },
      "id": "LPQE0Lof4iDW",
      "execution_count": null,
      "outputs": [
        {
          "output_type": "execute_result",
          "data": {
            "text/plain": [
              "array([0.])"
            ]
          },
          "metadata": {},
          "execution_count": 164
        }
      ]
    },
    {
      "cell_type": "code",
      "source": [
        "p_value1 = 2 * (1 - norm.cdf(abs(z1)))\n",
        "p_value1"
      ],
      "metadata": {
        "colab": {
          "base_uri": "https://localhost:8080/"
        },
        "id": "oADr7xR95B-e",
        "outputId": "a3ffcf64-d160-4bd4-e020-0081e2186b07"
      },
      "id": "oADr7xR95B-e",
      "execution_count": null,
      "outputs": [
        {
          "output_type": "execute_result",
          "data": {
            "text/plain": [
              "array([[0.00058452]])"
            ]
          },
          "metadata": {},
          "execution_count": 165
        }
      ]
    },
    {
      "cell_type": "markdown",
      "source": [
        "Tanto el intercepto como el coeficiente de student son estadísticamente significativos, ya que sus p-values son cercanos a 0. Esto significa que existe una relación clara entre ser estudiante y la probabilidad de caer en default."
      ],
      "metadata": {
        "id": "z_jSwUg242BU"
      },
      "id": "z_jSwUg242BU"
    },
    {
      "cell_type": "code",
      "source": [],
      "metadata": {
        "id": "YKygRr1x41iz"
      },
      "id": "YKygRr1x41iz",
      "execution_count": null,
      "outputs": []
    },
    {
      "cell_type": "markdown",
      "id": "78e212e9-c505-4db4-8e7a-e533f11d1286",
      "metadata": {
        "id": "78e212e9-c505-4db4-8e7a-e533f11d1286"
      },
      "source": [
        "## Regresión logística múltiple"
      ]
    },
    {
      "cell_type": "markdown",
      "id": "9ac8c6c2-5e15-4684-9bd9-c31854d75fe1",
      "metadata": {
        "id": "9ac8c6c2-5e15-4684-9bd9-c31854d75fe1"
      },
      "source": [
        "Considera ahora el caso de múltiples factores. Intentemos predecir si la persona dejará de pagar su crédito utilizando toda la información que tenemos disponible. I.e.\n",
        "\n",
        "$$ P(\\text{default}=1|\\text{balance}, \\text{income}, \\text{student}) = \\frac{1}{1 + e^{-(\\beta_0 + \\beta_1  \\text{balance} + \\beta_2 \\text{income} + \\beta_3 \\text{student})}} $$"
      ]
    },
    {
      "cell_type": "markdown",
      "id": "9ae17c0f-e754-4287-bc34-f04396100460",
      "metadata": {
        "id": "9ae17c0f-e754-4287-bc34-f04396100460"
      },
      "source": [
        "1. Utiliza `LogisticRegression` para estimar los coeficientes.\n",
        "2. Calcula el error estándar de tus estimaciones.\n",
        "3. Argumenta si los factores son significativos utilizando el *p-value*."
      ]
    },
    {
      "cell_type": "code",
      "execution_count": null,
      "id": "e7e36334-79c4-43c8-9006-da1ddf534dd6",
      "metadata": {
        "id": "e7e36334-79c4-43c8-9006-da1ddf534dd6"
      },
      "outputs": [],
      "source": [
        "X_f = df[[\"balance\",\"income\", \"student\"]].copy()\n",
        "X_f[\"student\"] = (X_f[\"student\"] == \"Yes\").astype(int)\n",
        "X_f = X_f.values\n",
        "X = np.column_stack([np.ones(len(X_f)), X_f])"
      ]
    },
    {
      "cell_type": "code",
      "execution_count": null,
      "id": "d49d4ed6-3732-4630-8445-8ae48f4135e1",
      "metadata": {
        "colab": {
          "base_uri": "https://localhost:8080/"
        },
        "id": "d49d4ed6-3732-4630-8445-8ae48f4135e1",
        "outputId": "67b7688d-6f1f-4c35-ee83-9a02c256af95"
      },
      "outputs": [
        {
          "output_type": "stream",
          "name": "stderr",
          "text": [
            "/usr/local/lib/python3.12/dist-packages/sklearn/linear_model/_logistic.py:465: ConvergenceWarning: lbfgs failed to converge (status=1):\n",
            "STOP: TOTAL NO. OF ITERATIONS REACHED LIMIT.\n",
            "\n",
            "Increase the number of iterations (max_iter) or scale the data as shown in:\n",
            "    https://scikit-learn.org/stable/modules/preprocessing.html\n",
            "Please also refer to the documentation for alternative solver options:\n",
            "    https://scikit-learn.org/stable/modules/linear_model.html#logistic-regression\n",
            "  n_iter_i = _check_optimize_result(\n"
          ]
        }
      ],
      "source": [
        "LR=LogisticRegression()\n",
        "LR.fit(X,y)\n",
        "y_pred=LR.predict(X)\n",
        "y_prob =LR.predict_proba(X)[:,1]"
      ]
    },
    {
      "cell_type": "code",
      "source": [
        "incertidumbre = y_prob * (1 - y_prob)\n",
        "V = np.diagflat(incertidumbre)\n",
        "cov = np.linalg.inv(X.T @ V @ X)\n",
        "se = np.sqrt(np.diag(cov))"
      ],
      "metadata": {
        "id": "5TQuV1Cf7xzK"
      },
      "id": "5TQuV1Cf7xzK",
      "execution_count": null,
      "outputs": []
    },
    {
      "cell_type": "code",
      "source": [
        "z0=LR.intercept_/se[0]\n",
        "z1=LR.coef_[0,0]/se[1]\n",
        "z2=LR.coef_[0,1]/se[2]\n",
        "z3=LR.coef_[0,2]/se[3]"
      ],
      "metadata": {
        "id": "PnS-vj8F7xlr"
      },
      "id": "PnS-vj8F7xlr",
      "execution_count": null,
      "outputs": []
    },
    {
      "cell_type": "code",
      "source": [
        "p_value0 = 2 * (1 - norm.cdf(abs(z0)))\n",
        "p_value0"
      ],
      "metadata": {
        "colab": {
          "base_uri": "https://localhost:8080/"
        },
        "id": "4kKwv6hH7xYy",
        "outputId": "a888cc6a-4923-4fef-8604-6efd0c402108"
      },
      "id": "4kKwv6hH7xYy",
      "execution_count": null,
      "outputs": [
        {
          "output_type": "execute_result",
          "data": {
            "text/plain": [
              "array([0.])"
            ]
          },
          "metadata": {},
          "execution_count": 170
        }
      ]
    },
    {
      "cell_type": "code",
      "source": [
        "p_value1 = 2 * (1 - norm.cdf(abs(z1)))\n",
        "p_value1"
      ],
      "metadata": {
        "colab": {
          "base_uri": "https://localhost:8080/"
        },
        "id": "rHq2GGRG7xOt",
        "outputId": "e3f59251-9727-4afa-ed3c-71ce767f6ade"
      },
      "id": "rHq2GGRG7xOt",
      "execution_count": null,
      "outputs": [
        {
          "output_type": "execute_result",
          "data": {
            "text/plain": [
              "np.float64(0.0)"
            ]
          },
          "metadata": {},
          "execution_count": 171
        }
      ]
    },
    {
      "cell_type": "code",
      "source": [
        "p_value2 = 2 * (1 - norm.cdf(abs(z2)))\n",
        "p_value2"
      ],
      "metadata": {
        "colab": {
          "base_uri": "https://localhost:8080/"
        },
        "id": "AAX6pb7B87Lq",
        "outputId": "ac735bcb-ae27-47e8-e798-581e1eb6d7cd"
      },
      "id": "AAX6pb7B87Lq",
      "execution_count": null,
      "outputs": [
        {
          "output_type": "execute_result",
          "data": {
            "text/plain": [
              "np.float64(0.0)"
            ]
          },
          "metadata": {},
          "execution_count": 172
        }
      ]
    },
    {
      "cell_type": "markdown",
      "source": [
        "Todos los coeficientes son estadísticamente significativos, existe evidencia suficiente para rechazar la hipótesis nula."
      ],
      "metadata": {
        "id": "ORY4dTYF9Fbx"
      },
      "id": "ORY4dTYF9Fbx"
    },
    {
      "cell_type": "markdown",
      "id": "c251eb97-5c7e-470b-b95b-c04a6f8831ff",
      "metadata": {
        "id": "c251eb97-5c7e-470b-b95b-c04a6f8831ff"
      },
      "source": [
        "¿Cómo sabemos qué tan bueno es el modelo? Hay cuatro posibles casos para un problema de clasificación simple:\n",
        "- Era sí y se predijo sí. (Verdadero positivo **TP**)\n",
        "- Era sí y se predijo no. (Falso negativo **FN**)\n",
        "- Era no y se predijo sí. (Falso positivo **FP**)\n",
        "- Era no y se predijo no. (Verdadero negativo **TN**)\n",
        "\n",
        "De esos cuatro casos hay dos donde el modelo es correcto y dos donde el modelo no es correcto."
      ]
    },
    {
      "cell_type": "markdown",
      "id": "c30ff1dd-5ed3-4ec2-8f21-1b11b34db645",
      "metadata": {
        "id": "c30ff1dd-5ed3-4ec2-8f21-1b11b34db645"
      },
      "source": [
        "![](https://miro.medium.com/v2/resize:fit:720/format:webp/1*IuymDnZpRlkat0qejE26Nw.png)"
      ]
    },
    {
      "cell_type": "markdown",
      "id": "6510780d-6b24-41dc-a755-41daf62396ac",
      "metadata": {
        "id": "6510780d-6b24-41dc-a755-41daf62396ac"
      },
      "source": [
        "1. Menciona dos ejemplos donde consideres que un falso positivo sea un peor resultado que un falso negativo."
      ]
    },
    {
      "cell_type": "markdown",
      "id": "db97be2c-cd7d-4c44-9459-28286d261904",
      "metadata": {
        "id": "db97be2c-cd7d-4c44-9459-28286d261904"
      },
      "source": [
        "*   En el diagnóstico de una enfermedad grave: que el modelo prediga que una persona tiene cancer cuando no la tenga.\n",
        "*   Detección de fraude: que sea una transacción legítima, y el sistema la tome como fraude.\n",
        "\n"
      ]
    },
    {
      "cell_type": "markdown",
      "id": "9f870dc7-ae32-464f-a22d-d3b073c894ec",
      "metadata": {
        "id": "9f870dc7-ae32-464f-a22d-d3b073c894ec"
      },
      "source": []
    },
    {
      "cell_type": "markdown",
      "id": "a709cdbb-6de3-4117-ba06-59feaab58865",
      "metadata": {
        "id": "a709cdbb-6de3-4117-ba06-59feaab58865"
      },
      "source": []
    },
    {
      "cell_type": "markdown",
      "id": "994601c2-a7ff-4406-9235-d9b6bb5054bd",
      "metadata": {
        "id": "994601c2-a7ff-4406-9235-d9b6bb5054bd"
      },
      "source": [
        "2. Menciona dos ejemplos donde consideres que un falso negativo sea un peor resultado que un falso positivo."
      ]
    },
    {
      "cell_type": "markdown",
      "id": "91e4ec0d-9d8e-4aba-a590-14f02cf68a47",
      "metadata": {
        "id": "91e4ec0d-9d8e-4aba-a590-14f02cf68a47"
      },
      "source": [
        "*   Detección de incendios: si un sensor no detecta un incendio cuando realmente esta ocurriendo.\n",
        "*   Prueba de embarazo: que diga que no estas embarazada cuando si estas.\n",
        "\n"
      ]
    },
    {
      "cell_type": "markdown",
      "id": "15db3797-05d5-4cce-87d9-42c5ecbd3c3e",
      "metadata": {
        "id": "15db3797-05d5-4cce-87d9-42c5ecbd3c3e"
      },
      "source": []
    },
    {
      "cell_type": "markdown",
      "id": "3202b95e-cb0d-4891-b07e-5981e67eab3f",
      "metadata": {
        "id": "3202b95e-cb0d-4891-b07e-5981e67eab3f"
      },
      "source": []
    },
    {
      "cell_type": "markdown",
      "id": "ea6276ff-dad9-4caf-a6ed-a23a60ac7ada",
      "metadata": {
        "id": "ea6276ff-dad9-4caf-a6ed-a23a60ac7ada"
      },
      "source": [
        "## Referencia\n",
        "\n",
        "James, G., Witten, D., Hastie, T., Tibshirani, R.,, Taylor, J. (2023). An Introduction to Statistical Learning with Applications in Python. Cham: Springer. ISBN: 978-3-031-38746-3"
      ]
    }
  ],
  "metadata": {
    "kernelspec": {
      "display_name": "Python 3 (ipykernel)",
      "language": "python",
      "name": "python3"
    },
    "language_info": {
      "codemirror_mode": {
        "name": "ipython",
        "version": 3
      },
      "file_extension": ".py",
      "mimetype": "text/x-python",
      "name": "python",
      "nbconvert_exporter": "python",
      "pygments_lexer": "ipython3",
      "version": "3.12.7"
    },
    "colab": {
      "provenance": []
    }
  },
  "nbformat": 4,
  "nbformat_minor": 5
}